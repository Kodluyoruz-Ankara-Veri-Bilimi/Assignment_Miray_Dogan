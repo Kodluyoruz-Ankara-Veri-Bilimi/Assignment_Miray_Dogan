{
 "cells": [
  {
   "cell_type": "code",
   "execution_count": 1,
   "metadata": {},
   "outputs": [],
   "source": [
    "import numpy as np \n",
    "import pandas as pd\n",
    "import matplotlib.pyplot as plt\n",
    "import seaborn as sns\n",
    "import os\n",
    "os.getcwd()\n",
    "os.chdir( \"C:/Users/Miray/Desktop\")\n",
    "os.getcwd()\n",
    "import statsmodels.api as sm \n",
    "import statsmodels.formula.api as smf \n",
    "from sklearn.preprocessing import scale, MinMaxScaler\n",
    "from sklearn.model_selection import train_test_split, GridSearchCV, cross_val_score\n",
    "from sklearn.metrics import confusion_matrix, precision_score, recall_score, accuracy_score, classification_report\n",
    "from sklearn.metrics import roc_auc_score, roc_curve, mean_squared_error\n",
    "from sklearn import tree \n",
    "from sklearn.naive_bayes import GaussianNB\n",
    "from warnings import filterwarnings\n",
    "filterwarnings('ignore')"
   ]
  },
  {
   "cell_type": "markdown",
   "metadata": {},
   "source": [
    "**Bu notebook'ta Target 90 değişkeni Class'a dönüştürülmüştür ve Naive Bayes (Multinomial)  uygulanmıştır.\n",
    "Ön işleme olarak scaler edilmiştir.**"
   ]
  },
  {
   "cell_type": "code",
   "execution_count": 2,
   "metadata": {},
   "outputs": [
    {
     "name": "stdout",
     "output_type": "stream",
     "text": [
      "ind_109 :  2\n"
     ]
    }
   ],
   "source": [
    "odv=pd.read_csv(\"odev.csv\")\n",
    "df=odv.copy()\n",
    "df.loc[df[df[\"ind_420\"] == \"?\"].index] = np.nan \n",
    "df[\"ind_422\"] = df[\"ind_422\"].astype('float64')\n",
    "df[\"ind_420\"] = df[\"ind_420\"].astype('float64')\n",
    "df.dropna()\n",
    "for i in df.select_dtypes(include=[\"object\"]).columns:\n",
    "    print(i,\": \",df[i].value_counts().count())"
   ]
  },
  {
   "cell_type": "code",
   "execution_count": 3,
   "metadata": {},
   "outputs": [
    {
     "data": {
      "text/plain": [
       "False"
      ]
     },
     "execution_count": 3,
     "metadata": {},
     "output_type": "execute_result"
    }
   ],
   "source": [
    "df.dropna()\n",
    "df.dropna(axis=0,inplace=True)\n",
    "df.isnull().values.any()"
   ]
  },
  {
   "cell_type": "code",
   "execution_count": 4,
   "metadata": {},
   "outputs": [],
   "source": [
    "columns = ['20_target','50_target']\n",
    "df.drop(columns, inplace=True, axis=1)\n"
   ]
  },
  {
   "cell_type": "code",
   "execution_count": 5,
   "metadata": {},
   "outputs": [],
   "source": [
    "target_90=[]\n",
    "\n",
    "for i in df['90_target']: \n",
    "    \n",
    "    if i == 0 :\n",
    "    \n",
    "        target_90.append('notr')\n",
    "    \n",
    "    elif i < 0: \n",
    "    \n",
    "        target_90.append('negatif')\n",
    "        \n",
    "    else :\n",
    "        \n",
    "        target_90.append('pozitif')\n",
    "    \n",
    "df['target_90'] = target_90"
   ]
  },
  {
   "cell_type": "markdown",
   "metadata": {},
   "source": [
    "# Target 90 üç sınıfa dönüştürüldü."
   ]
  },
  {
   "cell_type": "code",
   "execution_count": 6,
   "metadata": {},
   "outputs": [],
   "source": [
    "columns = ['90_target']\n",
    "df.drop(columns, inplace=True, axis=1)\n"
   ]
  },
  {
   "cell_type": "code",
   "execution_count": 7,
   "metadata": {},
   "outputs": [
    {
     "data": {
      "text/html": [
       "<div>\n",
       "<style scoped>\n",
       "    .dataframe tbody tr th:only-of-type {\n",
       "        vertical-align: middle;\n",
       "    }\n",
       "\n",
       "    .dataframe tbody tr th {\n",
       "        vertical-align: top;\n",
       "    }\n",
       "\n",
       "    .dataframe thead th {\n",
       "        text-align: right;\n",
       "    }\n",
       "</style>\n",
       "<table border=\"1\" class=\"dataframe\">\n",
       "  <thead>\n",
       "    <tr style=\"text-align: right;\">\n",
       "      <th></th>\n",
       "      <th>ind_5</th>\n",
       "      <th>ind_6</th>\n",
       "      <th>ind_8</th>\n",
       "      <th>ind_9</th>\n",
       "      <th>ind_10</th>\n",
       "      <th>ind_12</th>\n",
       "      <th>ind_13</th>\n",
       "      <th>ind_14</th>\n",
       "      <th>ind_15</th>\n",
       "      <th>ind_16</th>\n",
       "      <th>...</th>\n",
       "      <th>ind_412</th>\n",
       "      <th>ind_414</th>\n",
       "      <th>ind_416</th>\n",
       "      <th>ind_418</th>\n",
       "      <th>ind_420</th>\n",
       "      <th>ind_422</th>\n",
       "      <th>ind_424</th>\n",
       "      <th>ind_426</th>\n",
       "      <th>ind_428</th>\n",
       "      <th>target_90</th>\n",
       "    </tr>\n",
       "  </thead>\n",
       "  <tbody>\n",
       "    <tr>\n",
       "      <th>0</th>\n",
       "      <td>19.0</td>\n",
       "      <td>17.0</td>\n",
       "      <td>100.0</td>\n",
       "      <td>85.714286</td>\n",
       "      <td>14.285714</td>\n",
       "      <td>72.363515</td>\n",
       "      <td>60.808814</td>\n",
       "      <td>23.80</td>\n",
       "      <td>17.62</td>\n",
       "      <td>11.73</td>\n",
       "      <td>...</td>\n",
       "      <td>0.002371</td>\n",
       "      <td>2.0</td>\n",
       "      <td>-49.6</td>\n",
       "      <td>-54.0</td>\n",
       "      <td>-152.0</td>\n",
       "      <td>-353.0</td>\n",
       "      <td>1.0</td>\n",
       "      <td>0.498547</td>\n",
       "      <td>0.701906</td>\n",
       "      <td>pozitif</td>\n",
       "    </tr>\n",
       "    <tr>\n",
       "      <th>1</th>\n",
       "      <td>24.0</td>\n",
       "      <td>19.0</td>\n",
       "      <td>100.0</td>\n",
       "      <td>78.571429</td>\n",
       "      <td>21.428571</td>\n",
       "      <td>74.275883</td>\n",
       "      <td>64.366798</td>\n",
       "      <td>11.45</td>\n",
       "      <td>18.16</td>\n",
       "      <td>12.22</td>\n",
       "      <td>...</td>\n",
       "      <td>0.003074</td>\n",
       "      <td>0.8</td>\n",
       "      <td>-55.6</td>\n",
       "      <td>-60.0</td>\n",
       "      <td>-158.0</td>\n",
       "      <td>-359.0</td>\n",
       "      <td>1.0</td>\n",
       "      <td>0.537088</td>\n",
       "      <td>0.690833</td>\n",
       "      <td>pozitif</td>\n",
       "    </tr>\n",
       "    <tr>\n",
       "      <th>2</th>\n",
       "      <td>30.0</td>\n",
       "      <td>24.0</td>\n",
       "      <td>100.0</td>\n",
       "      <td>71.428571</td>\n",
       "      <td>28.571429</td>\n",
       "      <td>75.140402</td>\n",
       "      <td>65.915803</td>\n",
       "      <td>8.75</td>\n",
       "      <td>17.86</td>\n",
       "      <td>12.28</td>\n",
       "      <td>...</td>\n",
       "      <td>0.003561</td>\n",
       "      <td>2.7</td>\n",
       "      <td>-58.4</td>\n",
       "      <td>-60.0</td>\n",
       "      <td>-160.0</td>\n",
       "      <td>-362.0</td>\n",
       "      <td>1.0</td>\n",
       "      <td>0.615169</td>\n",
       "      <td>0.693040</td>\n",
       "      <td>negatif</td>\n",
       "    </tr>\n",
       "    <tr>\n",
       "      <th>3</th>\n",
       "      <td>37.0</td>\n",
       "      <td>30.0</td>\n",
       "      <td>100.0</td>\n",
       "      <td>64.285714</td>\n",
       "      <td>35.714286</td>\n",
       "      <td>76.677846</td>\n",
       "      <td>68.584234</td>\n",
       "      <td>7.80</td>\n",
       "      <td>14.76</td>\n",
       "      <td>12.61</td>\n",
       "      <td>...</td>\n",
       "      <td>0.004366</td>\n",
       "      <td>0.9</td>\n",
       "      <td>-61.8</td>\n",
       "      <td>-65.0</td>\n",
       "      <td>-166.0</td>\n",
       "      <td>-367.0</td>\n",
       "      <td>1.0</td>\n",
       "      <td>0.661517</td>\n",
       "      <td>0.673418</td>\n",
       "      <td>negatif</td>\n",
       "    </tr>\n",
       "    <tr>\n",
       "      <th>4</th>\n",
       "      <td>41.0</td>\n",
       "      <td>37.0</td>\n",
       "      <td>100.0</td>\n",
       "      <td>57.142857</td>\n",
       "      <td>42.857143</td>\n",
       "      <td>81.603007</td>\n",
       "      <td>76.455495</td>\n",
       "      <td>14.90</td>\n",
       "      <td>11.92</td>\n",
       "      <td>14.25</td>\n",
       "      <td>...</td>\n",
       "      <td>0.004198</td>\n",
       "      <td>0.1</td>\n",
       "      <td>-79.8</td>\n",
       "      <td>-86.0</td>\n",
       "      <td>-186.0</td>\n",
       "      <td>-388.0</td>\n",
       "      <td>1.0</td>\n",
       "      <td>0.747204</td>\n",
       "      <td>0.700522</td>\n",
       "      <td>negatif</td>\n",
       "    </tr>\n",
       "  </tbody>\n",
       "</table>\n",
       "<p>5 rows × 134 columns</p>\n",
       "</div>"
      ],
      "text/plain": [
       "   ind_5  ind_6  ind_8      ind_9     ind_10     ind_12     ind_13  ind_14  \\\n",
       "0   19.0   17.0  100.0  85.714286  14.285714  72.363515  60.808814   23.80   \n",
       "1   24.0   19.0  100.0  78.571429  21.428571  74.275883  64.366798   11.45   \n",
       "2   30.0   24.0  100.0  71.428571  28.571429  75.140402  65.915803    8.75   \n",
       "3   37.0   30.0  100.0  64.285714  35.714286  76.677846  68.584234    7.80   \n",
       "4   41.0   37.0  100.0  57.142857  42.857143  81.603007  76.455495   14.90   \n",
       "\n",
       "   ind_15  ind_16  ...   ind_412  ind_414  ind_416  ind_418  ind_420  ind_422  \\\n",
       "0   17.62   11.73  ...  0.002371      2.0    -49.6    -54.0   -152.0   -353.0   \n",
       "1   18.16   12.22  ...  0.003074      0.8    -55.6    -60.0   -158.0   -359.0   \n",
       "2   17.86   12.28  ...  0.003561      2.7    -58.4    -60.0   -160.0   -362.0   \n",
       "3   14.76   12.61  ...  0.004366      0.9    -61.8    -65.0   -166.0   -367.0   \n",
       "4   11.92   14.25  ...  0.004198      0.1    -79.8    -86.0   -186.0   -388.0   \n",
       "\n",
       "   ind_424   ind_426   ind_428  target_90  \n",
       "0      1.0  0.498547  0.701906    pozitif  \n",
       "1      1.0  0.537088  0.690833    pozitif  \n",
       "2      1.0  0.615169  0.693040    negatif  \n",
       "3      1.0  0.661517  0.673418    negatif  \n",
       "4      1.0  0.747204  0.700522    negatif  \n",
       "\n",
       "[5 rows x 134 columns]"
      ]
     },
     "execution_count": 7,
     "metadata": {},
     "output_type": "execute_result"
    }
   ],
   "source": [
    "df.head()"
   ]
  },
  {
   "cell_type": "code",
   "execution_count": 28,
   "metadata": {},
   "outputs": [
    {
     "data": {
      "text/plain": [
       "negatif    2810\n",
       "pozitif    2244\n",
       "notr         72\n",
       "Name: target_90, dtype: int64"
      ]
     },
     "execution_count": 28,
     "metadata": {},
     "output_type": "execute_result"
    }
   ],
   "source": [
    "df[\"target_90\"].value_counts()"
   ]
  },
  {
   "cell_type": "code",
   "execution_count": 8,
   "metadata": {},
   "outputs": [
    {
     "data": {
      "text/html": [
       "<div>\n",
       "<style scoped>\n",
       "    .dataframe tbody tr th:only-of-type {\n",
       "        vertical-align: middle;\n",
       "    }\n",
       "\n",
       "    .dataframe tbody tr th {\n",
       "        vertical-align: top;\n",
       "    }\n",
       "\n",
       "    .dataframe thead th {\n",
       "        text-align: right;\n",
       "    }\n",
       "</style>\n",
       "<table border=\"1\" class=\"dataframe\">\n",
       "  <thead>\n",
       "    <tr style=\"text-align: right;\">\n",
       "      <th></th>\n",
       "      <th>ind_5</th>\n",
       "      <th>ind_6</th>\n",
       "      <th>ind_8</th>\n",
       "      <th>ind_9</th>\n",
       "      <th>ind_10</th>\n",
       "      <th>ind_12</th>\n",
       "      <th>ind_13</th>\n",
       "      <th>ind_14</th>\n",
       "      <th>ind_15</th>\n",
       "      <th>ind_16</th>\n",
       "      <th>...</th>\n",
       "      <th>ind_412</th>\n",
       "      <th>ind_414</th>\n",
       "      <th>ind_416</th>\n",
       "      <th>ind_418</th>\n",
       "      <th>ind_420</th>\n",
       "      <th>ind_422</th>\n",
       "      <th>ind_424</th>\n",
       "      <th>ind_426</th>\n",
       "      <th>ind_428</th>\n",
       "      <th>ind_109_GREEN</th>\n",
       "    </tr>\n",
       "  </thead>\n",
       "  <tbody>\n",
       "    <tr>\n",
       "      <th>0</th>\n",
       "      <td>19.0</td>\n",
       "      <td>17.0</td>\n",
       "      <td>100.0</td>\n",
       "      <td>85.714286</td>\n",
       "      <td>14.285714</td>\n",
       "      <td>72.363515</td>\n",
       "      <td>60.808814</td>\n",
       "      <td>23.80</td>\n",
       "      <td>17.62</td>\n",
       "      <td>11.73</td>\n",
       "      <td>...</td>\n",
       "      <td>0.002371</td>\n",
       "      <td>2.0</td>\n",
       "      <td>-49.6</td>\n",
       "      <td>-54.0</td>\n",
       "      <td>-152.0</td>\n",
       "      <td>-353.0</td>\n",
       "      <td>1.0</td>\n",
       "      <td>0.498547</td>\n",
       "      <td>0.701906</td>\n",
       "      <td>1</td>\n",
       "    </tr>\n",
       "    <tr>\n",
       "      <th>1</th>\n",
       "      <td>24.0</td>\n",
       "      <td>19.0</td>\n",
       "      <td>100.0</td>\n",
       "      <td>78.571429</td>\n",
       "      <td>21.428571</td>\n",
       "      <td>74.275883</td>\n",
       "      <td>64.366798</td>\n",
       "      <td>11.45</td>\n",
       "      <td>18.16</td>\n",
       "      <td>12.22</td>\n",
       "      <td>...</td>\n",
       "      <td>0.003074</td>\n",
       "      <td>0.8</td>\n",
       "      <td>-55.6</td>\n",
       "      <td>-60.0</td>\n",
       "      <td>-158.0</td>\n",
       "      <td>-359.0</td>\n",
       "      <td>1.0</td>\n",
       "      <td>0.537088</td>\n",
       "      <td>0.690833</td>\n",
       "      <td>1</td>\n",
       "    </tr>\n",
       "    <tr>\n",
       "      <th>2</th>\n",
       "      <td>30.0</td>\n",
       "      <td>24.0</td>\n",
       "      <td>100.0</td>\n",
       "      <td>71.428571</td>\n",
       "      <td>28.571429</td>\n",
       "      <td>75.140402</td>\n",
       "      <td>65.915803</td>\n",
       "      <td>8.75</td>\n",
       "      <td>17.86</td>\n",
       "      <td>12.28</td>\n",
       "      <td>...</td>\n",
       "      <td>0.003561</td>\n",
       "      <td>2.7</td>\n",
       "      <td>-58.4</td>\n",
       "      <td>-60.0</td>\n",
       "      <td>-160.0</td>\n",
       "      <td>-362.0</td>\n",
       "      <td>1.0</td>\n",
       "      <td>0.615169</td>\n",
       "      <td>0.693040</td>\n",
       "      <td>1</td>\n",
       "    </tr>\n",
       "    <tr>\n",
       "      <th>3</th>\n",
       "      <td>37.0</td>\n",
       "      <td>30.0</td>\n",
       "      <td>100.0</td>\n",
       "      <td>64.285714</td>\n",
       "      <td>35.714286</td>\n",
       "      <td>76.677846</td>\n",
       "      <td>68.584234</td>\n",
       "      <td>7.80</td>\n",
       "      <td>14.76</td>\n",
       "      <td>12.61</td>\n",
       "      <td>...</td>\n",
       "      <td>0.004366</td>\n",
       "      <td>0.9</td>\n",
       "      <td>-61.8</td>\n",
       "      <td>-65.0</td>\n",
       "      <td>-166.0</td>\n",
       "      <td>-367.0</td>\n",
       "      <td>1.0</td>\n",
       "      <td>0.661517</td>\n",
       "      <td>0.673418</td>\n",
       "      <td>1</td>\n",
       "    </tr>\n",
       "    <tr>\n",
       "      <th>4</th>\n",
       "      <td>41.0</td>\n",
       "      <td>37.0</td>\n",
       "      <td>100.0</td>\n",
       "      <td>57.142857</td>\n",
       "      <td>42.857143</td>\n",
       "      <td>81.603007</td>\n",
       "      <td>76.455495</td>\n",
       "      <td>14.90</td>\n",
       "      <td>11.92</td>\n",
       "      <td>14.25</td>\n",
       "      <td>...</td>\n",
       "      <td>0.004198</td>\n",
       "      <td>0.1</td>\n",
       "      <td>-79.8</td>\n",
       "      <td>-86.0</td>\n",
       "      <td>-186.0</td>\n",
       "      <td>-388.0</td>\n",
       "      <td>1.0</td>\n",
       "      <td>0.747204</td>\n",
       "      <td>0.700522</td>\n",
       "      <td>1</td>\n",
       "    </tr>\n",
       "  </tbody>\n",
       "</table>\n",
       "<p>5 rows × 133 columns</p>\n",
       "</div>"
      ],
      "text/plain": [
       "   ind_5  ind_6  ind_8      ind_9     ind_10     ind_12     ind_13  ind_14  \\\n",
       "0   19.0   17.0  100.0  85.714286  14.285714  72.363515  60.808814   23.80   \n",
       "1   24.0   19.0  100.0  78.571429  21.428571  74.275883  64.366798   11.45   \n",
       "2   30.0   24.0  100.0  71.428571  28.571429  75.140402  65.915803    8.75   \n",
       "3   37.0   30.0  100.0  64.285714  35.714286  76.677846  68.584234    7.80   \n",
       "4   41.0   37.0  100.0  57.142857  42.857143  81.603007  76.455495   14.90   \n",
       "\n",
       "   ind_15  ind_16  ...   ind_412  ind_414  ind_416  ind_418  ind_420  ind_422  \\\n",
       "0   17.62   11.73  ...  0.002371      2.0    -49.6    -54.0   -152.0   -353.0   \n",
       "1   18.16   12.22  ...  0.003074      0.8    -55.6    -60.0   -158.0   -359.0   \n",
       "2   17.86   12.28  ...  0.003561      2.7    -58.4    -60.0   -160.0   -362.0   \n",
       "3   14.76   12.61  ...  0.004366      0.9    -61.8    -65.0   -166.0   -367.0   \n",
       "4   11.92   14.25  ...  0.004198      0.1    -79.8    -86.0   -186.0   -388.0   \n",
       "\n",
       "   ind_424   ind_426   ind_428  ind_109_GREEN  \n",
       "0      1.0  0.498547  0.701906              1  \n",
       "1      1.0  0.537088  0.690833              1  \n",
       "2      1.0  0.615169  0.693040              1  \n",
       "3      1.0  0.661517  0.673418              1  \n",
       "4      1.0  0.747204  0.700522              1  \n",
       "\n",
       "[5 rows x 133 columns]"
      ]
     },
     "execution_count": 8,
     "metadata": {},
     "output_type": "execute_result"
    }
   ],
   "source": [
    "dms=pd.get_dummies(df[['ind_109']])\n",
    "dms.head()\n",
    "y=df[\"target_90\"]\n",
    "X_=df.drop([\"ind_109\",\"target_90\"],axis=1).astype(\"float64\")\n",
    "# X'in alacağı değerlerden kategorikleri ve hedef değişkeni sildik.\n",
    "X_.head()\n",
    "X=pd.concat([X_,dms[[\"ind_109_GREEN\"]]],axis=1) #dummy haliyle concat yaparak bağımsız değişken dataframe'i oluşturduk.\n",
    "X.head()"
   ]
  },
  {
   "cell_type": "code",
   "execution_count": 9,
   "metadata": {},
   "outputs": [],
   "source": [
    "from sklearn.preprocessing import MinMaxScaler"
   ]
  },
  {
   "cell_type": "code",
   "execution_count": 10,
   "metadata": {},
   "outputs": [
    {
     "data": {
      "text/plain": [
       "array([[0.75      , 0.74      , 1.        , ..., 0.49854651, 0.78773616,\n",
       "        1.        ],\n",
       "       [0.775     , 0.75      , 1.        , ..., 0.53708791, 0.77362977,\n",
       "        1.        ],\n",
       "       [0.805     , 0.775     , 1.        , ..., 0.61516854, 0.77644125,\n",
       "        1.        ],\n",
       "       ...,\n",
       "       [0.75      , 0.765     , 0.42857143, ..., 0.63210702, 0.59646706,\n",
       "        1.        ],\n",
       "       [0.75      , 0.75      , 1.        , ..., 0.73300971, 0.64719907,\n",
       "        1.        ],\n",
       "       [0.75      , 0.75      , 0.92857143, ..., 0.6875    , 0.65019551,\n",
       "        1.        ]])"
      ]
     },
     "execution_count": 10,
     "metadata": {},
     "output_type": "execute_result"
    }
   ],
   "source": [
    "scaler = MinMaxScaler()\n",
    "scaler.fit(X)\n",
    "scaler.transform(X)"
   ]
  },
  {
   "cell_type": "code",
   "execution_count": 15,
   "metadata": {},
   "outputs": [],
   "source": [
    "X=scaler.transform(X)"
   ]
  },
  {
   "cell_type": "code",
   "execution_count": 16,
   "metadata": {},
   "outputs": [],
   "source": [
    "from sklearn.model_selection import train_test_split, cross_val_score, cross_val_predict\n",
    "X_train,X_test,y_train,y_test= train_test_split(X,y,test_size=0.30, random_state=42,shuffle=False)"
   ]
  },
  {
   "cell_type": "code",
   "execution_count": 17,
   "metadata": {},
   "outputs": [],
   "source": [
    "from sklearn.naive_bayes import GaussianNB"
   ]
  },
  {
   "cell_type": "code",
   "execution_count": 18,
   "metadata": {},
   "outputs": [],
   "source": [
    "from sklearn.naive_bayes import MultinomialNB"
   ]
  },
  {
   "cell_type": "code",
   "execution_count": 19,
   "metadata": {},
   "outputs": [
    {
     "data": {
      "text/plain": [
       "MultinomialNB(alpha=1.0, class_prior=None, fit_prior=True)"
      ]
     },
     "execution_count": 19,
     "metadata": {},
     "output_type": "execute_result"
    }
   ],
   "source": [
    "mnb=MultinomialNB()\n",
    "mnb_model=mnb.fit(X_train,y_train)\n",
    "mnb_model"
   ]
  },
  {
   "cell_type": "code",
   "execution_count": 22,
   "metadata": {},
   "outputs": [
    {
     "data": {
      "text/plain": [
       "array(['negatif', 'negatif', 'negatif', 'negatif', 'negatif', 'negatif',\n",
       "       'negatif', 'negatif', 'negatif', 'negatif'], dtype='<U7')"
      ]
     },
     "execution_count": 22,
     "metadata": {},
     "output_type": "execute_result"
    }
   ],
   "source": [
    "y_pred=mnb_model.predict(X_test)\n",
    "y_pred[0:10]"
   ]
  },
  {
   "cell_type": "code",
   "execution_count": 21,
   "metadata": {},
   "outputs": [
    {
     "data": {
      "text/plain": [
       "0.5435630689206762"
      ]
     },
     "execution_count": 21,
     "metadata": {},
     "output_type": "execute_result"
    }
   ],
   "source": [
    "accuracy_score(y_pred,y_test)"
   ]
  },
  {
   "cell_type": "code",
   "execution_count": 32,
   "metadata": {},
   "outputs": [
    {
     "data": {
      "text/plain": [
       "array([[652,  10, 177],\n",
       "       [  0,   0,   0],\n",
       "       [512,   3, 184]], dtype=int64)"
      ]
     },
     "execution_count": 32,
     "metadata": {},
     "output_type": "execute_result"
    }
   ],
   "source": [
    "confusion_matrix(y_test,y_pred) "
   ]
  },
  {
   "cell_type": "code",
   "execution_count": 31,
   "metadata": {},
   "outputs": [
    {
     "name": "stdout",
     "output_type": "stream",
     "text": [
      "              precision    recall  f1-score   support\n",
      "\n",
      "     negatif       0.56      0.78      0.65       839\n",
      "        notr       0.00      0.00      0.00         0\n",
      "     pozitif       0.51      0.26      0.35       699\n",
      "\n",
      "    accuracy                           0.54      1538\n",
      "   macro avg       0.36      0.35      0.33      1538\n",
      "weighted avg       0.54      0.54      0.51      1538\n",
      "\n"
     ]
    }
   ],
   "source": [
    "print(classification_report(y_test,y_pred))"
   ]
  },
  {
   "cell_type": "code",
   "execution_count": 24,
   "metadata": {},
   "outputs": [
    {
     "data": {
      "text/plain": [
       "array([[0.65218101, 0.02023399, 0.327585  ],\n",
       "       [0.65575367, 0.02262715, 0.32161919],\n",
       "       [0.67412653, 0.02247196, 0.30340151],\n",
       "       [0.67022289, 0.01945962, 0.31031749],\n",
       "       [0.67154867, 0.01871264, 0.30973869],\n",
       "       [0.70635432, 0.01159993, 0.28204575],\n",
       "       [0.70094796, 0.01087048, 0.28818156],\n",
       "       [0.69809446, 0.00962841, 0.29227713],\n",
       "       [0.67116889, 0.0096638 , 0.31916731],\n",
       "       [0.67219865, 0.01088685, 0.3169145 ]])"
      ]
     },
     "execution_count": 24,
     "metadata": {},
     "output_type": "execute_result"
    }
   ],
   "source": [
    "mnb_model.predict_proba(X_test)[0:10]"
   ]
  }
 ],
 "metadata": {
  "kernelspec": {
   "display_name": "Python 3",
   "language": "python",
   "name": "python3"
  },
  "language_info": {
   "codemirror_mode": {
    "name": "ipython",
    "version": 3
   },
   "file_extension": ".py",
   "mimetype": "text/x-python",
   "name": "python",
   "nbconvert_exporter": "python",
   "pygments_lexer": "ipython3",
   "version": "3.7.3"
  }
 },
 "nbformat": 4,
 "nbformat_minor": 2
}
