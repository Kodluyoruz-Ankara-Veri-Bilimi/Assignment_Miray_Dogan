{
 "cells": [
  {
   "cell_type": "code",
   "execution_count": 1,
   "metadata": {},
   "outputs": [
    {
     "data": {
      "text/plain": [
       "'C:\\\\Users\\\\Miray\\\\Desktop'"
      ]
     },
     "execution_count": 1,
     "metadata": {},
     "output_type": "execute_result"
    }
   ],
   "source": [
    "import numpy as np \n",
    "import pandas as pd\n",
    "import matplotlib.pyplot as plt\n",
    "import seaborn as sns\n",
    "import os\n",
    "os.getcwd()\n",
    "os.chdir( \"C:/Users/Miray/Desktop\")\n",
    "os.getcwd()"
   ]
  },
  {
   "cell_type": "markdown",
   "metadata": {},
   "source": [
    "**Bu notebook'ta tüm classification modelleri uygulanmıştır. Dummy variable dönüşümü yapılmıştır.\n",
    "Random Forest Sonrası feature azaltımı yapılmıştır (job ve reason değişkenleri) ardından MLP, SVM Boosting ve KNN ile Naive Bayes uygulanmıştıri tuning sonuçları en alt hücrede tüm modeller için verilmiştir.**"
   ]
  },
  {
   "cell_type": "code",
   "execution_count": 2,
   "metadata": {},
   "outputs": [],
   "source": [
    "\n",
    "import statsmodels.api as sm \n",
    "import statsmodels.formula.api as smf \n",
    "from sklearn.preprocessing import scale, MinMaxScaler\n",
    "from sklearn.model_selection import train_test_split, GridSearchCV, cross_val_score\n",
    "from sklearn.metrics import confusion_matrix, precision_score, recall_score, accuracy_score, classification_report\n",
    "from sklearn.metrics import roc_auc_score, roc_curve, mean_squared_error\n",
    "from sklearn import tree \n",
    "from sklearn.tree import DecisionTreeClassifier\n",
    "from sklearn.tree import DecisionTreeRegressor\n",
    "from sklearn.ensemble import RandomForestClassifier\n",
    "from sklearn.ensemble import RandomForestRegressor\n",
    "from sklearn.neighbors import KNeighborsClassifier\n",
    "from sklearn.discriminant_analysis import LinearDiscriminantAnalysis\n",
    "from sklearn.linear_model import LogisticRegression\n",
    "from sklearn.linear_model import LinearRegression\n",
    "from sklearn.svm import SVC\n",
    "from sklearn.naive_bayes import GaussianNB\n",
    "from sklearn import tree\n",
    "from sklearn.ensemble import RandomForestClassifier\n",
    "from sklearn.ensemble import GradientBoostingClassifier\n",
    "from xgboost import XGBClassifier\n",
    "from lightgbm import LGBMClassifier\n",
    "from warnings import filterwarnings\n",
    "filterwarnings('ignore')"
   ]
  },
  {
   "cell_type": "code",
   "execution_count": 3,
   "metadata": {},
   "outputs": [],
   "source": [
    "finans=pd.read_csv(\"finans.csv\")"
   ]
  },
  {
   "cell_type": "code",
   "execution_count": 4,
   "metadata": {},
   "outputs": [
    {
     "name": "stdout",
     "output_type": "stream",
     "text": [
      "<class 'pandas.core.frame.DataFrame'>\n",
      "Int64Index: 2018 entries, 153 to 3549\n",
      "Data columns (total 13 columns):\n",
      "bad        2018 non-null int64\n",
      "loan       2018 non-null int64\n",
      "mortdue    2018 non-null float64\n",
      "value      2018 non-null float64\n",
      "reason     2018 non-null object\n",
      "job        2018 non-null object\n",
      "yoj        2018 non-null float64\n",
      "derog      2018 non-null float64\n",
      "delinq     2018 non-null float64\n",
      "clage      2018 non-null float64\n",
      "ninq       2018 non-null float64\n",
      "clno       2018 non-null float64\n",
      "debtinc    2018 non-null float64\n",
      "dtypes: float64(9), int64(2), object(2)\n",
      "memory usage: 220.7+ KB\n"
     ]
    },
    {
     "data": {
      "text/html": [
       "<div>\n",
       "<style scoped>\n",
       "    .dataframe tbody tr th:only-of-type {\n",
       "        vertical-align: middle;\n",
       "    }\n",
       "\n",
       "    .dataframe tbody tr th {\n",
       "        vertical-align: top;\n",
       "    }\n",
       "\n",
       "    .dataframe thead th {\n",
       "        text-align: right;\n",
       "    }\n",
       "</style>\n",
       "<table border=\"1\" class=\"dataframe\">\n",
       "  <thead>\n",
       "    <tr style=\"text-align: right;\">\n",
       "      <th></th>\n",
       "      <th>bad</th>\n",
       "      <th>loan</th>\n",
       "      <th>mortdue</th>\n",
       "      <th>value</th>\n",
       "      <th>reason</th>\n",
       "      <th>job</th>\n",
       "      <th>yoj</th>\n",
       "      <th>derog</th>\n",
       "      <th>delinq</th>\n",
       "      <th>clage</th>\n",
       "      <th>ninq</th>\n",
       "      <th>clno</th>\n",
       "      <th>debtinc</th>\n",
       "    </tr>\n",
       "  </thead>\n",
       "  <tbody>\n",
       "    <tr>\n",
       "      <th>153</th>\n",
       "      <td>0</td>\n",
       "      <td>18200</td>\n",
       "      <td>94727.0</td>\n",
       "      <td>136877.0</td>\n",
       "      <td>DebtCon</td>\n",
       "      <td>Mgr</td>\n",
       "      <td>15.0</td>\n",
       "      <td>0.0</td>\n",
       "      <td>0.0</td>\n",
       "      <td>168.96</td>\n",
       "      <td>2.0</td>\n",
       "      <td>26.0</td>\n",
       "      <td>36.056</td>\n",
       "    </tr>\n",
       "    <tr>\n",
       "      <th>154</th>\n",
       "      <td>0</td>\n",
       "      <td>21700</td>\n",
       "      <td>79240.0</td>\n",
       "      <td>96784.0</td>\n",
       "      <td>DebtCon</td>\n",
       "      <td>Mgr</td>\n",
       "      <td>5.0</td>\n",
       "      <td>0.0</td>\n",
       "      <td>0.0</td>\n",
       "      <td>64.51</td>\n",
       "      <td>6.0</td>\n",
       "      <td>24.0</td>\n",
       "      <td>38.079</td>\n",
       "    </tr>\n",
       "    <tr>\n",
       "      <th>155</th>\n",
       "      <td>0</td>\n",
       "      <td>34100</td>\n",
       "      <td>241931.0</td>\n",
       "      <td>36486.0</td>\n",
       "      <td>DebtCon</td>\n",
       "      <td>Mgr</td>\n",
       "      <td>1.0</td>\n",
       "      <td>0.0</td>\n",
       "      <td>2.0</td>\n",
       "      <td>196.01</td>\n",
       "      <td>3.0</td>\n",
       "      <td>50.0</td>\n",
       "      <td>42.459</td>\n",
       "    </tr>\n",
       "    <tr>\n",
       "      <th>156</th>\n",
       "      <td>0</td>\n",
       "      <td>8400</td>\n",
       "      <td>62989.0</td>\n",
       "      <td>76718.0</td>\n",
       "      <td>HomeImp</td>\n",
       "      <td>Mgr</td>\n",
       "      <td>3.0</td>\n",
       "      <td>0.0</td>\n",
       "      <td>2.0</td>\n",
       "      <td>131.47</td>\n",
       "      <td>0.0</td>\n",
       "      <td>22.0</td>\n",
       "      <td>29.200</td>\n",
       "    </tr>\n",
       "    <tr>\n",
       "      <th>157</th>\n",
       "      <td>0</td>\n",
       "      <td>17400</td>\n",
       "      <td>25859.0</td>\n",
       "      <td>43684.0</td>\n",
       "      <td>DebtCon</td>\n",
       "      <td>Mgr</td>\n",
       "      <td>16.0</td>\n",
       "      <td>1.0</td>\n",
       "      <td>0.0</td>\n",
       "      <td>95.36</td>\n",
       "      <td>1.0</td>\n",
       "      <td>17.0</td>\n",
       "      <td>27.108</td>\n",
       "    </tr>\n",
       "  </tbody>\n",
       "</table>\n",
       "</div>"
      ],
      "text/plain": [
       "     bad   loan   mortdue     value   reason  job   yoj  derog  delinq  \\\n",
       "153    0  18200   94727.0  136877.0  DebtCon  Mgr  15.0    0.0     0.0   \n",
       "154    0  21700   79240.0   96784.0  DebtCon  Mgr   5.0    0.0     0.0   \n",
       "155    0  34100  241931.0   36486.0  DebtCon  Mgr   1.0    0.0     2.0   \n",
       "156    0   8400   62989.0   76718.0  HomeImp  Mgr   3.0    0.0     2.0   \n",
       "157    0  17400   25859.0   43684.0  DebtCon  Mgr  16.0    1.0     0.0   \n",
       "\n",
       "      clage  ninq  clno  debtinc  \n",
       "153  168.96   2.0  26.0   36.056  \n",
       "154   64.51   6.0  24.0   38.079  \n",
       "155  196.01   3.0  50.0   42.459  \n",
       "156  131.47   0.0  22.0   29.200  \n",
       "157   95.36   1.0  17.0   27.108  "
      ]
     },
     "execution_count": 4,
     "metadata": {},
     "output_type": "execute_result"
    }
   ],
   "source": [
    "hq=finans.copy()\n",
    "df=hq.dropna()\n",
    "df.info()\n",
    "df.head()"
   ]
  },
  {
   "cell_type": "code",
   "execution_count": 5,
   "metadata": {},
   "outputs": [
    {
     "data": {
      "text/html": [
       "<div>\n",
       "<style scoped>\n",
       "    .dataframe tbody tr th:only-of-type {\n",
       "        vertical-align: middle;\n",
       "    }\n",
       "\n",
       "    .dataframe tbody tr th {\n",
       "        vertical-align: top;\n",
       "    }\n",
       "\n",
       "    .dataframe thead th {\n",
       "        text-align: right;\n",
       "    }\n",
       "</style>\n",
       "<table border=\"1\" class=\"dataframe\">\n",
       "  <thead>\n",
       "    <tr style=\"text-align: right;\">\n",
       "      <th></th>\n",
       "      <th>reason_DebtCon</th>\n",
       "      <th>reason_HomeImp</th>\n",
       "      <th>job_Mgr</th>\n",
       "      <th>job_Office</th>\n",
       "      <th>job_Other</th>\n",
       "      <th>job_ProfEx</th>\n",
       "      <th>job_Sales</th>\n",
       "      <th>job_Self</th>\n",
       "    </tr>\n",
       "  </thead>\n",
       "  <tbody>\n",
       "    <tr>\n",
       "      <th>153</th>\n",
       "      <td>1</td>\n",
       "      <td>0</td>\n",
       "      <td>1</td>\n",
       "      <td>0</td>\n",
       "      <td>0</td>\n",
       "      <td>0</td>\n",
       "      <td>0</td>\n",
       "      <td>0</td>\n",
       "    </tr>\n",
       "    <tr>\n",
       "      <th>154</th>\n",
       "      <td>1</td>\n",
       "      <td>0</td>\n",
       "      <td>1</td>\n",
       "      <td>0</td>\n",
       "      <td>0</td>\n",
       "      <td>0</td>\n",
       "      <td>0</td>\n",
       "      <td>0</td>\n",
       "    </tr>\n",
       "    <tr>\n",
       "      <th>155</th>\n",
       "      <td>1</td>\n",
       "      <td>0</td>\n",
       "      <td>1</td>\n",
       "      <td>0</td>\n",
       "      <td>0</td>\n",
       "      <td>0</td>\n",
       "      <td>0</td>\n",
       "      <td>0</td>\n",
       "    </tr>\n",
       "    <tr>\n",
       "      <th>156</th>\n",
       "      <td>0</td>\n",
       "      <td>1</td>\n",
       "      <td>1</td>\n",
       "      <td>0</td>\n",
       "      <td>0</td>\n",
       "      <td>0</td>\n",
       "      <td>0</td>\n",
       "      <td>0</td>\n",
       "    </tr>\n",
       "    <tr>\n",
       "      <th>157</th>\n",
       "      <td>1</td>\n",
       "      <td>0</td>\n",
       "      <td>1</td>\n",
       "      <td>0</td>\n",
       "      <td>0</td>\n",
       "      <td>0</td>\n",
       "      <td>0</td>\n",
       "      <td>0</td>\n",
       "    </tr>\n",
       "  </tbody>\n",
       "</table>\n",
       "</div>"
      ],
      "text/plain": [
       "     reason_DebtCon  reason_HomeImp  job_Mgr  job_Office  job_Other  \\\n",
       "153               1               0        1           0          0   \n",
       "154               1               0        1           0          0   \n",
       "155               1               0        1           0          0   \n",
       "156               0               1        1           0          0   \n",
       "157               1               0        1           0          0   \n",
       "\n",
       "     job_ProfEx  job_Sales  job_Self  \n",
       "153           0          0         0  \n",
       "154           0          0         0  \n",
       "155           0          0         0  \n",
       "156           0          0         0  \n",
       "157           0          0         0  "
      ]
     },
     "execution_count": 5,
     "metadata": {},
     "output_type": "execute_result"
    }
   ],
   "source": [
    "dms=pd.get_dummies(df[['reason','job']])\n",
    "dms.head()"
   ]
  },
  {
   "cell_type": "code",
   "execution_count": 6,
   "metadata": {},
   "outputs": [
    {
     "data": {
      "text/html": [
       "<div>\n",
       "<style scoped>\n",
       "    .dataframe tbody tr th:only-of-type {\n",
       "        vertical-align: middle;\n",
       "    }\n",
       "\n",
       "    .dataframe tbody tr th {\n",
       "        vertical-align: top;\n",
       "    }\n",
       "\n",
       "    .dataframe thead th {\n",
       "        text-align: right;\n",
       "    }\n",
       "</style>\n",
       "<table border=\"1\" class=\"dataframe\">\n",
       "  <thead>\n",
       "    <tr style=\"text-align: right;\">\n",
       "      <th></th>\n",
       "      <th>loan</th>\n",
       "      <th>mortdue</th>\n",
       "      <th>value</th>\n",
       "      <th>yoj</th>\n",
       "      <th>derog</th>\n",
       "      <th>delinq</th>\n",
       "      <th>clage</th>\n",
       "      <th>ninq</th>\n",
       "      <th>clno</th>\n",
       "      <th>debtinc</th>\n",
       "    </tr>\n",
       "  </thead>\n",
       "  <tbody>\n",
       "    <tr>\n",
       "      <th>153</th>\n",
       "      <td>18200.0</td>\n",
       "      <td>94727.0</td>\n",
       "      <td>136877.0</td>\n",
       "      <td>15.0</td>\n",
       "      <td>0.0</td>\n",
       "      <td>0.0</td>\n",
       "      <td>168.96</td>\n",
       "      <td>2.0</td>\n",
       "      <td>26.0</td>\n",
       "      <td>36.056</td>\n",
       "    </tr>\n",
       "    <tr>\n",
       "      <th>154</th>\n",
       "      <td>21700.0</td>\n",
       "      <td>79240.0</td>\n",
       "      <td>96784.0</td>\n",
       "      <td>5.0</td>\n",
       "      <td>0.0</td>\n",
       "      <td>0.0</td>\n",
       "      <td>64.51</td>\n",
       "      <td>6.0</td>\n",
       "      <td>24.0</td>\n",
       "      <td>38.079</td>\n",
       "    </tr>\n",
       "    <tr>\n",
       "      <th>155</th>\n",
       "      <td>34100.0</td>\n",
       "      <td>241931.0</td>\n",
       "      <td>36486.0</td>\n",
       "      <td>1.0</td>\n",
       "      <td>0.0</td>\n",
       "      <td>2.0</td>\n",
       "      <td>196.01</td>\n",
       "      <td>3.0</td>\n",
       "      <td>50.0</td>\n",
       "      <td>42.459</td>\n",
       "    </tr>\n",
       "    <tr>\n",
       "      <th>156</th>\n",
       "      <td>8400.0</td>\n",
       "      <td>62989.0</td>\n",
       "      <td>76718.0</td>\n",
       "      <td>3.0</td>\n",
       "      <td>0.0</td>\n",
       "      <td>2.0</td>\n",
       "      <td>131.47</td>\n",
       "      <td>0.0</td>\n",
       "      <td>22.0</td>\n",
       "      <td>29.200</td>\n",
       "    </tr>\n",
       "    <tr>\n",
       "      <th>157</th>\n",
       "      <td>17400.0</td>\n",
       "      <td>25859.0</td>\n",
       "      <td>43684.0</td>\n",
       "      <td>16.0</td>\n",
       "      <td>1.0</td>\n",
       "      <td>0.0</td>\n",
       "      <td>95.36</td>\n",
       "      <td>1.0</td>\n",
       "      <td>17.0</td>\n",
       "      <td>27.108</td>\n",
       "    </tr>\n",
       "  </tbody>\n",
       "</table>\n",
       "</div>"
      ],
      "text/plain": [
       "        loan   mortdue     value   yoj  derog  delinq   clage  ninq  clno  \\\n",
       "153  18200.0   94727.0  136877.0  15.0    0.0     0.0  168.96   2.0  26.0   \n",
       "154  21700.0   79240.0   96784.0   5.0    0.0     0.0   64.51   6.0  24.0   \n",
       "155  34100.0  241931.0   36486.0   1.0    0.0     2.0  196.01   3.0  50.0   \n",
       "156   8400.0   62989.0   76718.0   3.0    0.0     2.0  131.47   0.0  22.0   \n",
       "157  17400.0   25859.0   43684.0  16.0    1.0     0.0   95.36   1.0  17.0   \n",
       "\n",
       "     debtinc  \n",
       "153   36.056  \n",
       "154   38.079  \n",
       "155   42.459  \n",
       "156   29.200  \n",
       "157   27.108  "
      ]
     },
     "execution_count": 6,
     "metadata": {},
     "output_type": "execute_result"
    }
   ],
   "source": [
    "y=df[\"bad\"]\n",
    "X_=df.drop([\"bad\",\"reason\",\"job\"],axis=1).astype(\"float64\")\n",
    "# X'in alacağı değerlerden kategorikleri ve hedef değişkeni sildik.\n",
    "X_.head()"
   ]
  },
  {
   "cell_type": "code",
   "execution_count": 7,
   "metadata": {},
   "outputs": [
    {
     "data": {
      "text/html": [
       "<div>\n",
       "<style scoped>\n",
       "    .dataframe tbody tr th:only-of-type {\n",
       "        vertical-align: middle;\n",
       "    }\n",
       "\n",
       "    .dataframe tbody tr th {\n",
       "        vertical-align: top;\n",
       "    }\n",
       "\n",
       "    .dataframe thead th {\n",
       "        text-align: right;\n",
       "    }\n",
       "</style>\n",
       "<table border=\"1\" class=\"dataframe\">\n",
       "  <thead>\n",
       "    <tr style=\"text-align: right;\">\n",
       "      <th></th>\n",
       "      <th>loan</th>\n",
       "      <th>mortdue</th>\n",
       "      <th>value</th>\n",
       "      <th>yoj</th>\n",
       "      <th>derog</th>\n",
       "      <th>delinq</th>\n",
       "      <th>clage</th>\n",
       "      <th>ninq</th>\n",
       "      <th>clno</th>\n",
       "      <th>debtinc</th>\n",
       "      <th>reason_HomeImp</th>\n",
       "      <th>job_Mgr</th>\n",
       "      <th>job_Office</th>\n",
       "      <th>job_Other</th>\n",
       "      <th>job_ProfEx</th>\n",
       "      <th>job_Sales</th>\n",
       "      <th>job_Self</th>\n",
       "    </tr>\n",
       "  </thead>\n",
       "  <tbody>\n",
       "    <tr>\n",
       "      <th>153</th>\n",
       "      <td>18200.0</td>\n",
       "      <td>94727.0</td>\n",
       "      <td>136877.0</td>\n",
       "      <td>15.0</td>\n",
       "      <td>0.0</td>\n",
       "      <td>0.0</td>\n",
       "      <td>168.96</td>\n",
       "      <td>2.0</td>\n",
       "      <td>26.0</td>\n",
       "      <td>36.056</td>\n",
       "      <td>0</td>\n",
       "      <td>1</td>\n",
       "      <td>0</td>\n",
       "      <td>0</td>\n",
       "      <td>0</td>\n",
       "      <td>0</td>\n",
       "      <td>0</td>\n",
       "    </tr>\n",
       "    <tr>\n",
       "      <th>154</th>\n",
       "      <td>21700.0</td>\n",
       "      <td>79240.0</td>\n",
       "      <td>96784.0</td>\n",
       "      <td>5.0</td>\n",
       "      <td>0.0</td>\n",
       "      <td>0.0</td>\n",
       "      <td>64.51</td>\n",
       "      <td>6.0</td>\n",
       "      <td>24.0</td>\n",
       "      <td>38.079</td>\n",
       "      <td>0</td>\n",
       "      <td>1</td>\n",
       "      <td>0</td>\n",
       "      <td>0</td>\n",
       "      <td>0</td>\n",
       "      <td>0</td>\n",
       "      <td>0</td>\n",
       "    </tr>\n",
       "    <tr>\n",
       "      <th>155</th>\n",
       "      <td>34100.0</td>\n",
       "      <td>241931.0</td>\n",
       "      <td>36486.0</td>\n",
       "      <td>1.0</td>\n",
       "      <td>0.0</td>\n",
       "      <td>2.0</td>\n",
       "      <td>196.01</td>\n",
       "      <td>3.0</td>\n",
       "      <td>50.0</td>\n",
       "      <td>42.459</td>\n",
       "      <td>0</td>\n",
       "      <td>1</td>\n",
       "      <td>0</td>\n",
       "      <td>0</td>\n",
       "      <td>0</td>\n",
       "      <td>0</td>\n",
       "      <td>0</td>\n",
       "    </tr>\n",
       "    <tr>\n",
       "      <th>156</th>\n",
       "      <td>8400.0</td>\n",
       "      <td>62989.0</td>\n",
       "      <td>76718.0</td>\n",
       "      <td>3.0</td>\n",
       "      <td>0.0</td>\n",
       "      <td>2.0</td>\n",
       "      <td>131.47</td>\n",
       "      <td>0.0</td>\n",
       "      <td>22.0</td>\n",
       "      <td>29.200</td>\n",
       "      <td>1</td>\n",
       "      <td>1</td>\n",
       "      <td>0</td>\n",
       "      <td>0</td>\n",
       "      <td>0</td>\n",
       "      <td>0</td>\n",
       "      <td>0</td>\n",
       "    </tr>\n",
       "    <tr>\n",
       "      <th>157</th>\n",
       "      <td>17400.0</td>\n",
       "      <td>25859.0</td>\n",
       "      <td>43684.0</td>\n",
       "      <td>16.0</td>\n",
       "      <td>1.0</td>\n",
       "      <td>0.0</td>\n",
       "      <td>95.36</td>\n",
       "      <td>1.0</td>\n",
       "      <td>17.0</td>\n",
       "      <td>27.108</td>\n",
       "      <td>0</td>\n",
       "      <td>1</td>\n",
       "      <td>0</td>\n",
       "      <td>0</td>\n",
       "      <td>0</td>\n",
       "      <td>0</td>\n",
       "      <td>0</td>\n",
       "    </tr>\n",
       "  </tbody>\n",
       "</table>\n",
       "</div>"
      ],
      "text/plain": [
       "        loan   mortdue     value   yoj  derog  delinq   clage  ninq  clno  \\\n",
       "153  18200.0   94727.0  136877.0  15.0    0.0     0.0  168.96   2.0  26.0   \n",
       "154  21700.0   79240.0   96784.0   5.0    0.0     0.0   64.51   6.0  24.0   \n",
       "155  34100.0  241931.0   36486.0   1.0    0.0     2.0  196.01   3.0  50.0   \n",
       "156   8400.0   62989.0   76718.0   3.0    0.0     2.0  131.47   0.0  22.0   \n",
       "157  17400.0   25859.0   43684.0  16.0    1.0     0.0   95.36   1.0  17.0   \n",
       "\n",
       "     debtinc  reason_HomeImp  job_Mgr  job_Office  job_Other  job_ProfEx  \\\n",
       "153   36.056               0        1           0          0           0   \n",
       "154   38.079               0        1           0          0           0   \n",
       "155   42.459               0        1           0          0           0   \n",
       "156   29.200               1        1           0          0           0   \n",
       "157   27.108               0        1           0          0           0   \n",
       "\n",
       "     job_Sales  job_Self  \n",
       "153          0         0  \n",
       "154          0         0  \n",
       "155          0         0  \n",
       "156          0         0  \n",
       "157          0         0  "
      ]
     },
     "execution_count": 7,
     "metadata": {},
     "output_type": "execute_result"
    }
   ],
   "source": [
    "X=pd.concat([X_,dms[[\"reason_HomeImp\",\"job_Mgr\",\"job_Office\",\"job_Other\",\"job_ProfEx\",\"job_Sales\",\"job_Self\"]]],axis=1) #dummy haliyle concat yaparak bağımsız değişken dataframe'i oluşturduk.\n",
    "X.head()"
   ]
  },
  {
   "cell_type": "code",
   "execution_count": 8,
   "metadata": {},
   "outputs": [
    {
     "data": {
      "text/plain": [
       "((1513, 17), (505, 17), (1513,), (505,))"
      ]
     },
     "execution_count": 8,
     "metadata": {},
     "output_type": "execute_result"
    }
   ],
   "source": [
    "X_train,X_test,y_train,y_test=train_test_split(X,y,test_size=0.25,random_state=42)\n",
    "X_train.shape, X_test.shape, y_train.shape, y_test.shape"
   ]
  },
  {
   "cell_type": "code",
   "execution_count": 9,
   "metadata": {},
   "outputs": [
    {
     "data": {
      "text/plain": [
       "0    1840\n",
       "1     178\n",
       "Name: bad, dtype: int64"
      ]
     },
     "execution_count": 9,
     "metadata": {},
     "output_type": "execute_result"
    }
   ],
   "source": [
    "df[\"bad\"].value_counts()"
   ]
  },
  {
   "cell_type": "code",
   "execution_count": 10,
   "metadata": {},
   "outputs": [
    {
     "data": {
      "text/plain": [
       "LogisticRegression(C=1.0, class_weight=None, dual=False, fit_intercept=True,\n",
       "                   intercept_scaling=1, l1_ratio=None, max_iter=100,\n",
       "                   multi_class='warn', n_jobs=None, penalty='l2',\n",
       "                   random_state=None, solver='liblinear', tol=0.0001, verbose=0,\n",
       "                   warm_start=False)"
      ]
     },
     "execution_count": 10,
     "metadata": {},
     "output_type": "execute_result"
    }
   ],
   "source": [
    "from sklearn.linear_model import LogisticRegression\n",
    "loj=LogisticRegression(solver=\"liblinear\")\n",
    "loj_model=loj.fit(X_train,y_train)\n",
    "loj_model"
   ]
  },
  {
   "cell_type": "code",
   "execution_count": 11,
   "metadata": {},
   "outputs": [],
   "source": [
    "y_pred_train=loj_model.predict(X_train)"
   ]
  },
  {
   "cell_type": "code",
   "execution_count": 12,
   "metadata": {},
   "outputs": [
    {
     "data": {
      "text/plain": [
       "array([[1370,    4],\n",
       "       [ 139,    0]], dtype=int64)"
      ]
     },
     "execution_count": 12,
     "metadata": {},
     "output_type": "execute_result"
    }
   ],
   "source": [
    "confusion_matrix(y_train,y_pred_train) "
   ]
  },
  {
   "cell_type": "code",
   "execution_count": 13,
   "metadata": {},
   "outputs": [
    {
     "data": {
      "text/plain": [
       "array([[465,   1],\n",
       "       [ 39,   0]], dtype=int64)"
      ]
     },
     "execution_count": 13,
     "metadata": {},
     "output_type": "execute_result"
    }
   ],
   "source": [
    "y_pred=loj_model.predict(X_test)\n",
    "confusion_matrix(y_test,y_pred)"
   ]
  },
  {
   "cell_type": "code",
   "execution_count": 14,
   "metadata": {},
   "outputs": [
    {
     "data": {
      "text/plain": [
       "0.9207920792079208"
      ]
     },
     "execution_count": 14,
     "metadata": {},
     "output_type": "execute_result"
    }
   ],
   "source": [
    "accuracy_score(y_test,y_pred)"
   ]
  },
  {
   "cell_type": "code",
   "execution_count": 15,
   "metadata": {},
   "outputs": [
    {
     "name": "stdout",
     "output_type": "stream",
     "text": [
      "              precision    recall  f1-score   support\n",
      "\n",
      "           0       0.91      1.00      0.95      1374\n",
      "           1       0.00      0.00      0.00       139\n",
      "\n",
      "    accuracy                           0.91      1513\n",
      "   macro avg       0.45      0.50      0.48      1513\n",
      "weighted avg       0.82      0.91      0.86      1513\n",
      "\n"
     ]
    }
   ],
   "source": [
    "print(classification_report(y_train,y_pred_train))"
   ]
  },
  {
   "cell_type": "code",
   "execution_count": 20,
   "metadata": {},
   "outputs": [],
   "source": [
    "y_pred_test=loj_model.predict(X_test)"
   ]
  },
  {
   "cell_type": "code",
   "execution_count": 21,
   "metadata": {},
   "outputs": [
    {
     "name": "stdout",
     "output_type": "stream",
     "text": [
      "              precision    recall  f1-score   support\n",
      "\n",
      "           0       0.92      1.00      0.96       466\n",
      "           1       0.00      0.00      0.00        39\n",
      "\n",
      "    accuracy                           0.92       505\n",
      "   macro avg       0.46      0.50      0.48       505\n",
      "weighted avg       0.85      0.92      0.88       505\n",
      "\n"
     ]
    }
   ],
   "source": [
    "print(classification_report(y_test,y_pred_test))"
   ]
  },
  {
   "cell_type": "code",
   "execution_count": 22,
   "metadata": {},
   "outputs": [
    {
     "data": {
      "text/plain": [
       "0.922781112444978"
      ]
     },
     "execution_count": 22,
     "metadata": {},
     "output_type": "execute_result"
    }
   ],
   "source": [
    "cross_val_score(loj_model,X_test,y_test, cv=10).mean()"
   ]
  },
  {
   "cell_type": "code",
   "execution_count": 23,
   "metadata": {},
   "outputs": [],
   "source": [
    "from sklearn.tree import DecisionTreeClassifier"
   ]
  },
  {
   "cell_type": "markdown",
   "metadata": {},
   "source": [
    "# CART Algorithm"
   ]
  },
  {
   "cell_type": "code",
   "execution_count": 24,
   "metadata": {},
   "outputs": [],
   "source": [
    "cart=DecisionTreeClassifier()\n",
    "cart_model=cart.fit(X_train,y_train)"
   ]
  },
  {
   "cell_type": "code",
   "execution_count": 143,
   "metadata": {},
   "outputs": [
    {
     "data": {
      "image/png": "[encoded data removed]",
      "text/plain": [
       "<Figure size 2520x1080 with 1 Axes>"
      ]
     },
     "metadata": {
      "needs_background": "light"
     },
     "output_type": "display_data"
    }
   ],
   "source": [
    "plt.figure(figsize=(35,15))\n",
    "tree.plot_tree(cart_model);"
   ]
  },
  {
   "cell_type": "code",
   "execution_count": 25,
   "metadata": {},
   "outputs": [],
   "source": [
    "y_pred_train2=cart_model.predict(X_train)"
   ]
  },
  {
   "cell_type": "code",
   "execution_count": 26,
   "metadata": {},
   "outputs": [
    {
     "name": "stdout",
     "output_type": "stream",
     "text": [
      "Train seti accuarcy: 1.0\n"
     ]
    }
   ],
   "source": [
    "print(\"Train seti accuarcy:\", accuracy_score(y_train,y_pred_train2))"
   ]
  },
  {
   "cell_type": "code",
   "execution_count": 27,
   "metadata": {},
   "outputs": [
    {
     "name": "stdout",
     "output_type": "stream",
     "text": [
      "Train seti accuarcy: 1.0\n",
      "              precision    recall  f1-score   support\n",
      "\n",
      "           0       1.00      1.00      1.00      1374\n",
      "           1       1.00      1.00      1.00       139\n",
      "\n",
      "    accuracy                           1.00      1513\n",
      "   macro avg       1.00      1.00      1.00      1513\n",
      "weighted avg       1.00      1.00      1.00      1513\n",
      "\n"
     ]
    }
   ],
   "source": [
    "print(\"Train seti accuarcy:\", accuracy_score(y_train,y_pred_train2))\n",
    "print(classification_report(y_train,y_pred_train2))"
   ]
  },
  {
   "cell_type": "code",
   "execution_count": 28,
   "metadata": {},
   "outputs": [
    {
     "name": "stdout",
     "output_type": "stream",
     "text": [
      "Test seti accuarcy: 0.9326732673267327\n",
      "              precision    recall  f1-score   support\n",
      "\n",
      "           0       0.96      0.97      0.96       466\n",
      "           1       0.58      0.46      0.51        39\n",
      "\n",
      "    accuracy                           0.93       505\n",
      "   macro avg       0.77      0.72      0.74       505\n",
      "weighted avg       0.93      0.93      0.93       505\n",
      "\n"
     ]
    }
   ],
   "source": [
    "y_pred=cart_model.predict(X_test)\n",
    "print(\"Test seti accuarcy:\", accuracy_score(y_test,y_pred))\n",
    "print( classification_report(y_test,y_pred))"
   ]
  },
  {
   "cell_type": "code",
   "execution_count": 29,
   "metadata": {},
   "outputs": [],
   "source": [
    "cart_grid={\"max_depth\": range(1,16),\n",
    "          \"min_samples_split\" : list(range(10,20))}"
   ]
  },
  {
   "cell_type": "code",
   "execution_count": 31,
   "metadata": {},
   "outputs": [
    {
     "name": "stdout",
     "output_type": "stream",
     "text": [
      "Fitting 10 folds for each of 490 candidates, totalling 4900 fits\n"
     ]
    },
    {
     "name": "stderr",
     "output_type": "stream",
     "text": [
      "[Parallel(n_jobs=-1)]: Using backend LokyBackend with 4 concurrent workers.\n",
      "[Parallel(n_jobs=-1)]: Done  37 tasks      | elapsed:    4.8s\n",
      "[Parallel(n_jobs=-1)]: Done 4081 tasks      | elapsed:   24.3s\n",
      "[Parallel(n_jobs=-1)]: Done 4900 out of 4900 | elapsed:   29.7s finished\n"
     ]
    }
   ],
   "source": [
    "cart=tree.DecisionTreeClassifier()\n",
    "cart_cv=GridSearchCV(cart, cart_grid, cv=10, n_jobs= -1, verbose=2)\n",
    "cart_cv_model= cart_cv.fit(X_train, y_train)"
   ]
  },
  {
   "cell_type": "code",
   "execution_count": 32,
   "metadata": {},
   "outputs": [
    {
     "name": "stdout",
     "output_type": "stream",
     "text": [
      "En iyi parametreler:{'max_depth': 2, 'min_samples_split': 37}\n"
     ]
    }
   ],
   "source": [
    "print(\"En iyi parametreler:\" +str(cart_cv_model.best_params_))"
   ]
  },
  {
   "cell_type": "code",
   "execution_count": 33,
   "metadata": {},
   "outputs": [],
   "source": [
    "cart=tree.DecisionTreeClassifier(max_depth=2, min_samples_split=37)\n",
    "cart_tuned= cart.fit(X_train,y_train)"
   ]
  },
  {
   "cell_type": "code",
   "execution_count": 34,
   "metadata": {},
   "outputs": [
    {
     "name": "stdout",
     "output_type": "stream",
     "text": [
      "Tuning sonrası test accuracy score 0.9425742574257425\n",
      "              precision    recall  f1-score   support\n",
      "\n",
      "           0       0.95      0.99      0.97       466\n",
      "           1       0.78      0.36      0.49        39\n",
      "\n",
      "    accuracy                           0.94       505\n",
      "   macro avg       0.86      0.68      0.73       505\n",
      "weighted avg       0.94      0.94      0.93       505\n",
      "\n"
     ]
    }
   ],
   "source": [
    "y_pred=cart_tuned.predict(X_test)\n",
    "print(\"Tuning sonrası test accuracy score\", accuracy_score(y_test,y_pred)) \n",
    "print( classification_report(y_test,y_pred))#tuning ile yükseldi."
   ]
  },
  {
   "cell_type": "code",
   "execution_count": 25,
   "metadata": {},
   "outputs": [
    {
     "data": {
      "image/png": "[encoded data removed]",
      "text/plain": [
       "<Figure size 2520x1080 with 1 Axes>"
      ]
     },
     "metadata": {
      "needs_background": "light"
     },
     "output_type": "display_data"
    }
   ],
   "source": [
    "plt.figure(figsize=(35,15))\n",
    "tree.plot_tree(cart_tuned);"
   ]
  },
  {
   "cell_type": "code",
   "execution_count": 35,
   "metadata": {},
   "outputs": [
    {
     "data": {
      "image/png": "[encoded data removed]",
      "text/plain": [
       "<Figure size 432x288 with 1 Axes>"
      ]
     },
     "metadata": {
      "needs_background": "light"
     },
     "output_type": "display_data"
    }
   ],
   "source": [
    "Importance = pd.DataFrame({\"Importance\": cart_tuned.feature_importances_*100},\n",
    "                          index = X_train.columns)\n",
    "\n",
    "Importance.sort_values(by=\"Importance\", axis=0, ascending=True).plot(kind=\"barh\")\n",
    "plt.xlabel(\"Degisken Onem Duzeyleri\")\n",
    "plt.show()"
   ]
  },
  {
   "cell_type": "markdown",
   "metadata": {},
   "source": [
    "# Random Forest Algorithm"
   ]
  },
  {
   "cell_type": "code",
   "execution_count": 36,
   "metadata": {},
   "outputs": [
    {
     "data": {
      "text/plain": [
       "((1513, 17), (505, 17), (1513,), (505,))"
      ]
     },
     "execution_count": 36,
     "metadata": {},
     "output_type": "execute_result"
    }
   ],
   "source": [
    "X_train,X_test,y_train,y_test=train_test_split(X,y,test_size=0.25,random_state=42)\n",
    "X_train.shape, X_test.shape, y_train.shape, y_test.shape"
   ]
  },
  {
   "cell_type": "code",
   "execution_count": 37,
   "metadata": {},
   "outputs": [],
   "source": [
    "rf=RandomForestClassifier(random_state=42)\n",
    "rf_model=rf.fit(X_train,y_train)"
   ]
  },
  {
   "cell_type": "code",
   "execution_count": 38,
   "metadata": {},
   "outputs": [
    {
     "name": "stdout",
     "output_type": "stream",
     "text": [
      "Test Seti Random Forest Accuracy Score: 0.9524752475247524\n",
      "              precision    recall  f1-score   support\n",
      "\n",
      "           0       0.95      1.00      0.97       466\n",
      "           1       0.94      0.41      0.57        39\n",
      "\n",
      "    accuracy                           0.95       505\n",
      "   macro avg       0.95      0.70      0.77       505\n",
      "weighted avg       0.95      0.95      0.94       505\n",
      " Test veri seti için :\n"
     ]
    }
   ],
   "source": [
    "y_pred3=rf_model.predict(X_test)\n",
    "print(\"Test Seti Random Forest Accuracy Score:\", accuracy_score(y_test,y_pred3))\n",
    "print(classification_report(y_test,y_pred3),\"Test veri seti için :\")"
   ]
  },
  {
   "cell_type": "code",
   "execution_count": 39,
   "metadata": {},
   "outputs": [
    {
     "name": "stdout",
     "output_type": "stream",
     "text": [
      "Fitting 10 folds for each of 72 candidates, totalling 720 fits\n"
     ]
    },
    {
     "name": "stderr",
     "output_type": "stream",
     "text": [
      "[Parallel(n_jobs=-1)]: Using backend LokyBackend with 4 concurrent workers.\n",
      "[Parallel(n_jobs=-1)]: Done 158 tasks      | elapsed:    2.6s\n",
      "[Parallel(n_jobs=-1)]: Done 720 out of 720 | elapsed:   19.6s finished\n"
     ]
    },
    {
     "data": {
      "text/plain": [
       "GridSearchCV(cv=10, error_score='raise-deprecating',\n",
       "             estimator=RandomForestRegressor(bootstrap=True, criterion='mse',\n",
       "                                             max_depth=None,\n",
       "                                             max_features='auto',\n",
       "                                             max_leaf_nodes=None,\n",
       "                                             min_impurity_decrease=0.0,\n",
       "                                             min_impurity_split=None,\n",
       "                                             min_samples_leaf=1,\n",
       "                                             min_samples_split=2,\n",
       "                                             min_weight_fraction_leaf=0.0,\n",
       "                                             n_estimators='warn', n_jobs=None,\n",
       "                                             oob_score=False, random_state=42,\n",
       "                                             verbose=0, warm_start=False),\n",
       "             iid='warn', n_jobs=-1,\n",
       "             param_grid={'max_depth': [2, 3, 4, 5, 6, 7, 8, 9],\n",
       "                         'max_features': [2, 5, 17],\n",
       "                         'n_estimators': [10, 20, 50]},\n",
       "             pre_dispatch='2*n_jobs', refit=True, return_train_score=False,\n",
       "             scoring=None, verbose=2)"
      ]
     },
     "execution_count": 39,
     "metadata": {},
     "output_type": "execute_result"
    }
   ],
   "source": [
    "rf_params={\"max_depth\": list(range(2,10)),\n",
    "        \"max_features\": [2,5,17],\n",
    "        \"n_estimators\": [10,20,50]}\n",
    "rf_model = RandomForestRegressor(random_state=42)\n",
    "\n",
    "rf_tuned = GridSearchCV(rf_model, \n",
    "                           rf_params, \n",
    "                           cv=10, \n",
    "                           n_jobs=-1, \n",
    "                           verbose=2)\n",
    "rf_tuned.fit(X_train, y_train)"
   ]
  },
  {
   "cell_type": "code",
   "execution_count": 41,
   "metadata": {},
   "outputs": [
    {
     "name": "stdout",
     "output_type": "stream",
     "text": [
      "Random Forest en iyi parametre değerleri: {'max_depth': 9, 'max_features': 5, 'n_estimators': 50}\n"
     ]
    }
   ],
   "source": [
    "print(\"Random Forest en iyi parametre değerleri:\",rf_tuned.best_params_)"
   ]
  },
  {
   "cell_type": "code",
   "execution_count": 42,
   "metadata": {},
   "outputs": [
    {
     "data": {
      "text/plain": [
       "RandomForestClassifier(bootstrap=True, class_weight=None, criterion='gini',\n",
       "                       max_depth=9, max_features=5, max_leaf_nodes=None,\n",
       "                       min_impurity_decrease=0.0, min_impurity_split=None,\n",
       "                       min_samples_leaf=1, min_samples_split=2,\n",
       "                       min_weight_fraction_leaf=0.0, n_estimators=50,\n",
       "                       n_jobs=None, oob_score=False, random_state=None,\n",
       "                       verbose=0, warm_start=False)"
      ]
     },
     "execution_count": 42,
     "metadata": {},
     "output_type": "execute_result"
    }
   ],
   "source": [
    "rf_tuned=RandomForestClassifier(max_depth=9, max_features=5, n_estimators=50)\n",
    "rf_tuned.fit(X_train,y_train)"
   ]
  },
  {
   "cell_type": "code",
   "execution_count": 43,
   "metadata": {},
   "outputs": [
    {
     "name": "stdout",
     "output_type": "stream",
     "text": [
      "Random Forest Tuning Sonrası Accuracy Değeri: 0.9524752475247524\n",
      "              precision    recall  f1-score   support\n",
      "\n",
      "           0       0.95      1.00      0.97       466\n",
      "           1       1.00      0.38      0.56        39\n",
      "\n",
      "    accuracy                           0.95       505\n",
      "   macro avg       0.98      0.69      0.77       505\n",
      "weighted avg       0.95      0.95      0.94       505\n",
      " Test_tuned veri seti için\n"
     ]
    }
   ],
   "source": [
    "y_pred=rf_tuned.predict(X_test)\n",
    "print(\"Random Forest Tuning Sonrası Accuracy Değeri:\", accuracy_score(y_test,y_pred))\n",
    "print( classification_report(y_test,y_pred),\"Test_tuned veri seti için\")"
   ]
  },
  {
   "cell_type": "code",
   "execution_count": 44,
   "metadata": {},
   "outputs": [
    {
     "data": {
      "image/png": "[encoded data removed]",
      "text/plain": [
       "<Figure size 432x288 with 1 Axes>"
      ]
     },
     "metadata": {
      "needs_background": "light"
     },
     "output_type": "display_data"
    }
   ],
   "source": [
    "importance = pd.DataFrame({\"Importance\": rf_tuned.feature_importances_*100},\n",
    "                          index=X_train.columns)\n",
    "importance.sort_values(by=\"Importance\", axis=0, ascending=True).plot(kind=\"barh\", color=\"r\")\n",
    "plt.xlabel(\"Degiskenlerin Onem Duzeyleri\")\n",
    "plt.show()"
   ]
  },
  {
   "cell_type": "code",
   "execution_count": 45,
   "metadata": {},
   "outputs": [],
   "source": [
    "go = list(importance.sort_values(by= \"Importance\", axis=0,ascending=False)[0:10].T.columns)"
   ]
  },
  {
   "cell_type": "code",
   "execution_count": 46,
   "metadata": {},
   "outputs": [
    {
     "data": {
      "text/plain": [
       "['debtinc',\n",
       " 'delinq',\n",
       " 'loan',\n",
       " 'clage',\n",
       " 'clno',\n",
       " 'value',\n",
       " 'mortdue',\n",
       " 'derog',\n",
       " 'ninq',\n",
       " 'yoj']"
      ]
     },
     "execution_count": 46,
     "metadata": {},
     "output_type": "execute_result"
    }
   ],
   "source": [
    "go"
   ]
  },
  {
   "cell_type": "code",
   "execution_count": 47,
   "metadata": {},
   "outputs": [
    {
     "data": {
      "text/plain": [
       "((1513, 10), (505, 10), (1513,), (505,))"
      ]
     },
     "execution_count": 47,
     "metadata": {},
     "output_type": "execute_result"
    }
   ],
   "source": [
    "X=X[go]\n",
    "X_train,X_test,y_train,y_test=train_test_split(X,y,test_size=0.25,random_state=42)\n",
    "X_train.shape, X_test.shape, y_train.shape, y_test.shape"
   ]
  },
  {
   "cell_type": "code",
   "execution_count": 48,
   "metadata": {},
   "outputs": [
    {
     "data": {
      "text/plain": [
       "RandomForestClassifier(bootstrap=True, class_weight=None, criterion='gini',\n",
       "                       max_depth=9, max_features=5, max_leaf_nodes=None,\n",
       "                       min_impurity_decrease=0.0, min_impurity_split=None,\n",
       "                       min_samples_leaf=1, min_samples_split=2,\n",
       "                       min_weight_fraction_leaf=0.0, n_estimators=50,\n",
       "                       n_jobs=None, oob_score=False, random_state=None,\n",
       "                       verbose=0, warm_start=False)"
      ]
     },
     "execution_count": 48,
     "metadata": {},
     "output_type": "execute_result"
    }
   ],
   "source": [
    "rf_tuned=RandomForestClassifier(max_depth=9, max_features=5, n_estimators=50)\n",
    "rf_tuned.fit(X_train,y_train)"
   ]
  },
  {
   "cell_type": "code",
   "execution_count": 49,
   "metadata": {},
   "outputs": [
    {
     "name": "stdout",
     "output_type": "stream",
     "text": [
      "Random Forest Tuning Sonrası Accuracy Değeri: 0.9584158415841584\n",
      "              precision    recall  f1-score   support\n",
      "\n",
      "           0       0.96      1.00      0.98       466\n",
      "           1       0.95      0.49      0.64        39\n",
      "\n",
      "    accuracy                           0.96       505\n",
      "   macro avg       0.95      0.74      0.81       505\n",
      "weighted avg       0.96      0.96      0.95       505\n",
      " Test_tuned veri seti için\n"
     ]
    }
   ],
   "source": [
    "y_tuned=rf_tuned.predict(X_test)\n",
    "print(\"Random Forest Tuning Sonrası Accuracy Değeri:\", accuracy_score(y_test,y_tuned))\n",
    "print( classification_report(y_test,y_tuned),\"Test_tuned veri seti için\")"
   ]
  },
  {
   "cell_type": "markdown",
   "metadata": {},
   "source": [
    "# Yapay Sinir Ağı"
   ]
  },
  {
   "cell_type": "code",
   "execution_count": 173,
   "metadata": {},
   "outputs": [
    {
     "data": {
      "text/plain": [
       "((1513, 10), (505, 10), (1513,), (505,))"
      ]
     },
     "execution_count": 173,
     "metadata": {},
     "output_type": "execute_result"
    }
   ],
   "source": [
    "\n",
    "X_train,X_test,y_train,y_test=train_test_split(X,y,test_size=0.25,random_state=42)\n",
    "X_train.shape, X_test.shape, y_train.shape, y_test.shape"
   ]
  },
  {
   "cell_type": "code",
   "execution_count": 174,
   "metadata": {},
   "outputs": [],
   "source": [
    "from sklearn.preprocessing import StandardScaler\n",
    "scaler = StandardScaler()\n",
    "scaler.fit(X_train)\n",
    "X_train= scaler.transform(X_train)\n",
    "\n",
    "scaler.fit(X_test)\n",
    "X_test= scaler.transform(X_test)"
   ]
  },
  {
   "cell_type": "code",
   "execution_count": 175,
   "metadata": {},
   "outputs": [
    {
     "data": {
      "text/plain": [
       "MLPClassifier(activation='relu', alpha=0.0001, batch_size='auto', beta_1=0.9,\n",
       "              beta_2=0.999, early_stopping=False, epsilon=1e-08,\n",
       "              hidden_layer_sizes=(100, 20), learning_rate='constant',\n",
       "              learning_rate_init=0.001, max_iter=200, momentum=0.9,\n",
       "              n_iter_no_change=10, nesterovs_momentum=True, power_t=0.5,\n",
       "              random_state=None, shuffle=True, solver='adam', tol=0.0001,\n",
       "              validation_fraction=0.1, verbose=False, warm_start=False)"
      ]
     },
     "execution_count": 175,
     "metadata": {},
     "output_type": "execute_result"
    }
   ],
   "source": [
    "from sklearn.neural_network import MLPClassifier\n",
    "mlp_model = MLPClassifier(hidden_layer_sizes=(100,20)).fit(X_train, y_train)\n",
    "mlp_model"
   ]
  },
  {
   "cell_type": "code",
   "execution_count": 176,
   "metadata": {},
   "outputs": [
    {
     "name": "stdout",
     "output_type": "stream",
     "text": [
      "Yapay Sinir Ağı Accuracy Değeri: 0.9485148514851485\n"
     ]
    }
   ],
   "source": [
    "y_pred_m=mlp_model.predict(X_test)\n",
    "print(\"Yapay Sinir Ağı Accuracy Değeri:\", accuracy_score(y_test,y_pred_m))"
   ]
  },
  {
   "cell_type": "code",
   "execution_count": 177,
   "metadata": {},
   "outputs": [
    {
     "name": "stdout",
     "output_type": "stream",
     "text": [
      "              precision    recall  f1-score   support\n",
      "\n",
      "           0       0.96      0.99      0.97       466\n",
      "           1       0.76      0.49      0.59        39\n",
      "\n",
      "    accuracy                           0.95       505\n",
      "   macro avg       0.86      0.74      0.78       505\n",
      "weighted avg       0.94      0.95      0.94       505\n",
      "\n"
     ]
    }
   ],
   "source": [
    "print(classification_report(y_test,y_pred_m))"
   ]
  },
  {
   "cell_type": "code",
   "execution_count": 23,
   "metadata": {},
   "outputs": [
    {
     "name": "stdout",
     "output_type": "stream",
     "text": [
      "Fitting 10 folds for each of 12 candidates, totalling 120 fits\n"
     ]
    },
    {
     "name": "stderr",
     "output_type": "stream",
     "text": [
      "[Parallel(n_jobs=-1)]: Using backend LokyBackend with 4 concurrent workers.\n",
      "[Parallel(n_jobs=-1)]: Done  33 tasks      | elapsed:  1.7min\n",
      "[Parallel(n_jobs=-1)]: Done 120 out of 120 | elapsed:  5.8min finished\n"
     ]
    },
    {
     "data": {
      "text/plain": [
       "{'activation': 'relu', 'alpha': 0.01, 'hidden_layer_sizes': (300, 200, 150)}"
      ]
     },
     "execution_count": 23,
     "metadata": {},
     "output_type": "execute_result"
    }
   ],
   "source": [
    "mlp_param = {\"alpha\": [0.1,0.01,0.02],\n",
    "             \"hidden_layer_sizes\": [(100,50,150), (300,200,150)],\n",
    "             \"activation\": [\"relu\",\"logistic\"]}\n",
    "\n",
    "mlp_cv_model = GridSearchCV(mlp_model, mlp_param, cv=10, n_jobs=-1, verbose=2)\n",
    "mlp_cv_model.fit(X_train_scaled, y_train)\n",
    "\n",
    "mlp_cv_model.best_params_\n"
   ]
  },
  {
   "cell_type": "code",
   "execution_count": 158,
   "metadata": {},
   "outputs": [
    {
     "data": {
      "text/plain": [
       "MLPClassifier(activation='relu', alpha=0.01, batch_size='auto', beta_1=0.9,\n",
       "              beta_2=0.999, early_stopping=False, epsilon=1e-08,\n",
       "              hidden_layer_sizes=(300, 200, 150), learning_rate='constant',\n",
       "              learning_rate_init=0.001, max_iter=200, momentum=0.9,\n",
       "              n_iter_no_change=10, nesterovs_momentum=True, power_t=0.5,\n",
       "              random_state=None, shuffle=True, solver='adam', tol=0.0001,\n",
       "              validation_fraction=0.1, verbose=False, warm_start=False)"
      ]
     },
     "execution_count": 158,
     "metadata": {},
     "output_type": "execute_result"
    }
   ],
   "source": [
    "mlp_tuned =  MLPClassifier(alpha= 0.01, hidden_layer_sizes=(300,200,150), activation=\"relu\")\n",
    "mlp_tuned.fit(X_train, y_train)"
   ]
  },
  {
   "cell_type": "code",
   "execution_count": 178,
   "metadata": {},
   "outputs": [
    {
     "name": "stdout",
     "output_type": "stream",
     "text": [
      "Tuning Sonrası YSA Accuracy Değeri: 0.8455445544554455\n",
      "              precision    recall  f1-score   support\n",
      "\n",
      "           0       0.96      0.87      0.91       466\n",
      "           1       0.27      0.59      0.37        39\n",
      "\n",
      "    accuracy                           0.85       505\n",
      "   macro avg       0.62      0.73      0.64       505\n",
      "weighted avg       0.91      0.85      0.87       505\n",
      "\n"
     ]
    }
   ],
   "source": [
    "y_pred=mlp_tuned.predict(X_test)\n",
    "print(\"Tuning Sonrası YSA Accuracy Değeri:\", accuracy_score(y_test,y_pred))\n",
    "print(classification_report(y_test,y_pred))"
   ]
  },
  {
   "cell_type": "markdown",
   "metadata": {},
   "source": [
    "# GARDIENT BOOSTING"
   ]
  },
  {
   "cell_type": "code",
   "execution_count": 50,
   "metadata": {},
   "outputs": [],
   "source": [
    "from sklearn.ensemble import GradientBoostingClassifier"
   ]
  },
  {
   "cell_type": "code",
   "execution_count": 51,
   "metadata": {},
   "outputs": [
    {
     "data": {
      "text/plain": [
       "((1513, 10), (505, 10), (1513,), (505,))"
      ]
     },
     "execution_count": 51,
     "metadata": {},
     "output_type": "execute_result"
    }
   ],
   "source": [
    "X_train,X_test,y_train,y_test=train_test_split(X,y,test_size=0.25,random_state=42)\n",
    "X_train.shape, X_test.shape, y_train.shape, y_test.shape"
   ]
  },
  {
   "cell_type": "code",
   "execution_count": 181,
   "metadata": {},
   "outputs": [
    {
     "data": {
      "text/html": [
       "<div>\n",
       "<style scoped>\n",
       "    .dataframe tbody tr th:only-of-type {\n",
       "        vertical-align: middle;\n",
       "    }\n",
       "\n",
       "    .dataframe tbody tr th {\n",
       "        vertical-align: top;\n",
       "    }\n",
       "\n",
       "    .dataframe thead th {\n",
       "        text-align: right;\n",
       "    }\n",
       "</style>\n",
       "<table border=\"1\" class=\"dataframe\">\n",
       "  <thead>\n",
       "    <tr style=\"text-align: right;\">\n",
       "      <th></th>\n",
       "      <th>debtinc</th>\n",
       "      <th>delinq</th>\n",
       "      <th>value</th>\n",
       "      <th>loan</th>\n",
       "      <th>clage</th>\n",
       "      <th>clno</th>\n",
       "      <th>mortdue</th>\n",
       "      <th>derog</th>\n",
       "      <th>ninq</th>\n",
       "      <th>yoj</th>\n",
       "    </tr>\n",
       "  </thead>\n",
       "  <tbody>\n",
       "    <tr>\n",
       "      <th>153</th>\n",
       "      <td>36.056</td>\n",
       "      <td>0.0</td>\n",
       "      <td>136877.0</td>\n",
       "      <td>18200.0</td>\n",
       "      <td>168.96</td>\n",
       "      <td>26.0</td>\n",
       "      <td>94727.0</td>\n",
       "      <td>0.0</td>\n",
       "      <td>2.0</td>\n",
       "      <td>15.0</td>\n",
       "    </tr>\n",
       "    <tr>\n",
       "      <th>154</th>\n",
       "      <td>38.079</td>\n",
       "      <td>0.0</td>\n",
       "      <td>96784.0</td>\n",
       "      <td>21700.0</td>\n",
       "      <td>64.51</td>\n",
       "      <td>24.0</td>\n",
       "      <td>79240.0</td>\n",
       "      <td>0.0</td>\n",
       "      <td>6.0</td>\n",
       "      <td>5.0</td>\n",
       "    </tr>\n",
       "    <tr>\n",
       "      <th>155</th>\n",
       "      <td>42.459</td>\n",
       "      <td>2.0</td>\n",
       "      <td>36486.0</td>\n",
       "      <td>34100.0</td>\n",
       "      <td>196.01</td>\n",
       "      <td>50.0</td>\n",
       "      <td>241931.0</td>\n",
       "      <td>0.0</td>\n",
       "      <td>3.0</td>\n",
       "      <td>1.0</td>\n",
       "    </tr>\n",
       "    <tr>\n",
       "      <th>156</th>\n",
       "      <td>29.200</td>\n",
       "      <td>2.0</td>\n",
       "      <td>76718.0</td>\n",
       "      <td>8400.0</td>\n",
       "      <td>131.47</td>\n",
       "      <td>22.0</td>\n",
       "      <td>62989.0</td>\n",
       "      <td>0.0</td>\n",
       "      <td>0.0</td>\n",
       "      <td>3.0</td>\n",
       "    </tr>\n",
       "    <tr>\n",
       "      <th>157</th>\n",
       "      <td>27.108</td>\n",
       "      <td>0.0</td>\n",
       "      <td>43684.0</td>\n",
       "      <td>17400.0</td>\n",
       "      <td>95.36</td>\n",
       "      <td>17.0</td>\n",
       "      <td>25859.0</td>\n",
       "      <td>1.0</td>\n",
       "      <td>1.0</td>\n",
       "      <td>16.0</td>\n",
       "    </tr>\n",
       "  </tbody>\n",
       "</table>\n",
       "</div>"
      ],
      "text/plain": [
       "     debtinc  delinq     value     loan   clage  clno   mortdue  derog  ninq  \\\n",
       "153   36.056     0.0  136877.0  18200.0  168.96  26.0   94727.0    0.0   2.0   \n",
       "154   38.079     0.0   96784.0  21700.0   64.51  24.0   79240.0    0.0   6.0   \n",
       "155   42.459     2.0   36486.0  34100.0  196.01  50.0  241931.0    0.0   3.0   \n",
       "156   29.200     2.0   76718.0   8400.0  131.47  22.0   62989.0    0.0   0.0   \n",
       "157   27.108     0.0   43684.0  17400.0   95.36  17.0   25859.0    1.0   1.0   \n",
       "\n",
       "      yoj  \n",
       "153  15.0  \n",
       "154   5.0  \n",
       "155   1.0  \n",
       "156   3.0  \n",
       "157  16.0  "
      ]
     },
     "execution_count": 181,
     "metadata": {},
     "output_type": "execute_result"
    }
   ],
   "source": [
    "X.head()"
   ]
  },
  {
   "cell_type": "code",
   "execution_count": 36,
   "metadata": {},
   "outputs": [],
   "source": [
    "gb_model=GradientBoostingClassifier().fit(X_train,y_train)"
   ]
  },
  {
   "cell_type": "code",
   "execution_count": 157,
   "metadata": {},
   "outputs": [],
   "source": [
    "y_pred=gb_model.predict(X_test)"
   ]
  },
  {
   "cell_type": "code",
   "execution_count": 31,
   "metadata": {},
   "outputs": [
    {
     "data": {
      "text/plain": [
       "0.9584158415841584"
      ]
     },
     "execution_count": 31,
     "metadata": {},
     "output_type": "execute_result"
    }
   ],
   "source": [
    "accuracy_score(y_pred,y_test)"
   ]
  },
  {
   "cell_type": "code",
   "execution_count": 32,
   "metadata": {},
   "outputs": [
    {
     "name": "stdout",
     "output_type": "stream",
     "text": [
      "              precision    recall  f1-score   support\n",
      "\n",
      "           0       0.96      1.00      0.98       466\n",
      "           1       0.95      0.49      0.64        39\n",
      "\n",
      "    accuracy                           0.96       505\n",
      "   macro avg       0.95      0.74      0.81       505\n",
      "weighted avg       0.96      0.96      0.95       505\n",
      " Test veri seti için\n"
     ]
    }
   ],
   "source": [
    "print(classification_report(y_test,y_pred),\"Test veri seti için\")"
   ]
  },
  {
   "cell_type": "markdown",
   "metadata": {},
   "source": [
    "# Gradient Boosting Tuned"
   ]
  },
  {
   "cell_type": "code",
   "execution_count": 44,
   "metadata": {},
   "outputs": [],
   "source": [
    "gb_params={\"learning_rate\": [0.001,0.01,0.1],\n",
    "           \"n_estimators\":[100,500,1000],\n",
    "           \"max_depth\":[5,10],\n",
    "           \"min_samples_split\":[5,10]}\n",
    "\n",
    "gb=GradientBoostingClassifier()\n",
    "\n",
    "gb_cv_model=GridSearchCV(gb,gb_params,cv=10,n_jobs=-1,verbose=2)\n"
   ]
  },
  {
   "cell_type": "code",
   "execution_count": 45,
   "metadata": {},
   "outputs": [
    {
     "name": "stdout",
     "output_type": "stream",
     "text": [
      "Fitting 10 folds for each of 36 candidates, totalling 360 fits\n"
     ]
    },
    {
     "name": "stderr",
     "output_type": "stream",
     "text": [
      "[Parallel(n_jobs=-1)]: Using backend LokyBackend with 4 concurrent workers.\n",
      "[Parallel(n_jobs=-1)]: Done  33 tasks      | elapsed:   15.0s\n",
      "[Parallel(n_jobs=-1)]: Done 154 tasks      | elapsed:  1.8min\n",
      "[Parallel(n_jobs=-1)]: Done 360 out of 360 | elapsed:  4.2min finished\n"
     ]
    },
    {
     "data": {
      "text/plain": [
       "GridSearchCV(cv=10, error_score='raise-deprecating',\n",
       "             estimator=GradientBoostingClassifier(criterion='friedman_mse',\n",
       "                                                  init=None, learning_rate=0.1,\n",
       "                                                  loss='deviance', max_depth=3,\n",
       "                                                  max_features=None,\n",
       "                                                  max_leaf_nodes=None,\n",
       "                                                  min_impurity_decrease=0.0,\n",
       "                                                  min_impurity_split=None,\n",
       "                                                  min_samples_leaf=1,\n",
       "                                                  min_samples_split=2,\n",
       "                                                  min_weight_fraction_leaf=0.0,\n",
       "                                                  n_estimators=100,\n",
       "                                                  n_iter_no_change=None,\n",
       "                                                  presort='auto',\n",
       "                                                  random_state=None,\n",
       "                                                  subsample=1.0, tol=0.0001,\n",
       "                                                  validation_fraction=0.1,\n",
       "                                                  verbose=0, warm_start=False),\n",
       "             iid='warn', n_jobs=-1,\n",
       "             param_grid={'learning_rate': [0.001, 0.01, 0.1],\n",
       "                         'max_depth': [5, 10], 'min_samples_split': [5, 10],\n",
       "                         'n_estimators': [100, 500, 1000]},\n",
       "             pre_dispatch='2*n_jobs', refit=True, return_train_score=False,\n",
       "             scoring=None, verbose=2)"
      ]
     },
     "execution_count": 45,
     "metadata": {},
     "output_type": "execute_result"
    }
   ],
   "source": [
    "gb_cv_model.fit(X_train,y_train)"
   ]
  },
  {
   "cell_type": "code",
   "execution_count": 46,
   "metadata": {},
   "outputs": [
    {
     "name": "stdout",
     "output_type": "stream",
     "text": [
      "En iyi parametreler:{'learning_rate': 0.1, 'max_depth': 10, 'min_samples_split': 10, 'n_estimators': 1000}\n"
     ]
    }
   ],
   "source": [
    "print(\"En iyi parametreler:\" + str(gb_cv_model.best_params_))"
   ]
  },
  {
   "cell_type": "code",
   "execution_count": 52,
   "metadata": {},
   "outputs": [],
   "source": [
    "gb=GradientBoostingClassifier(learning_rate=0.1,\n",
    "                             max_depth=10,\n",
    "                             min_samples_split=10,\n",
    "                             n_estimators=1000,)"
   ]
  },
  {
   "cell_type": "code",
   "execution_count": 56,
   "metadata": {},
   "outputs": [],
   "source": [
    "gb_tuned=gb.fit(X_train,y_train)"
   ]
  },
  {
   "cell_type": "code",
   "execution_count": 57,
   "metadata": {},
   "outputs": [],
   "source": [
    "y_pred=gb_tuned.predict(X_test)"
   ]
  },
  {
   "cell_type": "code",
   "execution_count": 58,
   "metadata": {},
   "outputs": [
    {
     "data": {
      "text/plain": [
       "0.9643564356435643"
      ]
     },
     "execution_count": 58,
     "metadata": {},
     "output_type": "execute_result"
    }
   ],
   "source": [
    "accuracy_score(y_pred,y_test)"
   ]
  },
  {
   "cell_type": "code",
   "execution_count": 59,
   "metadata": {},
   "outputs": [
    {
     "name": "stdout",
     "output_type": "stream",
     "text": [
      "              precision    recall  f1-score   support\n",
      "\n",
      "           0       0.96      1.00      0.98       466\n",
      "           1       0.96      0.56      0.71        39\n",
      "\n",
      "    accuracy                           0.96       505\n",
      "   macro avg       0.96      0.78      0.85       505\n",
      "weighted avg       0.96      0.96      0.96       505\n",
      " Test veri seti için\n"
     ]
    }
   ],
   "source": [
    "print(classification_report(y_test,y_pred),\"Test veri seti için\")"
   ]
  },
  {
   "cell_type": "markdown",
   "metadata": {},
   "source": [
    "# XGBOOSTING"
   ]
  },
  {
   "cell_type": "code",
   "execution_count": 60,
   "metadata": {},
   "outputs": [
    {
     "data": {
      "text/plain": [
       "((1513, 10), (505, 10), (1513,), (505,))"
      ]
     },
     "execution_count": 60,
     "metadata": {},
     "output_type": "execute_result"
    }
   ],
   "source": [
    "X_train,X_test,y_train,y_test=train_test_split(X,y,test_size=0.25,random_state=42)\n",
    "X_train.shape, X_test.shape, y_train.shape, y_test.shape"
   ]
  },
  {
   "cell_type": "code",
   "execution_count": 61,
   "metadata": {},
   "outputs": [],
   "source": [
    "from xgboost import XGBClassifier"
   ]
  },
  {
   "cell_type": "code",
   "execution_count": 62,
   "metadata": {},
   "outputs": [],
   "source": [
    "xg_model=XGBClassifier().fit(X_train,y_train)"
   ]
  },
  {
   "cell_type": "code",
   "execution_count": 63,
   "metadata": {},
   "outputs": [],
   "source": [
    "y_pred=xg_model.predict(X_test)"
   ]
  },
  {
   "cell_type": "code",
   "execution_count": 56,
   "metadata": {},
   "outputs": [
    {
     "data": {
      "text/plain": [
       "0.9623762376237623"
      ]
     },
     "execution_count": 56,
     "metadata": {},
     "output_type": "execute_result"
    }
   ],
   "source": [
    "accuracy_score(y_pred,y_test)"
   ]
  },
  {
   "cell_type": "code",
   "execution_count": 57,
   "metadata": {},
   "outputs": [
    {
     "name": "stdout",
     "output_type": "stream",
     "text": [
      "              precision    recall  f1-score   support\n",
      "\n",
      "           0       0.96      1.00      0.98       466\n",
      "           1       1.00      0.51      0.68        39\n",
      "\n",
      "    accuracy                           0.96       505\n",
      "   macro avg       0.98      0.76      0.83       505\n",
      "weighted avg       0.96      0.96      0.96       505\n",
      " Test veri seti için\n"
     ]
    }
   ],
   "source": [
    "print(classification_report(y_test,y_pred),\"Test veri seti için\")"
   ]
  },
  {
   "cell_type": "markdown",
   "metadata": {},
   "source": [
    "# XGB TUNED"
   ]
  },
  {
   "cell_type": "code",
   "execution_count": 58,
   "metadata": {},
   "outputs": [
    {
     "name": "stdout",
     "output_type": "stream",
     "text": [
      "Fitting 10 folds for each of 32 candidates, totalling 320 fits\n"
     ]
    },
    {
     "name": "stderr",
     "output_type": "stream",
     "text": [
      "[Parallel(n_jobs=-1)]: Using backend LokyBackend with 4 concurrent workers.\n",
      "[Parallel(n_jobs=-1)]: Done  33 tasks      | elapsed:   20.4s\n",
      "[Parallel(n_jobs=-1)]: Done 154 tasks      | elapsed:  2.4min\n",
      "[Parallel(n_jobs=-1)]: Done 320 out of 320 | elapsed:  4.3min finished\n"
     ]
    },
    {
     "data": {
      "text/plain": [
       "GridSearchCV(cv=10, error_score='raise-deprecating',\n",
       "             estimator=XGBClassifier(base_score=None, booster=None,\n",
       "                                     colsample_bylevel=None,\n",
       "                                     colsample_bynode=None,\n",
       "                                     colsample_bytree=None, gamma=None,\n",
       "                                     gpu_id=None, importance_type='gain',\n",
       "                                     interaction_constraints=None,\n",
       "                                     learning_rate=None, max_delta_step=None,\n",
       "                                     max_depth=None, min_child_weight=None,\n",
       "                                     missing=nan, monotone_constra...\n",
       "                                     random_state=None, reg_alpha=None,\n",
       "                                     reg_lambda=None, scale_pos_weight=None,\n",
       "                                     subsample=None, tree_method=None,\n",
       "                                     validate_parameters=None, verbosity=None),\n",
       "             iid='warn', n_jobs=-1,\n",
       "             param_grid={'learning_rate': [0.001, 0.01, 0.1, 0.2],\n",
       "                         'max_depth': [5, 10], 'min_child_weight': [0.8, 0.9],\n",
       "                         'n_estimators': [500, 1000]},\n",
       "             pre_dispatch='2*n_jobs', refit=True, return_train_score=False,\n",
       "             scoring=None, verbose=2)"
      ]
     },
     "execution_count": 58,
     "metadata": {},
     "output_type": "execute_result"
    }
   ],
   "source": [
    "xgb_params={\"learning_rate\": [0.001,0.01,0.1,0.2],\n",
    "           \"n_estimators\":[500,1000],\n",
    "           \"max_depth\":[5,10],\n",
    "           \"min_child_weight\":[0.8,0.9]}\n",
    "xgb=XGBClassifier()\n",
    "\n",
    "xgb_cv_model=GridSearchCV(xgb,xgb_params,cv=10,n_jobs=-1,verbose=2)\n",
    "xgb_cv_model.fit(X_train,y_train)\n"
   ]
  },
  {
   "cell_type": "code",
   "execution_count": 59,
   "metadata": {},
   "outputs": [
    {
     "name": "stdout",
     "output_type": "stream",
     "text": [
      "En iyi parametreler:{'learning_rate': 0.1, 'max_depth': 5, 'min_child_weight': 0.8, 'n_estimators': 500}\n"
     ]
    }
   ],
   "source": [
    "print(\"En iyi parametreler:\" + str(xgb_cv_model.best_params_))"
   ]
  },
  {
   "cell_type": "code",
   "execution_count": 64,
   "metadata": {},
   "outputs": [],
   "source": [
    "xgb=XGBClassifier(learning_rate=0.1,\n",
    "                             max_depth=5,\n",
    "                             min_child_weight=0.8,\n",
    "                             n_estimators=500,)\n"
   ]
  },
  {
   "cell_type": "code",
   "execution_count": 65,
   "metadata": {},
   "outputs": [],
   "source": [
    "xgb_tuned=xgb.fit(X_train,y_train)"
   ]
  },
  {
   "cell_type": "code",
   "execution_count": 66,
   "metadata": {},
   "outputs": [],
   "source": [
    "y_pred=xgb_tuned.predict(X_test)"
   ]
  },
  {
   "cell_type": "code",
   "execution_count": 67,
   "metadata": {},
   "outputs": [
    {
     "data": {
      "text/plain": [
       "0.9663366336633663"
      ]
     },
     "execution_count": 67,
     "metadata": {},
     "output_type": "execute_result"
    }
   ],
   "source": [
    "accuracy_score(y_pred,y_test)"
   ]
  },
  {
   "cell_type": "code",
   "execution_count": 64,
   "metadata": {},
   "outputs": [
    {
     "name": "stdout",
     "output_type": "stream",
     "text": [
      "              precision    recall  f1-score   support\n",
      "\n",
      "           0       0.96      1.00      0.98       466\n",
      "           1       1.00      0.56      0.72        39\n",
      "\n",
      "    accuracy                           0.97       505\n",
      "   macro avg       0.98      0.78      0.85       505\n",
      "weighted avg       0.97      0.97      0.96       505\n",
      " Test tuned veri seti için\n"
     ]
    }
   ],
   "source": [
    "print(classification_report(y_test,y_pred),\"Test tuned veri seti için\")"
   ]
  },
  {
   "cell_type": "markdown",
   "metadata": {},
   "source": [
    "# LGBoosting"
   ]
  },
  {
   "cell_type": "code",
   "execution_count": 68,
   "metadata": {},
   "outputs": [
    {
     "data": {
      "text/plain": [
       "((1513, 10), (505, 10), (1513,), (505,))"
      ]
     },
     "execution_count": 68,
     "metadata": {},
     "output_type": "execute_result"
    }
   ],
   "source": [
    "X_train,X_test,y_train,y_test=train_test_split(X,y,test_size=0.25,random_state=42)\n",
    "X_train.shape, X_test.shape, y_train.shape, y_test.shape"
   ]
  },
  {
   "cell_type": "code",
   "execution_count": 69,
   "metadata": {},
   "outputs": [],
   "source": [
    "from lightgbm import LGBMClassifier"
   ]
  },
  {
   "cell_type": "code",
   "execution_count": 50,
   "metadata": {},
   "outputs": [],
   "source": [
    "lgb_model=LGBMClassifier().fit(X_train,y_train)"
   ]
  },
  {
   "cell_type": "code",
   "execution_count": 51,
   "metadata": {},
   "outputs": [],
   "source": [
    "y_pred=lgb_model.predict(X_test)"
   ]
  },
  {
   "cell_type": "code",
   "execution_count": 171,
   "metadata": {},
   "outputs": [
    {
     "data": {
      "text/plain": [
       "0.9643564356435643"
      ]
     },
     "execution_count": 171,
     "metadata": {},
     "output_type": "execute_result"
    }
   ],
   "source": [
    "accuracy_score(y_pred,y_test)"
   ]
  },
  {
   "cell_type": "code",
   "execution_count": 172,
   "metadata": {},
   "outputs": [
    {
     "name": "stdout",
     "output_type": "stream",
     "text": [
      "              precision    recall  f1-score   support\n",
      "\n",
      "           0       0.96      1.00      0.98       466\n",
      "           1       1.00      0.54      0.70        39\n",
      "\n",
      "    accuracy                           0.96       505\n",
      "   macro avg       0.98      0.77      0.84       505\n",
      "weighted avg       0.97      0.96      0.96       505\n",
      " Test veri seti için\n"
     ]
    }
   ],
   "source": [
    "print(classification_report(y_test,y_pred),\"Test veri seti için\")"
   ]
  },
  {
   "cell_type": "code",
   "execution_count": 52,
   "metadata": {},
   "outputs": [
    {
     "name": "stdout",
     "output_type": "stream",
     "text": [
      "Fitting 10 folds for each of 128 candidates, totalling 1280 fits\n"
     ]
    },
    {
     "name": "stderr",
     "output_type": "stream",
     "text": [
      "[Parallel(n_jobs=-1)]: Using backend LokyBackend with 4 concurrent workers.\n",
      "[Parallel(n_jobs=-1)]: Done  33 tasks      | elapsed:   11.8s\n",
      "[Parallel(n_jobs=-1)]: Done 154 tasks      | elapsed:   46.9s\n",
      "[Parallel(n_jobs=-1)]: Done 357 tasks      | elapsed:  1.8min\n",
      "[Parallel(n_jobs=-1)]: Done 640 tasks      | elapsed:  2.8min\n",
      "[Parallel(n_jobs=-1)]: Done 1005 tasks      | elapsed:  4.4min\n",
      "[Parallel(n_jobs=-1)]: Done 1280 out of 1280 | elapsed:  5.5min finished\n"
     ]
    },
    {
     "data": {
      "text/plain": [
       "GridSearchCV(cv=10, error_score='raise-deprecating',\n",
       "             estimator=LGBMClassifier(boosting_type='gbdt', class_weight=None,\n",
       "                                      colsample_bytree=1.0,\n",
       "                                      importance_type='split',\n",
       "                                      learning_rate=0.1, max_depth=-1,\n",
       "                                      min_child_samples=20,\n",
       "                                      min_child_weight=0.001,\n",
       "                                      min_split_gain=0.0, n_estimators=100,\n",
       "                                      n_jobs=-1, num_leaves=31, objective=None,\n",
       "                                      random_state=None, reg_alpha=0.0,\n",
       "                                      reg_lamb...ent=True,\n",
       "                                      subsample=1.0, subsample_for_bin=200000,\n",
       "                                      subsample_freq=0),\n",
       "             iid='warn', n_jobs=-1,\n",
       "             param_grid={'importance_type': ['gains', 'split'],\n",
       "                         'learning_rate': [0.001, 0.01, 0.1, 0.2],\n",
       "                         'max_depth': [4, 6], 'min_child_samples': [15, 20],\n",
       "                         'n_estimators': [500, 1000], 'subsample': [0.6, 0.8]},\n",
       "             pre_dispatch='2*n_jobs', refit=True, return_train_score=False,\n",
       "             scoring=None, verbose=2)"
      ]
     },
     "execution_count": 52,
     "metadata": {},
     "output_type": "execute_result"
    }
   ],
   "source": [
    "lgb_params={\"learning_rate\": [0.001,0.01,0.1,0.2],\n",
    "           \"n_estimators\":[500,1000],\n",
    "           \"max_depth\":[4,6],\n",
    "           \"min_child_samples\":[15,20],\n",
    "           \"subsample\":[0.6,0.8],\n",
    "           \"importance_type\":[\"gains\",\"split\"]}\n",
    "lgb=LGBMClassifier()\n",
    "\n",
    "lgb_cv_model=GridSearchCV(lgb,lgb_params,cv=10,n_jobs=-1,verbose=2)\n",
    "lgb_cv_model.fit(X_train,y_train)\n"
   ]
  },
  {
   "cell_type": "code",
   "execution_count": 55,
   "metadata": {},
   "outputs": [
    {
     "name": "stdout",
     "output_type": "stream",
     "text": [
      "En iyi parametreler:{'importance_type': 'gains', 'learning_rate': 0.2, 'max_depth': 4, 'min_child_samples': 20, 'n_estimators': 500, 'subsample': 0.6}\n"
     ]
    }
   ],
   "source": [
    "print(\"En iyi parametreler:\" + str(lgb_cv_model.best_params_))"
   ]
  },
  {
   "cell_type": "code",
   "execution_count": 70,
   "metadata": {},
   "outputs": [
    {
     "data": {
      "text/plain": [
       "0.9643564356435643"
      ]
     },
     "execution_count": 70,
     "metadata": {},
     "output_type": "execute_result"
    }
   ],
   "source": [
    "lgb=LGBMClassifier(learning_rate=0.2,\n",
    "                             max_depth=4,\n",
    "                             min_child_samples=20,\n",
    "                             n_estimators=500,\n",
    "                  subsample=0.6,\n",
    "                  importance_type='gains')\n",
    "lgb_tuned=lgb.fit(X_train,y_train)\n",
    "y_pred=lgb_tuned.predict(X_test)\n",
    "accuracy_score(y_pred,y_test)\n"
   ]
  },
  {
   "cell_type": "code",
   "execution_count": 141,
   "metadata": {},
   "outputs": [
    {
     "name": "stdout",
     "output_type": "stream",
     "text": [
      "              precision    recall  f1-score   support\n",
      "\n",
      "           0       0.96      1.00      0.98       466\n",
      "           1       1.00      0.54      0.70        39\n",
      "\n",
      "    accuracy                           0.96       505\n",
      "   macro avg       0.98      0.77      0.84       505\n",
      "weighted avg       0.97      0.96      0.96       505\n",
      " Test tuned veri seti için\n"
     ]
    }
   ],
   "source": [
    "print(classification_report(y_test,y_pred),\"Test tuned veri seti için\")"
   ]
  },
  {
   "cell_type": "markdown",
   "metadata": {},
   "source": [
    "# CATBOOSTING"
   ]
  },
  {
   "cell_type": "code",
   "execution_count": 71,
   "metadata": {},
   "outputs": [],
   "source": [
    "from catboost import CatBoostClassifier"
   ]
  },
  {
   "cell_type": "code",
   "execution_count": 72,
   "metadata": {},
   "outputs": [
    {
     "data": {
      "text/plain": [
       "((1513, 10), (505, 10), (1513,), (505,))"
      ]
     },
     "execution_count": 72,
     "metadata": {},
     "output_type": "execute_result"
    }
   ],
   "source": [
    "X_train,X_test,y_train,y_test=train_test_split(X,y,test_size=0.25,random_state=42)\n",
    "X_train.shape, X_test.shape, y_train.shape, y_test.shape"
   ]
  },
  {
   "cell_type": "code",
   "execution_count": 74,
   "metadata": {},
   "outputs": [
    {
     "name": "stdout",
     "output_type": "stream",
     "text": [
      "Learning rate set to 0.012295\n",
      "0:\tlearn: 0.6792570\ttotal: 58.4ms\tremaining: 58.3s\n",
      "1:\tlearn: 0.6658778\ttotal: 62ms\tremaining: 30.9s\n",
      "2:\tlearn: 0.6524563\ttotal: 65.6ms\tremaining: 21.8s\n",
      "3:\tlearn: 0.6397816\ttotal: 69.2ms\tremaining: 17.2s\n",
      "4:\tlearn: 0.6255691\ttotal: 72.2ms\tremaining: 14.4s\n",
      "5:\tlearn: 0.6127910\ttotal: 75.4ms\tremaining: 12.5s\n",
      "6:\tlearn: 0.6006439\ttotal: 78.7ms\tremaining: 11.2s\n",
      "7:\tlearn: 0.5900509\ttotal: 82.3ms\tremaining: 10.2s\n",
      "8:\tlearn: 0.5796807\ttotal: 85.8ms\tremaining: 9.45s\n",
      "9:\tlearn: 0.5688533\ttotal: 89.3ms\tremaining: 8.84s\n",
      "10:\tlearn: 0.5590471\ttotal: 92.7ms\tremaining: 8.34s\n",
      "11:\tlearn: 0.5497403\ttotal: 96.2ms\tremaining: 7.92s\n",
      "12:\tlearn: 0.5401475\ttotal: 99.8ms\tremaining: 7.57s\n",
      "13:\tlearn: 0.5307893\ttotal: 103ms\tremaining: 7.29s\n",
      "14:\tlearn: 0.5213330\ttotal: 107ms\tremaining: 7.03s\n",
      "15:\tlearn: 0.5139298\ttotal: 111ms\tremaining: 6.82s\n",
      "16:\tlearn: 0.5051855\ttotal: 115ms\tremaining: 6.63s\n",
      "17:\tlearn: 0.4965126\ttotal: 118ms\tremaining: 6.46s\n",
      "18:\tlearn: 0.4882481\ttotal: 122ms\tremaining: 6.3s\n",
      "19:\tlearn: 0.4810031\ttotal: 125ms\tremaining: 6.14s\n",
      "20:\tlearn: 0.4732922\ttotal: 129ms\tremaining: 6s\n",
      "21:\tlearn: 0.4655801\ttotal: 132ms\tremaining: 5.87s\n",
      "22:\tlearn: 0.4584539\ttotal: 135ms\tremaining: 5.74s\n",
      "23:\tlearn: 0.4513617\ttotal: 138ms\tremaining: 5.62s\n",
      "24:\tlearn: 0.4446012\ttotal: 141ms\tremaining: 5.51s\n",
      "25:\tlearn: 0.4365127\ttotal: 145ms\tremaining: 5.42s\n",
      "26:\tlearn: 0.4296439\ttotal: 153ms\tremaining: 5.51s\n",
      "27:\tlearn: 0.4236042\ttotal: 155ms\tremaining: 5.39s\n",
      "28:\tlearn: 0.4172558\ttotal: 158ms\tremaining: 5.3s\n",
      "29:\tlearn: 0.4114883\ttotal: 162ms\tremaining: 5.23s\n",
      "30:\tlearn: 0.4053725\ttotal: 165ms\tremaining: 5.17s\n",
      "31:\tlearn: 0.4004399\ttotal: 169ms\tremaining: 5.11s\n",
      "32:\tlearn: 0.3953003\ttotal: 173ms\tremaining: 5.06s\n",
      "33:\tlearn: 0.3912557\ttotal: 175ms\tremaining: 4.98s\n",
      "34:\tlearn: 0.3859256\ttotal: 179ms\tremaining: 4.93s\n",
      "35:\tlearn: 0.3813098\ttotal: 182ms\tremaining: 4.88s\n",
      "36:\tlearn: 0.3768132\ttotal: 186ms\tremaining: 4.84s\n",
      "37:\tlearn: 0.3716165\ttotal: 189ms\tremaining: 4.79s\n",
      "38:\tlearn: 0.3664699\ttotal: 193ms\tremaining: 4.76s\n",
      "39:\tlearn: 0.3621864\ttotal: 197ms\tremaining: 4.72s\n",
      "40:\tlearn: 0.3578205\ttotal: 200ms\tremaining: 4.69s\n",
      "41:\tlearn: 0.3541348\ttotal: 204ms\tremaining: 4.64s\n",
      "42:\tlearn: 0.3492176\ttotal: 207ms\tremaining: 4.62s\n",
      "43:\tlearn: 0.3453266\ttotal: 211ms\tremaining: 4.59s\n",
      "44:\tlearn: 0.3415444\ttotal: 215ms\tremaining: 4.57s\n",
      "45:\tlearn: 0.3378926\ttotal: 219ms\tremaining: 4.55s\n",
      "46:\tlearn: 0.3338739\ttotal: 224ms\tremaining: 4.53s\n",
      "47:\tlearn: 0.3300806\ttotal: 228ms\tremaining: 4.52s\n",
      "48:\tlearn: 0.3264790\ttotal: 232ms\tremaining: 4.49s\n",
      "49:\tlearn: 0.3231434\ttotal: 235ms\tremaining: 4.46s\n",
      "50:\tlearn: 0.3197304\ttotal: 239ms\tremaining: 4.44s\n",
      "51:\tlearn: 0.3169815\ttotal: 242ms\tremaining: 4.42s\n",
      "52:\tlearn: 0.3141227\ttotal: 246ms\tremaining: 4.4s\n",
      "53:\tlearn: 0.3115923\ttotal: 250ms\tremaining: 4.39s\n",
      "54:\tlearn: 0.3088134\ttotal: 254ms\tremaining: 4.37s\n",
      "55:\tlearn: 0.3061025\ttotal: 259ms\tremaining: 4.36s\n",
      "56:\tlearn: 0.3037280\ttotal: 262ms\tremaining: 4.34s\n",
      "57:\tlearn: 0.3012719\ttotal: 266ms\tremaining: 4.31s\n",
      "58:\tlearn: 0.2981806\ttotal: 269ms\tremaining: 4.29s\n",
      "59:\tlearn: 0.2960423\ttotal: 272ms\tremaining: 4.27s\n",
      "60:\tlearn: 0.2934717\ttotal: 276ms\tremaining: 4.24s\n",
      "61:\tlearn: 0.2915286\ttotal: 280ms\tremaining: 4.23s\n",
      "62:\tlearn: 0.2890199\ttotal: 283ms\tremaining: 4.21s\n",
      "63:\tlearn: 0.2871853\ttotal: 287ms\tremaining: 4.2s\n",
      "64:\tlearn: 0.2848000\ttotal: 293ms\tremaining: 4.21s\n",
      "65:\tlearn: 0.2824596\ttotal: 297ms\tremaining: 4.2s\n",
      "66:\tlearn: 0.2801865\ttotal: 301ms\tremaining: 4.2s\n",
      "67:\tlearn: 0.2780973\ttotal: 305ms\tremaining: 4.18s\n",
      "68:\tlearn: 0.2762658\ttotal: 309ms\tremaining: 4.17s\n",
      "69:\tlearn: 0.2744163\ttotal: 313ms\tremaining: 4.15s\n",
      "70:\tlearn: 0.2718604\ttotal: 317ms\tremaining: 4.15s\n",
      "71:\tlearn: 0.2697110\ttotal: 322ms\tremaining: 4.15s\n",
      "72:\tlearn: 0.2678886\ttotal: 326ms\tremaining: 4.14s\n",
      "73:\tlearn: 0.2658173\ttotal: 330ms\tremaining: 4.13s\n",
      "74:\tlearn: 0.2644391\ttotal: 334ms\tremaining: 4.12s\n",
      "75:\tlearn: 0.2631351\ttotal: 336ms\tremaining: 4.09s\n",
      "76:\tlearn: 0.2613716\ttotal: 340ms\tremaining: 4.08s\n",
      "77:\tlearn: 0.2597708\ttotal: 344ms\tremaining: 4.07s\n",
      "78:\tlearn: 0.2581574\ttotal: 347ms\tremaining: 4.05s\n",
      "79:\tlearn: 0.2565314\ttotal: 351ms\tremaining: 4.03s\n",
      "80:\tlearn: 0.2551154\ttotal: 355ms\tremaining: 4.03s\n",
      "81:\tlearn: 0.2530465\ttotal: 358ms\tremaining: 4.01s\n",
      "82:\tlearn: 0.2513487\ttotal: 363ms\tremaining: 4s\n",
      "83:\tlearn: 0.2496562\ttotal: 366ms\tremaining: 3.99s\n",
      "84:\tlearn: 0.2483852\ttotal: 370ms\tremaining: 3.98s\n",
      "85:\tlearn: 0.2472734\ttotal: 374ms\tremaining: 3.97s\n",
      "86:\tlearn: 0.2456636\ttotal: 380ms\tremaining: 3.99s\n",
      "87:\tlearn: 0.2443994\ttotal: 384ms\tremaining: 3.98s\n",
      "88:\tlearn: 0.2424510\ttotal: 392ms\tremaining: 4.01s\n",
      "89:\tlearn: 0.2409683\ttotal: 395ms\tremaining: 4s\n",
      "90:\tlearn: 0.2398215\ttotal: 400ms\tremaining: 3.99s\n",
      "91:\tlearn: 0.2387761\ttotal: 403ms\tremaining: 3.97s\n",
      "92:\tlearn: 0.2374070\ttotal: 406ms\tremaining: 3.96s\n",
      "93:\tlearn: 0.2362738\ttotal: 409ms\tremaining: 3.94s\n",
      "94:\tlearn: 0.2351247\ttotal: 413ms\tremaining: 3.93s\n",
      "95:\tlearn: 0.2341845\ttotal: 416ms\tremaining: 3.92s\n",
      "96:\tlearn: 0.2330883\ttotal: 421ms\tremaining: 3.92s\n",
      "97:\tlearn: 0.2321969\ttotal: 425ms\tremaining: 3.91s\n",
      "98:\tlearn: 0.2312054\ttotal: 429ms\tremaining: 3.9s\n",
      "99:\tlearn: 0.2301925\ttotal: 433ms\tremaining: 3.89s\n",
      "100:\tlearn: 0.2289788\ttotal: 436ms\tremaining: 3.88s\n",
      "101:\tlearn: 0.2279719\ttotal: 440ms\tremaining: 3.87s\n",
      "102:\tlearn: 0.2268625\ttotal: 444ms\tremaining: 3.86s\n",
      "103:\tlearn: 0.2257545\ttotal: 448ms\tremaining: 3.86s\n",
      "104:\tlearn: 0.2245708\ttotal: 452ms\tremaining: 3.86s\n",
      "105:\tlearn: 0.2237784\ttotal: 457ms\tremaining: 3.85s\n",
      "106:\tlearn: 0.2228222\ttotal: 460ms\tremaining: 3.84s\n",
      "107:\tlearn: 0.2220175\ttotal: 464ms\tremaining: 3.83s\n",
      "108:\tlearn: 0.2209381\ttotal: 467ms\tremaining: 3.82s\n",
      "109:\tlearn: 0.2196457\ttotal: 471ms\tremaining: 3.81s\n",
      "110:\tlearn: 0.2189690\ttotal: 475ms\tremaining: 3.81s\n",
      "111:\tlearn: 0.2182888\ttotal: 479ms\tremaining: 3.79s\n",
      "112:\tlearn: 0.2171722\ttotal: 482ms\tremaining: 3.79s\n",
      "113:\tlearn: 0.2163369\ttotal: 485ms\tremaining: 3.77s\n",
      "114:\tlearn: 0.2151606\ttotal: 489ms\tremaining: 3.77s\n",
      "115:\tlearn: 0.2142296\ttotal: 493ms\tremaining: 3.76s\n",
      "116:\tlearn: 0.2134858\ttotal: 496ms\tremaining: 3.75s\n",
      "117:\tlearn: 0.2125600\ttotal: 500ms\tremaining: 3.74s\n",
      "118:\tlearn: 0.2116398\ttotal: 505ms\tremaining: 3.74s\n",
      "119:\tlearn: 0.2108766\ttotal: 508ms\tremaining: 3.73s\n",
      "120:\tlearn: 0.2099256\ttotal: 512ms\tremaining: 3.72s\n",
      "121:\tlearn: 0.2091175\ttotal: 515ms\tremaining: 3.71s\n",
      "122:\tlearn: 0.2083629\ttotal: 518ms\tremaining: 3.7s\n",
      "123:\tlearn: 0.2075974\ttotal: 522ms\tremaining: 3.69s\n",
      "124:\tlearn: 0.2068705\ttotal: 526ms\tremaining: 3.68s\n",
      "125:\tlearn: 0.2061294\ttotal: 529ms\tremaining: 3.67s\n",
      "126:\tlearn: 0.2054004\ttotal: 533ms\tremaining: 3.67s\n",
      "127:\tlearn: 0.2045495\ttotal: 537ms\tremaining: 3.66s\n",
      "128:\tlearn: 0.2040095\ttotal: 543ms\tremaining: 3.67s\n",
      "129:\tlearn: 0.2034750\ttotal: 562ms\tremaining: 3.76s\n",
      "130:\tlearn: 0.2026773\ttotal: 566ms\tremaining: 3.75s\n",
      "131:\tlearn: 0.2022128\ttotal: 569ms\tremaining: 3.74s\n",
      "132:\tlearn: 0.2016234\ttotal: 572ms\tremaining: 3.73s\n",
      "133:\tlearn: 0.2008700\ttotal: 575ms\tremaining: 3.72s\n",
      "134:\tlearn: 0.1999228\ttotal: 581ms\tremaining: 3.72s\n",
      "135:\tlearn: 0.1993209\ttotal: 585ms\tremaining: 3.72s\n",
      "136:\tlearn: 0.1985835\ttotal: 589ms\tremaining: 3.71s\n",
      "137:\tlearn: 0.1981204\ttotal: 592ms\tremaining: 3.7s\n",
      "138:\tlearn: 0.1976947\ttotal: 596ms\tremaining: 3.69s\n",
      "139:\tlearn: 0.1968310\ttotal: 600ms\tremaining: 3.69s\n",
      "140:\tlearn: 0.1961684\ttotal: 606ms\tremaining: 3.69s\n",
      "141:\tlearn: 0.1953825\ttotal: 613ms\tremaining: 3.7s\n",
      "142:\tlearn: 0.1948331\ttotal: 616ms\tremaining: 3.69s\n",
      "143:\tlearn: 0.1943029\ttotal: 620ms\tremaining: 3.69s\n",
      "144:\tlearn: 0.1938818\ttotal: 624ms\tremaining: 3.68s\n",
      "145:\tlearn: 0.1931186\ttotal: 628ms\tremaining: 3.67s\n",
      "146:\tlearn: 0.1925441\ttotal: 632ms\tremaining: 3.67s\n",
      "147:\tlearn: 0.1920760\ttotal: 635ms\tremaining: 3.66s\n",
      "148:\tlearn: 0.1914389\ttotal: 639ms\tremaining: 3.65s\n",
      "149:\tlearn: 0.1907873\ttotal: 643ms\tremaining: 3.64s\n",
      "150:\tlearn: 0.1900871\ttotal: 646ms\tremaining: 3.63s\n",
      "151:\tlearn: 0.1895161\ttotal: 649ms\tremaining: 3.62s\n",
      "152:\tlearn: 0.1891019\ttotal: 652ms\tremaining: 3.61s\n",
      "153:\tlearn: 0.1885542\ttotal: 656ms\tremaining: 3.6s\n",
      "154:\tlearn: 0.1878919\ttotal: 659ms\tremaining: 3.59s\n",
      "155:\tlearn: 0.1873872\ttotal: 662ms\tremaining: 3.58s\n",
      "156:\tlearn: 0.1871013\ttotal: 666ms\tremaining: 3.58s\n",
      "157:\tlearn: 0.1866654\ttotal: 670ms\tremaining: 3.57s\n",
      "158:\tlearn: 0.1861610\ttotal: 674ms\tremaining: 3.56s\n",
      "159:\tlearn: 0.1857343\ttotal: 678ms\tremaining: 3.56s\n",
      "160:\tlearn: 0.1852425\ttotal: 682ms\tremaining: 3.55s\n",
      "161:\tlearn: 0.1847748\ttotal: 688ms\tremaining: 3.56s\n",
      "162:\tlearn: 0.1843208\ttotal: 695ms\tremaining: 3.57s\n",
      "163:\tlearn: 0.1839498\ttotal: 698ms\tremaining: 3.56s\n",
      "164:\tlearn: 0.1834578\ttotal: 702ms\tremaining: 3.55s\n",
      "165:\tlearn: 0.1830976\ttotal: 705ms\tremaining: 3.54s\n",
      "166:\tlearn: 0.1825904\ttotal: 708ms\tremaining: 3.53s\n",
      "167:\tlearn: 0.1821429\ttotal: 712ms\tremaining: 3.53s\n",
      "168:\tlearn: 0.1819059\ttotal: 717ms\tremaining: 3.52s\n",
      "169:\tlearn: 0.1816262\ttotal: 721ms\tremaining: 3.52s\n",
      "170:\tlearn: 0.1812213\ttotal: 724ms\tremaining: 3.51s\n",
      "171:\tlearn: 0.1807585\ttotal: 727ms\tremaining: 3.5s\n",
      "172:\tlearn: 0.1802899\ttotal: 731ms\tremaining: 3.49s\n",
      "173:\tlearn: 0.1797932\ttotal: 736ms\tremaining: 3.49s\n",
      "174:\tlearn: 0.1794882\ttotal: 740ms\tremaining: 3.49s\n",
      "175:\tlearn: 0.1790271\ttotal: 743ms\tremaining: 3.48s\n",
      "176:\tlearn: 0.1786837\ttotal: 747ms\tremaining: 3.47s\n",
      "177:\tlearn: 0.1782650\ttotal: 750ms\tremaining: 3.46s\n",
      "178:\tlearn: 0.1778933\ttotal: 753ms\tremaining: 3.45s\n",
      "179:\tlearn: 0.1775247\ttotal: 756ms\tremaining: 3.44s\n",
      "180:\tlearn: 0.1772510\ttotal: 760ms\tremaining: 3.44s\n",
      "181:\tlearn: 0.1769765\ttotal: 763ms\tremaining: 3.43s\n",
      "182:\tlearn: 0.1766560\ttotal: 766ms\tremaining: 3.42s\n",
      "183:\tlearn: 0.1761687\ttotal: 769ms\tremaining: 3.41s\n",
      "184:\tlearn: 0.1758425\ttotal: 773ms\tremaining: 3.4s\n",
      "185:\tlearn: 0.1752494\ttotal: 776ms\tremaining: 3.4s\n",
      "186:\tlearn: 0.1749102\ttotal: 779ms\tremaining: 3.39s\n",
      "187:\tlearn: 0.1743713\ttotal: 783ms\tremaining: 3.38s\n",
      "188:\tlearn: 0.1741013\ttotal: 786ms\tremaining: 3.37s\n",
      "189:\tlearn: 0.1737531\ttotal: 790ms\tremaining: 3.37s\n",
      "190:\tlearn: 0.1734998\ttotal: 793ms\tremaining: 3.36s\n",
      "191:\tlearn: 0.1730421\ttotal: 797ms\tremaining: 3.35s\n",
      "192:\tlearn: 0.1728640\ttotal: 800ms\tremaining: 3.35s\n",
      "193:\tlearn: 0.1727245\ttotal: 805ms\tremaining: 3.35s\n",
      "194:\tlearn: 0.1725533\ttotal: 809ms\tremaining: 3.34s\n",
      "195:\tlearn: 0.1720011\ttotal: 814ms\tremaining: 3.34s\n",
      "196:\tlearn: 0.1717485\ttotal: 818ms\tremaining: 3.33s\n",
      "197:\tlearn: 0.1714154\ttotal: 823ms\tremaining: 3.33s\n",
      "198:\tlearn: 0.1711214\ttotal: 827ms\tremaining: 3.33s\n",
      "199:\tlearn: 0.1705599\ttotal: 835ms\tremaining: 3.34s\n",
      "200:\tlearn: 0.1703857\ttotal: 844ms\tremaining: 3.35s\n",
      "201:\tlearn: 0.1701122\ttotal: 849ms\tremaining: 3.35s\n",
      "202:\tlearn: 0.1697979\ttotal: 854ms\tremaining: 3.35s\n",
      "203:\tlearn: 0.1693559\ttotal: 858ms\tremaining: 3.35s\n",
      "204:\tlearn: 0.1690835\ttotal: 862ms\tremaining: 3.34s\n",
      "205:\tlearn: 0.1687906\ttotal: 867ms\tremaining: 3.34s\n",
      "206:\tlearn: 0.1686981\ttotal: 871ms\tremaining: 3.34s\n",
      "207:\tlearn: 0.1683475\ttotal: 875ms\tremaining: 3.33s\n",
      "208:\tlearn: 0.1681891\ttotal: 878ms\tremaining: 3.32s\n",
      "209:\tlearn: 0.1678028\ttotal: 882ms\tremaining: 3.32s\n",
      "210:\tlearn: 0.1675015\ttotal: 886ms\tremaining: 3.31s\n",
      "211:\tlearn: 0.1672516\ttotal: 890ms\tremaining: 3.31s\n",
      "212:\tlearn: 0.1670041\ttotal: 893ms\tremaining: 3.3s\n",
      "213:\tlearn: 0.1666670\ttotal: 896ms\tremaining: 3.29s\n",
      "214:\tlearn: 0.1662794\ttotal: 900ms\tremaining: 3.29s\n",
      "215:\tlearn: 0.1658219\ttotal: 903ms\tremaining: 3.28s\n",
      "216:\tlearn: 0.1654677\ttotal: 906ms\tremaining: 3.27s\n",
      "217:\tlearn: 0.1652815\ttotal: 910ms\tremaining: 3.26s\n",
      "218:\tlearn: 0.1649538\ttotal: 913ms\tremaining: 3.25s\n",
      "219:\tlearn: 0.1647120\ttotal: 917ms\tremaining: 3.25s\n",
      "220:\tlearn: 0.1643154\ttotal: 920ms\tremaining: 3.24s\n",
      "221:\tlearn: 0.1640913\ttotal: 923ms\tremaining: 3.23s\n",
      "222:\tlearn: 0.1636946\ttotal: 927ms\tremaining: 3.23s\n",
      "223:\tlearn: 0.1634493\ttotal: 930ms\tremaining: 3.22s\n",
      "224:\tlearn: 0.1631363\ttotal: 933ms\tremaining: 3.21s\n",
      "225:\tlearn: 0.1629540\ttotal: 937ms\tremaining: 3.21s\n",
      "226:\tlearn: 0.1624609\ttotal: 940ms\tremaining: 3.2s\n",
      "227:\tlearn: 0.1622620\ttotal: 943ms\tremaining: 3.19s\n",
      "228:\tlearn: 0.1620067\ttotal: 947ms\tremaining: 3.19s\n",
      "229:\tlearn: 0.1617255\ttotal: 950ms\tremaining: 3.18s\n",
      "230:\tlearn: 0.1616413\ttotal: 953ms\tremaining: 3.17s\n",
      "231:\tlearn: 0.1613553\ttotal: 956ms\tremaining: 3.16s\n",
      "232:\tlearn: 0.1611317\ttotal: 959ms\tremaining: 3.16s\n",
      "233:\tlearn: 0.1609305\ttotal: 963ms\tremaining: 3.15s\n",
      "234:\tlearn: 0.1606450\ttotal: 966ms\tremaining: 3.14s\n",
      "235:\tlearn: 0.1604521\ttotal: 969ms\tremaining: 3.14s\n",
      "236:\tlearn: 0.1603280\ttotal: 972ms\tremaining: 3.13s\n",
      "237:\tlearn: 0.1601059\ttotal: 976ms\tremaining: 3.12s\n",
      "238:\tlearn: 0.1600423\ttotal: 979ms\tremaining: 3.12s\n",
      "239:\tlearn: 0.1598112\ttotal: 982ms\tremaining: 3.11s\n",
      "240:\tlearn: 0.1597997\ttotal: 984ms\tremaining: 3.1s\n",
      "241:\tlearn: 0.1596742\ttotal: 987ms\tremaining: 3.09s\n",
      "242:\tlearn: 0.1594333\ttotal: 990ms\tremaining: 3.08s\n",
      "243:\tlearn: 0.1591422\ttotal: 994ms\tremaining: 3.08s\n",
      "244:\tlearn: 0.1589490\ttotal: 997ms\tremaining: 3.07s\n",
      "245:\tlearn: 0.1585871\ttotal: 1s\tremaining: 3.07s\n",
      "246:\tlearn: 0.1581609\ttotal: 1s\tremaining: 3.06s\n",
      "247:\tlearn: 0.1578862\ttotal: 1.01s\tremaining: 3.06s\n",
      "248:\tlearn: 0.1576082\ttotal: 1.01s\tremaining: 3.05s\n",
      "249:\tlearn: 0.1573621\ttotal: 1.01s\tremaining: 3.05s\n",
      "250:\tlearn: 0.1572036\ttotal: 1.02s\tremaining: 3.05s\n",
      "251:\tlearn: 0.1569612\ttotal: 1.02s\tremaining: 3.04s\n",
      "252:\tlearn: 0.1566215\ttotal: 1.03s\tremaining: 3.03s\n",
      "253:\tlearn: 0.1565647\ttotal: 1.03s\tremaining: 3.03s\n",
      "254:\tlearn: 0.1564196\ttotal: 1.03s\tremaining: 3.02s\n",
      "255:\tlearn: 0.1561322\ttotal: 1.04s\tremaining: 3.02s\n",
      "256:\tlearn: 0.1559529\ttotal: 1.04s\tremaining: 3.01s\n",
      "257:\tlearn: 0.1556615\ttotal: 1.04s\tremaining: 3s\n",
      "258:\tlearn: 0.1551868\ttotal: 1.05s\tremaining: 3s\n",
      "259:\tlearn: 0.1551104\ttotal: 1.05s\tremaining: 2.99s\n",
      "260:\tlearn: 0.1547544\ttotal: 1.05s\tremaining: 2.99s\n",
      "261:\tlearn: 0.1545729\ttotal: 1.06s\tremaining: 2.98s\n",
      "262:\tlearn: 0.1543088\ttotal: 1.06s\tremaining: 2.98s\n",
      "263:\tlearn: 0.1540477\ttotal: 1.07s\tremaining: 2.97s\n",
      "264:\tlearn: 0.1537537\ttotal: 1.07s\tremaining: 2.97s\n",
      "265:\tlearn: 0.1533752\ttotal: 1.07s\tremaining: 2.96s\n",
      "266:\tlearn: 0.1531178\ttotal: 1.08s\tremaining: 2.95s\n",
      "267:\tlearn: 0.1529021\ttotal: 1.08s\tremaining: 2.95s\n",
      "268:\tlearn: 0.1528390\ttotal: 1.08s\tremaining: 2.94s\n",
      "269:\tlearn: 0.1526852\ttotal: 1.09s\tremaining: 2.94s\n",
      "270:\tlearn: 0.1525254\ttotal: 1.09s\tremaining: 2.93s\n",
      "271:\tlearn: 0.1524026\ttotal: 1.09s\tremaining: 2.93s\n",
      "272:\tlearn: 0.1522672\ttotal: 1.1s\tremaining: 2.92s\n",
      "273:\tlearn: 0.1519198\ttotal: 1.1s\tremaining: 2.92s\n",
      "274:\tlearn: 0.1518616\ttotal: 1.1s\tremaining: 2.91s\n",
      "275:\tlearn: 0.1517593\ttotal: 1.11s\tremaining: 2.9s\n",
      "276:\tlearn: 0.1515056\ttotal: 1.11s\tremaining: 2.9s\n",
      "277:\tlearn: 0.1511828\ttotal: 1.11s\tremaining: 2.89s\n",
      "278:\tlearn: 0.1509355\ttotal: 1.12s\tremaining: 2.89s\n",
      "279:\tlearn: 0.1506764\ttotal: 1.12s\tremaining: 2.88s\n",
      "280:\tlearn: 0.1506067\ttotal: 1.12s\tremaining: 2.88s\n",
      "281:\tlearn: 0.1503895\ttotal: 1.13s\tremaining: 2.87s\n",
      "282:\tlearn: 0.1501357\ttotal: 1.13s\tremaining: 2.87s\n",
      "283:\tlearn: 0.1498387\ttotal: 1.13s\tremaining: 2.86s\n",
      "284:\tlearn: 0.1495417\ttotal: 1.14s\tremaining: 2.86s\n",
      "285:\tlearn: 0.1492676\ttotal: 1.14s\tremaining: 2.85s\n",
      "286:\tlearn: 0.1490951\ttotal: 1.15s\tremaining: 2.85s\n",
      "287:\tlearn: 0.1489031\ttotal: 1.15s\tremaining: 2.84s\n",
      "288:\tlearn: 0.1486069\ttotal: 1.15s\tremaining: 2.84s\n",
      "289:\tlearn: 0.1483179\ttotal: 1.16s\tremaining: 2.83s\n",
      "290:\tlearn: 0.1482066\ttotal: 1.16s\tremaining: 2.83s\n",
      "291:\tlearn: 0.1479758\ttotal: 1.17s\tremaining: 2.83s\n",
      "292:\tlearn: 0.1477978\ttotal: 1.17s\tremaining: 2.82s\n",
      "293:\tlearn: 0.1475916\ttotal: 1.17s\tremaining: 2.82s\n",
      "294:\tlearn: 0.1474828\ttotal: 1.18s\tremaining: 2.81s\n",
      "295:\tlearn: 0.1472401\ttotal: 1.18s\tremaining: 2.81s\n",
      "296:\tlearn: 0.1469048\ttotal: 1.19s\tremaining: 2.81s\n",
      "297:\tlearn: 0.1466263\ttotal: 1.19s\tremaining: 2.81s\n",
      "298:\tlearn: 0.1462381\ttotal: 1.2s\tremaining: 2.8s\n",
      "299:\tlearn: 0.1458295\ttotal: 1.2s\tremaining: 2.8s\n",
      "300:\tlearn: 0.1455648\ttotal: 1.2s\tremaining: 2.79s\n",
      "301:\tlearn: 0.1453587\ttotal: 1.21s\tremaining: 2.79s\n",
      "302:\tlearn: 0.1452024\ttotal: 1.21s\tremaining: 2.79s\n",
      "303:\tlearn: 0.1451624\ttotal: 1.21s\tremaining: 2.78s\n",
      "304:\tlearn: 0.1450401\ttotal: 1.22s\tremaining: 2.77s\n",
      "305:\tlearn: 0.1448169\ttotal: 1.22s\tremaining: 2.77s\n",
      "306:\tlearn: 0.1447123\ttotal: 1.23s\tremaining: 2.77s\n",
      "307:\tlearn: 0.1445018\ttotal: 1.23s\tremaining: 2.77s\n",
      "308:\tlearn: 0.1443467\ttotal: 1.23s\tremaining: 2.76s\n",
      "309:\tlearn: 0.1441784\ttotal: 1.24s\tremaining: 2.75s\n",
      "310:\tlearn: 0.1439010\ttotal: 1.24s\tremaining: 2.75s\n",
      "311:\tlearn: 0.1436222\ttotal: 1.25s\tremaining: 2.75s\n",
      "312:\tlearn: 0.1435316\ttotal: 1.25s\tremaining: 2.74s\n",
      "313:\tlearn: 0.1433814\ttotal: 1.25s\tremaining: 2.74s\n",
      "314:\tlearn: 0.1431066\ttotal: 1.26s\tremaining: 2.73s\n",
      "315:\tlearn: 0.1429179\ttotal: 1.26s\tremaining: 2.73s\n",
      "316:\tlearn: 0.1426294\ttotal: 1.27s\tremaining: 2.73s\n",
      "317:\tlearn: 0.1423434\ttotal: 1.27s\tremaining: 2.73s\n",
      "318:\tlearn: 0.1420191\ttotal: 1.28s\tremaining: 2.73s\n",
      "319:\tlearn: 0.1418330\ttotal: 1.28s\tremaining: 2.72s\n",
      "320:\tlearn: 0.1415562\ttotal: 1.29s\tremaining: 2.72s\n",
      "321:\tlearn: 0.1412715\ttotal: 1.29s\tremaining: 2.72s\n",
      "322:\tlearn: 0.1411264\ttotal: 1.29s\tremaining: 2.71s\n",
      "323:\tlearn: 0.1408849\ttotal: 1.3s\tremaining: 2.71s\n",
      "324:\tlearn: 0.1407643\ttotal: 1.3s\tremaining: 2.71s\n",
      "325:\tlearn: 0.1404254\ttotal: 1.31s\tremaining: 2.7s\n",
      "326:\tlearn: 0.1402260\ttotal: 1.31s\tremaining: 2.69s\n",
      "327:\tlearn: 0.1400479\ttotal: 1.31s\tremaining: 2.69s\n",
      "328:\tlearn: 0.1398035\ttotal: 1.32s\tremaining: 2.68s\n",
      "329:\tlearn: 0.1394925\ttotal: 1.32s\tremaining: 2.68s\n",
      "330:\tlearn: 0.1392471\ttotal: 1.32s\tremaining: 2.67s\n",
      "331:\tlearn: 0.1391188\ttotal: 1.33s\tremaining: 2.67s\n",
      "332:\tlearn: 0.1390570\ttotal: 1.33s\tremaining: 2.66s\n",
      "333:\tlearn: 0.1389339\ttotal: 1.33s\tremaining: 2.66s\n",
      "334:\tlearn: 0.1388528\ttotal: 1.34s\tremaining: 2.66s\n",
      "335:\tlearn: 0.1387688\ttotal: 1.34s\tremaining: 2.65s\n",
      "336:\tlearn: 0.1385609\ttotal: 1.34s\tremaining: 2.65s\n",
      "337:\tlearn: 0.1382910\ttotal: 1.35s\tremaining: 2.64s\n",
      "338:\tlearn: 0.1379828\ttotal: 1.35s\tremaining: 2.64s\n",
      "339:\tlearn: 0.1379350\ttotal: 1.36s\tremaining: 2.63s\n",
      "340:\tlearn: 0.1378015\ttotal: 1.36s\tremaining: 2.63s\n",
      "341:\tlearn: 0.1376285\ttotal: 1.36s\tremaining: 2.62s\n",
      "342:\tlearn: 0.1375479\ttotal: 1.37s\tremaining: 2.62s\n",
      "343:\tlearn: 0.1372070\ttotal: 1.37s\tremaining: 2.61s\n",
      "344:\tlearn: 0.1369614\ttotal: 1.37s\tremaining: 2.61s\n",
      "345:\tlearn: 0.1367832\ttotal: 1.38s\tremaining: 2.6s\n",
      "346:\tlearn: 0.1366465\ttotal: 1.38s\tremaining: 2.6s\n",
      "347:\tlearn: 0.1364048\ttotal: 1.38s\tremaining: 2.59s\n",
      "348:\tlearn: 0.1362314\ttotal: 1.39s\tremaining: 2.59s\n",
      "349:\tlearn: 0.1361039\ttotal: 1.39s\tremaining: 2.58s\n",
      "350:\tlearn: 0.1358959\ttotal: 1.39s\tremaining: 2.58s\n",
      "351:\tlearn: 0.1357496\ttotal: 1.4s\tremaining: 2.57s\n",
      "352:\tlearn: 0.1355625\ttotal: 1.4s\tremaining: 2.57s\n",
      "353:\tlearn: 0.1354010\ttotal: 1.4s\tremaining: 2.56s\n",
      "354:\tlearn: 0.1352890\ttotal: 1.41s\tremaining: 2.56s\n",
      "355:\tlearn: 0.1349865\ttotal: 1.41s\tremaining: 2.55s\n",
      "356:\tlearn: 0.1348638\ttotal: 1.41s\tremaining: 2.55s\n",
      "357:\tlearn: 0.1348121\ttotal: 1.42s\tremaining: 2.54s\n",
      "358:\tlearn: 0.1345437\ttotal: 1.42s\tremaining: 2.54s\n",
      "359:\tlearn: 0.1344483\ttotal: 1.42s\tremaining: 2.53s\n",
      "360:\tlearn: 0.1343832\ttotal: 1.43s\tremaining: 2.52s\n",
      "361:\tlearn: 0.1340886\ttotal: 1.43s\tremaining: 2.52s\n",
      "362:\tlearn: 0.1339993\ttotal: 1.43s\tremaining: 2.52s\n",
      "363:\tlearn: 0.1337976\ttotal: 1.44s\tremaining: 2.51s\n",
      "364:\tlearn: 0.1335846\ttotal: 1.44s\tremaining: 2.5s\n",
      "365:\tlearn: 0.1335614\ttotal: 1.44s\tremaining: 2.5s\n",
      "366:\tlearn: 0.1334006\ttotal: 1.45s\tremaining: 2.49s\n",
      "367:\tlearn: 0.1333045\ttotal: 1.45s\tremaining: 2.49s\n",
      "368:\tlearn: 0.1331285\ttotal: 1.45s\tremaining: 2.48s\n",
      "369:\tlearn: 0.1329322\ttotal: 1.46s\tremaining: 2.48s\n",
      "370:\tlearn: 0.1328500\ttotal: 1.46s\tremaining: 2.48s\n",
      "371:\tlearn: 0.1327319\ttotal: 1.46s\tremaining: 2.47s\n",
      "372:\tlearn: 0.1326768\ttotal: 1.47s\tremaining: 2.46s\n",
      "373:\tlearn: 0.1323653\ttotal: 1.47s\tremaining: 2.46s\n",
      "374:\tlearn: 0.1321650\ttotal: 1.47s\tremaining: 2.46s\n",
      "375:\tlearn: 0.1320414\ttotal: 1.48s\tremaining: 2.45s\n",
      "376:\tlearn: 0.1319157\ttotal: 1.48s\tremaining: 2.44s\n",
      "377:\tlearn: 0.1317434\ttotal: 1.48s\tremaining: 2.44s\n",
      "378:\tlearn: 0.1314534\ttotal: 1.49s\tremaining: 2.44s\n",
      "379:\tlearn: 0.1313557\ttotal: 1.49s\tremaining: 2.43s\n",
      "380:\tlearn: 0.1310899\ttotal: 1.49s\tremaining: 2.43s\n",
      "381:\tlearn: 0.1308875\ttotal: 1.5s\tremaining: 2.42s\n",
      "382:\tlearn: 0.1308275\ttotal: 1.5s\tremaining: 2.42s\n",
      "383:\tlearn: 0.1305074\ttotal: 1.5s\tremaining: 2.41s\n",
      "384:\tlearn: 0.1303123\ttotal: 1.51s\tremaining: 2.41s\n",
      "385:\tlearn: 0.1300944\ttotal: 1.51s\tremaining: 2.4s\n",
      "386:\tlearn: 0.1299286\ttotal: 1.51s\tremaining: 2.4s\n",
      "387:\tlearn: 0.1297408\ttotal: 1.52s\tremaining: 2.4s\n",
      "388:\tlearn: 0.1295488\ttotal: 1.52s\tremaining: 2.39s\n",
      "389:\tlearn: 0.1294793\ttotal: 1.52s\tremaining: 2.39s\n",
      "390:\tlearn: 0.1293770\ttotal: 1.53s\tremaining: 2.38s\n",
      "391:\tlearn: 0.1292133\ttotal: 1.53s\tremaining: 2.38s\n",
      "392:\tlearn: 0.1291583\ttotal: 1.54s\tremaining: 2.37s\n",
      "393:\tlearn: 0.1289599\ttotal: 1.54s\tremaining: 2.37s\n",
      "394:\tlearn: 0.1285316\ttotal: 1.54s\tremaining: 2.36s\n",
      "395:\tlearn: 0.1284600\ttotal: 1.55s\tremaining: 2.36s\n",
      "396:\tlearn: 0.1283013\ttotal: 1.55s\tremaining: 2.35s\n",
      "397:\tlearn: 0.1281277\ttotal: 1.55s\tremaining: 2.35s\n",
      "398:\tlearn: 0.1279331\ttotal: 1.56s\tremaining: 2.35s\n",
      "399:\tlearn: 0.1277585\ttotal: 1.56s\tremaining: 2.34s\n",
      "400:\tlearn: 0.1276234\ttotal: 1.56s\tremaining: 2.33s\n",
      "401:\tlearn: 0.1272722\ttotal: 1.57s\tremaining: 2.33s\n",
      "402:\tlearn: 0.1272381\ttotal: 1.57s\tremaining: 2.33s\n",
      "403:\tlearn: 0.1270504\ttotal: 1.57s\tremaining: 2.32s\n",
      "404:\tlearn: 0.1270135\ttotal: 1.58s\tremaining: 2.32s\n",
      "405:\tlearn: 0.1268214\ttotal: 1.58s\tremaining: 2.31s\n",
      "406:\tlearn: 0.1268068\ttotal: 1.58s\tremaining: 2.31s\n",
      "407:\tlearn: 0.1266445\ttotal: 1.59s\tremaining: 2.3s\n",
      "408:\tlearn: 0.1264120\ttotal: 1.59s\tremaining: 2.3s\n",
      "409:\tlearn: 0.1263078\ttotal: 1.59s\tremaining: 2.29s\n",
      "410:\tlearn: 0.1260552\ttotal: 1.6s\tremaining: 2.29s\n",
      "411:\tlearn: 0.1259402\ttotal: 1.6s\tremaining: 2.28s\n",
      "412:\tlearn: 0.1258685\ttotal: 1.6s\tremaining: 2.28s\n",
      "413:\tlearn: 0.1254812\ttotal: 1.61s\tremaining: 2.27s\n",
      "414:\tlearn: 0.1253223\ttotal: 1.61s\tremaining: 2.27s\n",
      "415:\tlearn: 0.1251753\ttotal: 1.61s\tremaining: 2.27s\n",
      "416:\tlearn: 0.1249351\ttotal: 1.62s\tremaining: 2.26s\n",
      "417:\tlearn: 0.1248308\ttotal: 1.62s\tremaining: 2.26s\n",
      "418:\tlearn: 0.1246603\ttotal: 1.62s\tremaining: 2.25s\n",
      "419:\tlearn: 0.1245061\ttotal: 1.63s\tremaining: 2.25s\n",
      "420:\tlearn: 0.1242525\ttotal: 1.63s\tremaining: 2.24s\n",
      "421:\tlearn: 0.1240314\ttotal: 1.63s\tremaining: 2.24s\n",
      "422:\tlearn: 0.1239408\ttotal: 1.64s\tremaining: 2.23s\n",
      "423:\tlearn: 0.1238494\ttotal: 1.64s\tremaining: 2.23s\n",
      "424:\tlearn: 0.1236820\ttotal: 1.64s\tremaining: 2.22s\n",
      "425:\tlearn: 0.1234801\ttotal: 1.65s\tremaining: 2.22s\n",
      "426:\tlearn: 0.1234043\ttotal: 1.65s\tremaining: 2.21s\n",
      "427:\tlearn: 0.1232709\ttotal: 1.65s\tremaining: 2.21s\n",
      "428:\tlearn: 0.1230029\ttotal: 1.66s\tremaining: 2.2s\n",
      "429:\tlearn: 0.1229094\ttotal: 1.66s\tremaining: 2.2s\n",
      "430:\tlearn: 0.1228307\ttotal: 1.66s\tremaining: 2.19s\n",
      "431:\tlearn: 0.1227426\ttotal: 1.67s\tremaining: 2.19s\n",
      "432:\tlearn: 0.1225645\ttotal: 1.67s\tremaining: 2.19s\n",
      "433:\tlearn: 0.1223745\ttotal: 1.67s\tremaining: 2.18s\n",
      "434:\tlearn: 0.1222113\ttotal: 1.68s\tremaining: 2.18s\n",
      "435:\tlearn: 0.1219637\ttotal: 1.68s\tremaining: 2.17s\n",
      "436:\tlearn: 0.1218446\ttotal: 1.69s\tremaining: 2.17s\n",
      "437:\tlearn: 0.1216515\ttotal: 1.69s\tremaining: 2.17s\n",
      "438:\tlearn: 0.1215207\ttotal: 1.69s\tremaining: 2.16s\n",
      "439:\tlearn: 0.1212522\ttotal: 1.7s\tremaining: 2.16s\n",
      "440:\tlearn: 0.1210020\ttotal: 1.7s\tremaining: 2.15s\n",
      "441:\tlearn: 0.1209352\ttotal: 1.7s\tremaining: 2.15s\n",
      "442:\tlearn: 0.1206511\ttotal: 1.71s\tremaining: 2.15s\n",
      "443:\tlearn: 0.1204915\ttotal: 1.71s\tremaining: 2.14s\n",
      "444:\tlearn: 0.1204646\ttotal: 1.71s\tremaining: 2.13s\n",
      "445:\tlearn: 0.1203986\ttotal: 1.71s\tremaining: 2.13s\n",
      "446:\tlearn: 0.1202231\ttotal: 1.72s\tremaining: 2.13s\n",
      "447:\tlearn: 0.1200107\ttotal: 1.72s\tremaining: 2.12s\n",
      "448:\tlearn: 0.1199029\ttotal: 1.73s\tremaining: 2.12s\n",
      "449:\tlearn: 0.1196261\ttotal: 1.73s\tremaining: 2.11s\n",
      "450:\tlearn: 0.1194482\ttotal: 1.73s\tremaining: 2.11s\n",
      "451:\tlearn: 0.1193226\ttotal: 1.74s\tremaining: 2.1s\n",
      "452:\tlearn: 0.1191617\ttotal: 1.74s\tremaining: 2.1s\n",
      "453:\tlearn: 0.1189859\ttotal: 1.74s\tremaining: 2.1s\n",
      "454:\tlearn: 0.1189250\ttotal: 1.75s\tremaining: 2.09s\n",
      "455:\tlearn: 0.1187331\ttotal: 1.75s\tremaining: 2.09s\n",
      "456:\tlearn: 0.1186759\ttotal: 1.75s\tremaining: 2.08s\n",
      "457:\tlearn: 0.1184986\ttotal: 1.76s\tremaining: 2.08s\n",
      "458:\tlearn: 0.1183849\ttotal: 1.76s\tremaining: 2.08s\n",
      "459:\tlearn: 0.1182802\ttotal: 1.76s\tremaining: 2.07s\n",
      "460:\tlearn: 0.1182108\ttotal: 1.77s\tremaining: 2.07s\n",
      "461:\tlearn: 0.1181095\ttotal: 1.77s\tremaining: 2.06s\n",
      "462:\tlearn: 0.1178454\ttotal: 1.77s\tremaining: 2.06s\n",
      "463:\tlearn: 0.1176570\ttotal: 1.78s\tremaining: 2.05s\n",
      "464:\tlearn: 0.1174733\ttotal: 1.78s\tremaining: 2.05s\n",
      "465:\tlearn: 0.1172564\ttotal: 1.78s\tremaining: 2.04s\n",
      "466:\tlearn: 0.1171714\ttotal: 1.79s\tremaining: 2.04s\n",
      "467:\tlearn: 0.1169217\ttotal: 1.79s\tremaining: 2.04s\n",
      "468:\tlearn: 0.1168473\ttotal: 1.79s\tremaining: 2.03s\n",
      "469:\tlearn: 0.1166831\ttotal: 1.8s\tremaining: 2.03s\n",
      "470:\tlearn: 0.1165034\ttotal: 1.8s\tremaining: 2.02s\n",
      "471:\tlearn: 0.1163918\ttotal: 1.8s\tremaining: 2.02s\n",
      "472:\tlearn: 0.1161326\ttotal: 1.81s\tremaining: 2.01s\n",
      "473:\tlearn: 0.1159499\ttotal: 1.81s\tremaining: 2.01s\n",
      "474:\tlearn: 0.1156713\ttotal: 1.81s\tremaining: 2s\n",
      "475:\tlearn: 0.1154938\ttotal: 1.82s\tremaining: 2s\n",
      "476:\tlearn: 0.1153335\ttotal: 1.82s\tremaining: 2s\n",
      "477:\tlearn: 0.1152044\ttotal: 1.82s\tremaining: 1.99s\n",
      "478:\tlearn: 0.1149936\ttotal: 1.83s\tremaining: 1.99s\n",
      "479:\tlearn: 0.1148929\ttotal: 1.83s\tremaining: 1.98s\n",
      "480:\tlearn: 0.1145980\ttotal: 1.83s\tremaining: 1.98s\n",
      "481:\tlearn: 0.1144486\ttotal: 1.84s\tremaining: 1.98s\n",
      "482:\tlearn: 0.1142952\ttotal: 1.84s\tremaining: 1.97s\n",
      "483:\tlearn: 0.1141950\ttotal: 1.84s\tremaining: 1.97s\n",
      "484:\tlearn: 0.1140090\ttotal: 1.85s\tremaining: 1.96s\n",
      "485:\tlearn: 0.1139353\ttotal: 1.85s\tremaining: 1.96s\n",
      "486:\tlearn: 0.1138098\ttotal: 1.85s\tremaining: 1.95s\n",
      "487:\tlearn: 0.1136793\ttotal: 1.86s\tremaining: 1.95s\n",
      "488:\tlearn: 0.1135023\ttotal: 1.86s\tremaining: 1.95s\n",
      "489:\tlearn: 0.1132437\ttotal: 1.86s\tremaining: 1.94s\n",
      "490:\tlearn: 0.1131564\ttotal: 1.87s\tremaining: 1.94s\n",
      "491:\tlearn: 0.1128662\ttotal: 1.87s\tremaining: 1.93s\n",
      "492:\tlearn: 0.1126971\ttotal: 1.87s\tremaining: 1.93s\n",
      "493:\tlearn: 0.1125462\ttotal: 1.88s\tremaining: 1.92s\n",
      "494:\tlearn: 0.1125192\ttotal: 1.88s\tremaining: 1.92s\n",
      "495:\tlearn: 0.1124262\ttotal: 1.88s\tremaining: 1.92s\n",
      "496:\tlearn: 0.1123313\ttotal: 1.89s\tremaining: 1.91s\n",
      "497:\tlearn: 0.1122353\ttotal: 1.89s\tremaining: 1.91s\n",
      "498:\tlearn: 0.1120637\ttotal: 1.89s\tremaining: 1.9s\n",
      "499:\tlearn: 0.1119639\ttotal: 1.9s\tremaining: 1.9s\n",
      "500:\tlearn: 0.1119206\ttotal: 1.9s\tremaining: 1.89s\n",
      "501:\tlearn: 0.1117635\ttotal: 1.9s\tremaining: 1.89s\n",
      "502:\tlearn: 0.1115348\ttotal: 1.91s\tremaining: 1.88s\n",
      "503:\tlearn: 0.1113504\ttotal: 1.91s\tremaining: 1.88s\n",
      "504:\tlearn: 0.1113106\ttotal: 1.91s\tremaining: 1.88s\n",
      "505:\tlearn: 0.1112123\ttotal: 1.92s\tremaining: 1.87s\n",
      "506:\tlearn: 0.1111502\ttotal: 1.92s\tremaining: 1.87s\n",
      "507:\tlearn: 0.1110518\ttotal: 1.92s\tremaining: 1.86s\n",
      "508:\tlearn: 0.1109433\ttotal: 1.93s\tremaining: 1.86s\n",
      "509:\tlearn: 0.1108541\ttotal: 1.93s\tremaining: 1.85s\n",
      "510:\tlearn: 0.1107444\ttotal: 1.93s\tremaining: 1.85s\n",
      "511:\tlearn: 0.1106376\ttotal: 1.94s\tremaining: 1.84s\n",
      "512:\tlearn: 0.1104991\ttotal: 1.94s\tremaining: 1.84s\n",
      "513:\tlearn: 0.1103413\ttotal: 1.94s\tremaining: 1.84s\n",
      "514:\tlearn: 0.1101161\ttotal: 1.95s\tremaining: 1.83s\n",
      "515:\tlearn: 0.1100826\ttotal: 1.95s\tremaining: 1.83s\n",
      "516:\tlearn: 0.1099072\ttotal: 1.95s\tremaining: 1.82s\n",
      "517:\tlearn: 0.1099002\ttotal: 1.95s\tremaining: 1.82s\n",
      "518:\tlearn: 0.1097375\ttotal: 1.96s\tremaining: 1.81s\n",
      "519:\tlearn: 0.1094949\ttotal: 1.96s\tremaining: 1.81s\n",
      "520:\tlearn: 0.1093405\ttotal: 1.96s\tremaining: 1.8s\n",
      "521:\tlearn: 0.1092584\ttotal: 1.97s\tremaining: 1.8s\n",
      "522:\tlearn: 0.1090920\ttotal: 1.97s\tremaining: 1.8s\n",
      "523:\tlearn: 0.1089872\ttotal: 1.98s\tremaining: 1.79s\n",
      "524:\tlearn: 0.1088905\ttotal: 1.98s\tremaining: 1.79s\n",
      "525:\tlearn: 0.1087243\ttotal: 1.99s\tremaining: 1.79s\n",
      "526:\tlearn: 0.1086009\ttotal: 1.99s\tremaining: 1.79s\n",
      "527:\tlearn: 0.1084098\ttotal: 1.99s\tremaining: 1.78s\n",
      "528:\tlearn: 0.1083514\ttotal: 2s\tremaining: 1.78s\n",
      "529:\tlearn: 0.1082022\ttotal: 2s\tremaining: 1.77s\n",
      "530:\tlearn: 0.1080614\ttotal: 2s\tremaining: 1.77s\n",
      "531:\tlearn: 0.1077538\ttotal: 2.01s\tremaining: 1.77s\n",
      "532:\tlearn: 0.1075351\ttotal: 2.01s\tremaining: 1.76s\n",
      "533:\tlearn: 0.1074966\ttotal: 2.01s\tremaining: 1.76s\n",
      "534:\tlearn: 0.1073950\ttotal: 2.02s\tremaining: 1.75s\n",
      "535:\tlearn: 0.1072008\ttotal: 2.02s\tremaining: 1.75s\n",
      "536:\tlearn: 0.1071555\ttotal: 2.02s\tremaining: 1.75s\n",
      "537:\tlearn: 0.1069492\ttotal: 2.03s\tremaining: 1.74s\n",
      "538:\tlearn: 0.1069156\ttotal: 2.03s\tremaining: 1.74s\n",
      "539:\tlearn: 0.1067740\ttotal: 2.04s\tremaining: 1.73s\n",
      "540:\tlearn: 0.1066679\ttotal: 2.04s\tremaining: 1.73s\n",
      "541:\tlearn: 0.1064274\ttotal: 2.04s\tremaining: 1.73s\n",
      "542:\tlearn: 0.1062902\ttotal: 2.04s\tremaining: 1.72s\n",
      "543:\tlearn: 0.1062424\ttotal: 2.05s\tremaining: 1.72s\n",
      "544:\tlearn: 0.1060782\ttotal: 2.05s\tremaining: 1.71s\n",
      "545:\tlearn: 0.1059291\ttotal: 2.06s\tremaining: 1.71s\n",
      "546:\tlearn: 0.1057795\ttotal: 2.06s\tremaining: 1.7s\n",
      "547:\tlearn: 0.1056658\ttotal: 2.06s\tremaining: 1.7s\n",
      "548:\tlearn: 0.1055524\ttotal: 2.06s\tremaining: 1.7s\n",
      "549:\tlearn: 0.1054570\ttotal: 2.07s\tremaining: 1.69s\n",
      "550:\tlearn: 0.1053291\ttotal: 2.07s\tremaining: 1.69s\n",
      "551:\tlearn: 0.1051587\ttotal: 2.07s\tremaining: 1.68s\n",
      "552:\tlearn: 0.1049709\ttotal: 2.08s\tremaining: 1.68s\n",
      "553:\tlearn: 0.1047201\ttotal: 2.08s\tremaining: 1.68s\n",
      "554:\tlearn: 0.1046468\ttotal: 2.09s\tremaining: 1.67s\n",
      "555:\tlearn: 0.1046244\ttotal: 2.09s\tremaining: 1.67s\n",
      "556:\tlearn: 0.1045356\ttotal: 2.09s\tremaining: 1.67s\n",
      "557:\tlearn: 0.1044676\ttotal: 2.1s\tremaining: 1.66s\n",
      "558:\tlearn: 0.1042766\ttotal: 2.1s\tremaining: 1.66s\n",
      "559:\tlearn: 0.1042029\ttotal: 2.1s\tremaining: 1.65s\n",
      "560:\tlearn: 0.1040731\ttotal: 2.11s\tremaining: 1.65s\n",
      "561:\tlearn: 0.1039540\ttotal: 2.11s\tremaining: 1.65s\n",
      "562:\tlearn: 0.1036534\ttotal: 2.12s\tremaining: 1.64s\n",
      "563:\tlearn: 0.1035606\ttotal: 2.12s\tremaining: 1.64s\n",
      "564:\tlearn: 0.1034021\ttotal: 2.13s\tremaining: 1.64s\n",
      "565:\tlearn: 0.1031627\ttotal: 2.13s\tremaining: 1.63s\n",
      "566:\tlearn: 0.1030636\ttotal: 2.13s\tremaining: 1.63s\n",
      "567:\tlearn: 0.1029193\ttotal: 2.14s\tremaining: 1.63s\n",
      "568:\tlearn: 0.1026990\ttotal: 2.14s\tremaining: 1.62s\n",
      "569:\tlearn: 0.1025459\ttotal: 2.15s\tremaining: 1.62s\n",
      "570:\tlearn: 0.1023778\ttotal: 2.15s\tremaining: 1.62s\n",
      "571:\tlearn: 0.1022129\ttotal: 2.15s\tremaining: 1.61s\n",
      "572:\tlearn: 0.1020329\ttotal: 2.16s\tremaining: 1.61s\n",
      "573:\tlearn: 0.1019588\ttotal: 2.16s\tremaining: 1.6s\n",
      "574:\tlearn: 0.1018820\ttotal: 2.17s\tremaining: 1.6s\n",
      "575:\tlearn: 0.1018120\ttotal: 2.17s\tremaining: 1.6s\n",
      "576:\tlearn: 0.1016557\ttotal: 2.17s\tremaining: 1.59s\n",
      "577:\tlearn: 0.1014982\ttotal: 2.18s\tremaining: 1.59s\n",
      "578:\tlearn: 0.1012917\ttotal: 2.18s\tremaining: 1.58s\n",
      "579:\tlearn: 0.1012483\ttotal: 2.18s\tremaining: 1.58s\n",
      "580:\tlearn: 0.1011097\ttotal: 2.19s\tremaining: 1.58s\n",
      "581:\tlearn: 0.1009710\ttotal: 2.19s\tremaining: 1.57s\n",
      "582:\tlearn: 0.1008244\ttotal: 2.19s\tremaining: 1.57s\n",
      "583:\tlearn: 0.1006822\ttotal: 2.2s\tremaining: 1.57s\n",
      "584:\tlearn: 0.1005396\ttotal: 2.2s\tremaining: 1.56s\n",
      "585:\tlearn: 0.1004884\ttotal: 2.21s\tremaining: 1.56s\n",
      "586:\tlearn: 0.1003527\ttotal: 2.21s\tremaining: 1.55s\n",
      "587:\tlearn: 0.1001178\ttotal: 2.21s\tremaining: 1.55s\n",
      "588:\tlearn: 0.1000809\ttotal: 2.22s\tremaining: 1.55s\n",
      "589:\tlearn: 0.0999926\ttotal: 2.22s\tremaining: 1.54s\n",
      "590:\tlearn: 0.0999334\ttotal: 2.22s\tremaining: 1.54s\n",
      "591:\tlearn: 0.0998615\ttotal: 2.23s\tremaining: 1.53s\n",
      "592:\tlearn: 0.0997858\ttotal: 2.23s\tremaining: 1.53s\n",
      "593:\tlearn: 0.0996254\ttotal: 2.23s\tremaining: 1.53s\n",
      "594:\tlearn: 0.0995323\ttotal: 2.24s\tremaining: 1.52s\n",
      "595:\tlearn: 0.0994331\ttotal: 2.24s\tremaining: 1.52s\n",
      "596:\tlearn: 0.0992370\ttotal: 2.25s\tremaining: 1.51s\n",
      "597:\tlearn: 0.0991300\ttotal: 2.25s\tremaining: 1.51s\n",
      "598:\tlearn: 0.0989314\ttotal: 2.25s\tremaining: 1.51s\n",
      "599:\tlearn: 0.0988489\ttotal: 2.26s\tremaining: 1.5s\n",
      "600:\tlearn: 0.0987240\ttotal: 2.26s\tremaining: 1.5s\n",
      "601:\tlearn: 0.0986008\ttotal: 2.26s\tremaining: 1.5s\n",
      "602:\tlearn: 0.0984518\ttotal: 2.27s\tremaining: 1.49s\n",
      "603:\tlearn: 0.0983045\ttotal: 2.27s\tremaining: 1.49s\n",
      "604:\tlearn: 0.0980625\ttotal: 2.27s\tremaining: 1.48s\n",
      "605:\tlearn: 0.0976946\ttotal: 2.28s\tremaining: 1.48s\n",
      "606:\tlearn: 0.0975574\ttotal: 2.28s\tremaining: 1.48s\n",
      "607:\tlearn: 0.0975451\ttotal: 2.28s\tremaining: 1.47s\n",
      "608:\tlearn: 0.0974028\ttotal: 2.29s\tremaining: 1.47s\n",
      "609:\tlearn: 0.0971737\ttotal: 2.29s\tremaining: 1.46s\n",
      "610:\tlearn: 0.0970816\ttotal: 2.29s\tremaining: 1.46s\n",
      "611:\tlearn: 0.0970377\ttotal: 2.3s\tremaining: 1.46s\n",
      "612:\tlearn: 0.0968138\ttotal: 2.3s\tremaining: 1.45s\n",
      "613:\tlearn: 0.0966825\ttotal: 2.31s\tremaining: 1.45s\n",
      "614:\tlearn: 0.0963501\ttotal: 2.31s\tremaining: 1.45s\n",
      "615:\tlearn: 0.0961435\ttotal: 2.32s\tremaining: 1.44s\n",
      "616:\tlearn: 0.0960076\ttotal: 2.32s\tremaining: 1.44s\n",
      "617:\tlearn: 0.0958676\ttotal: 2.32s\tremaining: 1.44s\n",
      "618:\tlearn: 0.0957834\ttotal: 2.33s\tremaining: 1.43s\n",
      "619:\tlearn: 0.0955338\ttotal: 2.33s\tremaining: 1.43s\n",
      "620:\tlearn: 0.0953386\ttotal: 2.33s\tremaining: 1.42s\n",
      "621:\tlearn: 0.0952595\ttotal: 2.34s\tremaining: 1.42s\n",
      "622:\tlearn: 0.0951793\ttotal: 2.34s\tremaining: 1.42s\n",
      "623:\tlearn: 0.0951165\ttotal: 2.34s\tremaining: 1.41s\n",
      "624:\tlearn: 0.0949813\ttotal: 2.35s\tremaining: 1.41s\n",
      "625:\tlearn: 0.0947836\ttotal: 2.35s\tremaining: 1.41s\n",
      "626:\tlearn: 0.0945573\ttotal: 2.35s\tremaining: 1.4s\n",
      "627:\tlearn: 0.0943903\ttotal: 2.36s\tremaining: 1.4s\n",
      "628:\tlearn: 0.0942376\ttotal: 2.36s\tremaining: 1.39s\n",
      "629:\tlearn: 0.0941783\ttotal: 2.37s\tremaining: 1.39s\n",
      "630:\tlearn: 0.0939987\ttotal: 2.37s\tremaining: 1.39s\n",
      "631:\tlearn: 0.0938760\ttotal: 2.37s\tremaining: 1.38s\n",
      "632:\tlearn: 0.0937219\ttotal: 2.38s\tremaining: 1.38s\n",
      "633:\tlearn: 0.0936399\ttotal: 2.38s\tremaining: 1.37s\n",
      "634:\tlearn: 0.0935938\ttotal: 2.38s\tremaining: 1.37s\n",
      "635:\tlearn: 0.0935151\ttotal: 2.38s\tremaining: 1.36s\n",
      "636:\tlearn: 0.0933930\ttotal: 2.39s\tremaining: 1.36s\n",
      "637:\tlearn: 0.0932208\ttotal: 2.39s\tremaining: 1.36s\n",
      "638:\tlearn: 0.0931416\ttotal: 2.39s\tremaining: 1.35s\n",
      "639:\tlearn: 0.0930783\ttotal: 2.4s\tremaining: 1.35s\n",
      "640:\tlearn: 0.0929925\ttotal: 2.4s\tremaining: 1.34s\n",
      "641:\tlearn: 0.0928087\ttotal: 2.4s\tremaining: 1.34s\n",
      "642:\tlearn: 0.0926884\ttotal: 2.41s\tremaining: 1.34s\n",
      "643:\tlearn: 0.0926525\ttotal: 2.41s\tremaining: 1.33s\n",
      "644:\tlearn: 0.0924380\ttotal: 2.41s\tremaining: 1.33s\n",
      "645:\tlearn: 0.0922665\ttotal: 2.42s\tremaining: 1.32s\n",
      "646:\tlearn: 0.0921969\ttotal: 2.42s\tremaining: 1.32s\n",
      "647:\tlearn: 0.0920562\ttotal: 2.42s\tremaining: 1.32s\n",
      "648:\tlearn: 0.0920001\ttotal: 2.43s\tremaining: 1.31s\n",
      "649:\tlearn: 0.0918708\ttotal: 2.43s\tremaining: 1.31s\n",
      "650:\tlearn: 0.0917327\ttotal: 2.44s\tremaining: 1.3s\n",
      "651:\tlearn: 0.0915304\ttotal: 2.44s\tremaining: 1.3s\n",
      "652:\tlearn: 0.0914362\ttotal: 2.44s\tremaining: 1.3s\n",
      "653:\tlearn: 0.0913069\ttotal: 2.45s\tremaining: 1.29s\n",
      "654:\tlearn: 0.0911438\ttotal: 2.45s\tremaining: 1.29s\n",
      "655:\tlearn: 0.0910610\ttotal: 2.45s\tremaining: 1.29s\n",
      "656:\tlearn: 0.0910186\ttotal: 2.46s\tremaining: 1.28s\n",
      "657:\tlearn: 0.0909189\ttotal: 2.46s\tremaining: 1.28s\n",
      "658:\tlearn: 0.0907947\ttotal: 2.47s\tremaining: 1.28s\n",
      "659:\tlearn: 0.0906264\ttotal: 2.47s\tremaining: 1.27s\n",
      "660:\tlearn: 0.0904904\ttotal: 2.48s\tremaining: 1.27s\n",
      "661:\tlearn: 0.0902980\ttotal: 2.48s\tremaining: 1.27s\n",
      "662:\tlearn: 0.0901812\ttotal: 2.48s\tremaining: 1.26s\n",
      "663:\tlearn: 0.0901456\ttotal: 2.49s\tremaining: 1.26s\n",
      "664:\tlearn: 0.0901057\ttotal: 2.49s\tremaining: 1.25s\n",
      "665:\tlearn: 0.0899640\ttotal: 2.49s\tremaining: 1.25s\n",
      "666:\tlearn: 0.0898060\ttotal: 2.5s\tremaining: 1.25s\n",
      "667:\tlearn: 0.0896965\ttotal: 2.5s\tremaining: 1.24s\n",
      "668:\tlearn: 0.0896088\ttotal: 2.5s\tremaining: 1.24s\n",
      "669:\tlearn: 0.0894540\ttotal: 2.51s\tremaining: 1.23s\n",
      "670:\tlearn: 0.0892657\ttotal: 2.51s\tremaining: 1.23s\n",
      "671:\tlearn: 0.0891450\ttotal: 2.51s\tremaining: 1.23s\n",
      "672:\tlearn: 0.0890079\ttotal: 2.52s\tremaining: 1.22s\n",
      "673:\tlearn: 0.0889753\ttotal: 2.52s\tremaining: 1.22s\n",
      "674:\tlearn: 0.0888826\ttotal: 2.52s\tremaining: 1.21s\n",
      "675:\tlearn: 0.0888018\ttotal: 2.53s\tremaining: 1.21s\n",
      "676:\tlearn: 0.0886098\ttotal: 2.53s\tremaining: 1.21s\n",
      "677:\tlearn: 0.0884641\ttotal: 2.53s\tremaining: 1.2s\n",
      "678:\tlearn: 0.0883643\ttotal: 2.54s\tremaining: 1.2s\n",
      "679:\tlearn: 0.0882353\ttotal: 2.54s\tremaining: 1.19s\n",
      "680:\tlearn: 0.0880893\ttotal: 2.54s\tremaining: 1.19s\n",
      "681:\tlearn: 0.0880458\ttotal: 2.54s\tremaining: 1.19s\n",
      "682:\tlearn: 0.0879275\ttotal: 2.55s\tremaining: 1.18s\n",
      "683:\tlearn: 0.0878605\ttotal: 2.55s\tremaining: 1.18s\n",
      "684:\tlearn: 0.0876941\ttotal: 2.55s\tremaining: 1.17s\n",
      "685:\tlearn: 0.0876026\ttotal: 2.56s\tremaining: 1.17s\n",
      "686:\tlearn: 0.0874914\ttotal: 2.56s\tremaining: 1.17s\n",
      "687:\tlearn: 0.0874498\ttotal: 2.56s\tremaining: 1.16s\n",
      "688:\tlearn: 0.0873263\ttotal: 2.57s\tremaining: 1.16s\n",
      "689:\tlearn: 0.0872243\ttotal: 2.57s\tremaining: 1.16s\n",
      "690:\tlearn: 0.0871703\ttotal: 2.57s\tremaining: 1.15s\n",
      "691:\tlearn: 0.0869906\ttotal: 2.58s\tremaining: 1.15s\n",
      "692:\tlearn: 0.0868536\ttotal: 2.58s\tremaining: 1.14s\n",
      "693:\tlearn: 0.0867901\ttotal: 2.58s\tremaining: 1.14s\n",
      "694:\tlearn: 0.0866490\ttotal: 2.59s\tremaining: 1.14s\n",
      "695:\tlearn: 0.0865304\ttotal: 2.59s\tremaining: 1.13s\n",
      "696:\tlearn: 0.0863751\ttotal: 2.59s\tremaining: 1.13s\n",
      "697:\tlearn: 0.0862180\ttotal: 2.6s\tremaining: 1.12s\n",
      "698:\tlearn: 0.0861188\ttotal: 2.6s\tremaining: 1.12s\n",
      "699:\tlearn: 0.0860015\ttotal: 2.6s\tremaining: 1.11s\n",
      "700:\tlearn: 0.0859612\ttotal: 2.61s\tremaining: 1.11s\n",
      "701:\tlearn: 0.0858644\ttotal: 2.61s\tremaining: 1.11s\n",
      "702:\tlearn: 0.0858465\ttotal: 2.61s\tremaining: 1.1s\n",
      "703:\tlearn: 0.0857431\ttotal: 2.62s\tremaining: 1.1s\n",
      "704:\tlearn: 0.0856978\ttotal: 2.62s\tremaining: 1.09s\n",
      "705:\tlearn: 0.0856311\ttotal: 2.62s\tremaining: 1.09s\n",
      "706:\tlearn: 0.0854862\ttotal: 2.63s\tremaining: 1.09s\n",
      "707:\tlearn: 0.0854508\ttotal: 2.63s\tremaining: 1.08s\n",
      "708:\tlearn: 0.0854031\ttotal: 2.63s\tremaining: 1.08s\n",
      "709:\tlearn: 0.0852642\ttotal: 2.64s\tremaining: 1.08s\n",
      "710:\tlearn: 0.0851538\ttotal: 2.64s\tremaining: 1.07s\n",
      "711:\tlearn: 0.0848964\ttotal: 2.64s\tremaining: 1.07s\n",
      "712:\tlearn: 0.0848487\ttotal: 2.65s\tremaining: 1.06s\n",
      "713:\tlearn: 0.0847713\ttotal: 2.65s\tremaining: 1.06s\n",
      "714:\tlearn: 0.0846821\ttotal: 2.65s\tremaining: 1.06s\n",
      "715:\tlearn: 0.0846000\ttotal: 2.66s\tremaining: 1.05s\n",
      "716:\tlearn: 0.0845379\ttotal: 2.66s\tremaining: 1.05s\n",
      "717:\tlearn: 0.0844252\ttotal: 2.66s\tremaining: 1.05s\n",
      "718:\tlearn: 0.0842934\ttotal: 2.67s\tremaining: 1.04s\n",
      "719:\tlearn: 0.0842281\ttotal: 2.67s\tremaining: 1.04s\n",
      "720:\tlearn: 0.0841191\ttotal: 2.67s\tremaining: 1.03s\n",
      "721:\tlearn: 0.0840366\ttotal: 2.68s\tremaining: 1.03s\n",
      "722:\tlearn: 0.0839541\ttotal: 2.68s\tremaining: 1.03s\n",
      "723:\tlearn: 0.0839353\ttotal: 2.68s\tremaining: 1.02s\n",
      "724:\tlearn: 0.0837966\ttotal: 2.69s\tremaining: 1.02s\n",
      "725:\tlearn: 0.0836767\ttotal: 2.69s\tremaining: 1.01s\n",
      "726:\tlearn: 0.0836469\ttotal: 2.69s\tremaining: 1.01s\n",
      "727:\tlearn: 0.0833983\ttotal: 2.69s\tremaining: 1.01s\n",
      "728:\tlearn: 0.0832591\ttotal: 2.7s\tremaining: 1s\n",
      "729:\tlearn: 0.0832008\ttotal: 2.7s\tremaining: 999ms\n",
      "730:\tlearn: 0.0831130\ttotal: 2.71s\tremaining: 995ms\n",
      "731:\tlearn: 0.0830595\ttotal: 2.71s\tremaining: 992ms\n",
      "732:\tlearn: 0.0829476\ttotal: 2.71s\tremaining: 988ms\n",
      "733:\tlearn: 0.0828275\ttotal: 2.71s\tremaining: 984ms\n",
      "734:\tlearn: 0.0827295\ttotal: 2.72s\tremaining: 980ms\n",
      "735:\tlearn: 0.0826867\ttotal: 2.72s\tremaining: 976ms\n",
      "736:\tlearn: 0.0825015\ttotal: 2.73s\tremaining: 972ms\n",
      "737:\tlearn: 0.0823071\ttotal: 2.73s\tremaining: 969ms\n",
      "738:\tlearn: 0.0822094\ttotal: 2.73s\tremaining: 965ms\n",
      "739:\tlearn: 0.0821296\ttotal: 2.73s\tremaining: 961ms\n",
      "740:\tlearn: 0.0820614\ttotal: 2.74s\tremaining: 958ms\n",
      "741:\tlearn: 0.0820228\ttotal: 2.74s\tremaining: 954ms\n",
      "742:\tlearn: 0.0819301\ttotal: 2.75s\tremaining: 950ms\n",
      "743:\tlearn: 0.0818106\ttotal: 2.75s\tremaining: 946ms\n",
      "744:\tlearn: 0.0817012\ttotal: 2.75s\tremaining: 943ms\n",
      "745:\tlearn: 0.0816477\ttotal: 2.76s\tremaining: 939ms\n",
      "746:\tlearn: 0.0815473\ttotal: 2.76s\tremaining: 935ms\n",
      "747:\tlearn: 0.0814518\ttotal: 2.76s\tremaining: 931ms\n",
      "748:\tlearn: 0.0814343\ttotal: 2.77s\tremaining: 927ms\n",
      "749:\tlearn: 0.0813560\ttotal: 2.77s\tremaining: 924ms\n",
      "750:\tlearn: 0.0811815\ttotal: 2.77s\tremaining: 920ms\n",
      "751:\tlearn: 0.0810705\ttotal: 2.78s\tremaining: 916ms\n",
      "752:\tlearn: 0.0810630\ttotal: 2.78s\tremaining: 912ms\n",
      "753:\tlearn: 0.0809728\ttotal: 2.78s\tremaining: 908ms\n",
      "754:\tlearn: 0.0808800\ttotal: 2.79s\tremaining: 905ms\n",
      "755:\tlearn: 0.0807116\ttotal: 2.79s\tremaining: 901ms\n",
      "756:\tlearn: 0.0806489\ttotal: 2.79s\tremaining: 897ms\n",
      "757:\tlearn: 0.0805180\ttotal: 2.8s\tremaining: 894ms\n",
      "758:\tlearn: 0.0804313\ttotal: 2.8s\tremaining: 890ms\n",
      "759:\tlearn: 0.0802550\ttotal: 2.81s\tremaining: 886ms\n",
      "760:\tlearn: 0.0801399\ttotal: 2.81s\tremaining: 882ms\n",
      "761:\tlearn: 0.0800226\ttotal: 2.81s\tremaining: 879ms\n",
      "762:\tlearn: 0.0799156\ttotal: 2.81s\tremaining: 875ms\n",
      "763:\tlearn: 0.0797942\ttotal: 2.82s\tremaining: 871ms\n",
      "764:\tlearn: 0.0797574\ttotal: 2.82s\tremaining: 868ms\n",
      "765:\tlearn: 0.0796382\ttotal: 2.83s\tremaining: 864ms\n",
      "766:\tlearn: 0.0795073\ttotal: 2.83s\tremaining: 860ms\n",
      "767:\tlearn: 0.0794288\ttotal: 2.83s\tremaining: 857ms\n",
      "768:\tlearn: 0.0793553\ttotal: 2.84s\tremaining: 853ms\n",
      "769:\tlearn: 0.0792818\ttotal: 2.84s\tremaining: 849ms\n",
      "770:\tlearn: 0.0792430\ttotal: 2.85s\tremaining: 845ms\n",
      "771:\tlearn: 0.0791477\ttotal: 2.85s\tremaining: 841ms\n",
      "772:\tlearn: 0.0789506\ttotal: 2.85s\tremaining: 838ms\n",
      "773:\tlearn: 0.0789095\ttotal: 2.85s\tremaining: 834ms\n",
      "774:\tlearn: 0.0788103\ttotal: 2.86s\tremaining: 830ms\n",
      "775:\tlearn: 0.0787004\ttotal: 2.86s\tremaining: 826ms\n",
      "776:\tlearn: 0.0785513\ttotal: 2.87s\tremaining: 822ms\n",
      "777:\tlearn: 0.0785233\ttotal: 2.87s\tremaining: 819ms\n",
      "778:\tlearn: 0.0784284\ttotal: 2.87s\tremaining: 815ms\n",
      "779:\tlearn: 0.0783757\ttotal: 2.88s\tremaining: 811ms\n",
      "780:\tlearn: 0.0781855\ttotal: 2.88s\tremaining: 807ms\n",
      "781:\tlearn: 0.0780853\ttotal: 2.88s\tremaining: 803ms\n",
      "782:\tlearn: 0.0780558\ttotal: 2.88s\tremaining: 800ms\n",
      "783:\tlearn: 0.0779452\ttotal: 2.89s\tremaining: 796ms\n",
      "784:\tlearn: 0.0777605\ttotal: 2.89s\tremaining: 792ms\n",
      "785:\tlearn: 0.0777173\ttotal: 2.89s\tremaining: 788ms\n",
      "786:\tlearn: 0.0776393\ttotal: 2.9s\tremaining: 784ms\n",
      "787:\tlearn: 0.0775551\ttotal: 2.9s\tremaining: 781ms\n",
      "788:\tlearn: 0.0775166\ttotal: 2.91s\tremaining: 777ms\n",
      "789:\tlearn: 0.0774328\ttotal: 2.91s\tremaining: 773ms\n",
      "790:\tlearn: 0.0773958\ttotal: 2.91s\tremaining: 770ms\n",
      "791:\tlearn: 0.0772810\ttotal: 2.92s\tremaining: 766ms\n",
      "792:\tlearn: 0.0772624\ttotal: 2.92s\tremaining: 763ms\n",
      "793:\tlearn: 0.0772278\ttotal: 2.92s\tremaining: 759ms\n",
      "794:\tlearn: 0.0771858\ttotal: 2.93s\tremaining: 755ms\n",
      "795:\tlearn: 0.0771254\ttotal: 2.93s\tremaining: 751ms\n",
      "796:\tlearn: 0.0770564\ttotal: 2.94s\tremaining: 748ms\n",
      "797:\tlearn: 0.0769976\ttotal: 2.94s\tremaining: 744ms\n",
      "798:\tlearn: 0.0769303\ttotal: 2.94s\tremaining: 740ms\n",
      "799:\tlearn: 0.0768012\ttotal: 2.95s\tremaining: 737ms\n",
      "800:\tlearn: 0.0767889\ttotal: 2.95s\tremaining: 733ms\n",
      "801:\tlearn: 0.0766524\ttotal: 2.95s\tremaining: 729ms\n",
      "802:\tlearn: 0.0765545\ttotal: 2.96s\tremaining: 726ms\n",
      "803:\tlearn: 0.0764035\ttotal: 2.96s\tremaining: 722ms\n",
      "804:\tlearn: 0.0762685\ttotal: 2.97s\tremaining: 718ms\n",
      "805:\tlearn: 0.0762353\ttotal: 2.97s\tremaining: 715ms\n",
      "806:\tlearn: 0.0761814\ttotal: 2.97s\tremaining: 711ms\n",
      "807:\tlearn: 0.0761149\ttotal: 2.98s\tremaining: 708ms\n",
      "808:\tlearn: 0.0760010\ttotal: 2.98s\tremaining: 704ms\n",
      "809:\tlearn: 0.0759191\ttotal: 2.98s\tremaining: 700ms\n",
      "810:\tlearn: 0.0758036\ttotal: 2.99s\tremaining: 697ms\n",
      "811:\tlearn: 0.0756645\ttotal: 2.99s\tremaining: 693ms\n",
      "812:\tlearn: 0.0756454\ttotal: 3s\tremaining: 689ms\n",
      "813:\tlearn: 0.0755610\ttotal: 3s\tremaining: 686ms\n",
      "814:\tlearn: 0.0754780\ttotal: 3s\tremaining: 682ms\n",
      "815:\tlearn: 0.0754368\ttotal: 3.01s\tremaining: 678ms\n",
      "816:\tlearn: 0.0754194\ttotal: 3.01s\tremaining: 675ms\n",
      "817:\tlearn: 0.0753538\ttotal: 3.01s\tremaining: 671ms\n",
      "818:\tlearn: 0.0753138\ttotal: 3.02s\tremaining: 667ms\n",
      "819:\tlearn: 0.0751839\ttotal: 3.02s\tremaining: 664ms\n",
      "820:\tlearn: 0.0751221\ttotal: 3.03s\tremaining: 660ms\n",
      "821:\tlearn: 0.0749970\ttotal: 3.03s\tremaining: 657ms\n",
      "822:\tlearn: 0.0748759\ttotal: 3.04s\tremaining: 654ms\n",
      "823:\tlearn: 0.0746861\ttotal: 3.05s\tremaining: 651ms\n",
      "824:\tlearn: 0.0746381\ttotal: 3.05s\tremaining: 648ms\n",
      "825:\tlearn: 0.0745336\ttotal: 3.06s\tremaining: 644ms\n",
      "826:\tlearn: 0.0744680\ttotal: 3.06s\tremaining: 641ms\n",
      "827:\tlearn: 0.0743931\ttotal: 3.07s\tremaining: 637ms\n",
      "828:\tlearn: 0.0742101\ttotal: 3.07s\tremaining: 633ms\n",
      "829:\tlearn: 0.0741070\ttotal: 3.07s\tremaining: 630ms\n",
      "830:\tlearn: 0.0740999\ttotal: 3.08s\tremaining: 626ms\n",
      "831:\tlearn: 0.0739608\ttotal: 3.08s\tremaining: 623ms\n",
      "832:\tlearn: 0.0738832\ttotal: 3.09s\tremaining: 619ms\n",
      "833:\tlearn: 0.0737627\ttotal: 3.09s\tremaining: 616ms\n",
      "834:\tlearn: 0.0736454\ttotal: 3.1s\tremaining: 612ms\n",
      "835:\tlearn: 0.0736074\ttotal: 3.1s\tremaining: 608ms\n",
      "836:\tlearn: 0.0735262\ttotal: 3.11s\tremaining: 605ms\n",
      "837:\tlearn: 0.0734009\ttotal: 3.11s\tremaining: 602ms\n",
      "838:\tlearn: 0.0733403\ttotal: 3.12s\tremaining: 598ms\n",
      "839:\tlearn: 0.0732357\ttotal: 3.12s\tremaining: 595ms\n",
      "840:\tlearn: 0.0731644\ttotal: 3.13s\tremaining: 591ms\n",
      "841:\tlearn: 0.0730476\ttotal: 3.13s\tremaining: 588ms\n",
      "842:\tlearn: 0.0729650\ttotal: 3.14s\tremaining: 584ms\n",
      "843:\tlearn: 0.0728586\ttotal: 3.14s\tremaining: 581ms\n",
      "844:\tlearn: 0.0728122\ttotal: 3.15s\tremaining: 577ms\n",
      "845:\tlearn: 0.0726927\ttotal: 3.15s\tremaining: 573ms\n",
      "846:\tlearn: 0.0725800\ttotal: 3.15s\tremaining: 570ms\n",
      "847:\tlearn: 0.0725108\ttotal: 3.16s\tremaining: 566ms\n",
      "848:\tlearn: 0.0724046\ttotal: 3.16s\tremaining: 562ms\n",
      "849:\tlearn: 0.0723167\ttotal: 3.16s\tremaining: 558ms\n",
      "850:\tlearn: 0.0721613\ttotal: 3.17s\tremaining: 555ms\n",
      "851:\tlearn: 0.0721129\ttotal: 3.17s\tremaining: 551ms\n",
      "852:\tlearn: 0.0720149\ttotal: 3.17s\tremaining: 547ms\n",
      "853:\tlearn: 0.0719023\ttotal: 3.18s\tremaining: 543ms\n",
      "854:\tlearn: 0.0718256\ttotal: 3.18s\tremaining: 540ms\n",
      "855:\tlearn: 0.0717504\ttotal: 3.19s\tremaining: 536ms\n",
      "856:\tlearn: 0.0716866\ttotal: 3.19s\tremaining: 532ms\n",
      "857:\tlearn: 0.0716217\ttotal: 3.19s\tremaining: 528ms\n",
      "858:\tlearn: 0.0715059\ttotal: 3.2s\tremaining: 525ms\n",
      "859:\tlearn: 0.0714634\ttotal: 3.2s\tremaining: 521ms\n",
      "860:\tlearn: 0.0713949\ttotal: 3.2s\tremaining: 517ms\n",
      "861:\tlearn: 0.0712861\ttotal: 3.21s\tremaining: 514ms\n",
      "862:\tlearn: 0.0712553\ttotal: 3.21s\tremaining: 510ms\n",
      "863:\tlearn: 0.0712006\ttotal: 3.21s\tremaining: 506ms\n",
      "864:\tlearn: 0.0711512\ttotal: 3.22s\tremaining: 502ms\n",
      "865:\tlearn: 0.0710347\ttotal: 3.22s\tremaining: 499ms\n",
      "866:\tlearn: 0.0708811\ttotal: 3.23s\tremaining: 495ms\n",
      "867:\tlearn: 0.0707804\ttotal: 3.23s\tremaining: 491ms\n",
      "868:\tlearn: 0.0707089\ttotal: 3.23s\tremaining: 487ms\n",
      "869:\tlearn: 0.0706925\ttotal: 3.24s\tremaining: 484ms\n",
      "870:\tlearn: 0.0706381\ttotal: 3.24s\tremaining: 480ms\n",
      "871:\tlearn: 0.0705279\ttotal: 3.24s\tremaining: 476ms\n",
      "872:\tlearn: 0.0704208\ttotal: 3.25s\tremaining: 473ms\n",
      "873:\tlearn: 0.0702942\ttotal: 3.25s\tremaining: 469ms\n",
      "874:\tlearn: 0.0702559\ttotal: 3.25s\tremaining: 465ms\n",
      "875:\tlearn: 0.0701890\ttotal: 3.26s\tremaining: 461ms\n",
      "876:\tlearn: 0.0701559\ttotal: 3.26s\tremaining: 458ms\n",
      "877:\tlearn: 0.0700455\ttotal: 3.27s\tremaining: 454ms\n",
      "878:\tlearn: 0.0700096\ttotal: 3.27s\tremaining: 450ms\n",
      "879:\tlearn: 0.0699468\ttotal: 3.27s\tremaining: 446ms\n",
      "880:\tlearn: 0.0698498\ttotal: 3.28s\tremaining: 443ms\n",
      "881:\tlearn: 0.0697800\ttotal: 3.28s\tremaining: 439ms\n",
      "882:\tlearn: 0.0696322\ttotal: 3.28s\tremaining: 435ms\n",
      "883:\tlearn: 0.0695453\ttotal: 3.29s\tremaining: 431ms\n",
      "884:\tlearn: 0.0694374\ttotal: 3.29s\tremaining: 427ms\n",
      "885:\tlearn: 0.0693123\ttotal: 3.29s\tremaining: 424ms\n",
      "886:\tlearn: 0.0691706\ttotal: 3.3s\tremaining: 420ms\n",
      "887:\tlearn: 0.0691557\ttotal: 3.3s\tremaining: 416ms\n",
      "888:\tlearn: 0.0690635\ttotal: 3.3s\tremaining: 413ms\n",
      "889:\tlearn: 0.0689968\ttotal: 3.31s\tremaining: 409ms\n",
      "890:\tlearn: 0.0689387\ttotal: 3.31s\tremaining: 405ms\n",
      "891:\tlearn: 0.0688700\ttotal: 3.31s\tremaining: 401ms\n",
      "892:\tlearn: 0.0688234\ttotal: 3.32s\tremaining: 398ms\n",
      "893:\tlearn: 0.0686870\ttotal: 3.32s\tremaining: 394ms\n",
      "894:\tlearn: 0.0686241\ttotal: 3.33s\tremaining: 390ms\n",
      "895:\tlearn: 0.0685709\ttotal: 3.33s\tremaining: 387ms\n",
      "896:\tlearn: 0.0685360\ttotal: 3.33s\tremaining: 383ms\n",
      "897:\tlearn: 0.0684326\ttotal: 3.34s\tremaining: 379ms\n",
      "898:\tlearn: 0.0683010\ttotal: 3.34s\tremaining: 375ms\n",
      "899:\tlearn: 0.0681494\ttotal: 3.34s\tremaining: 372ms\n",
      "900:\tlearn: 0.0681025\ttotal: 3.35s\tremaining: 368ms\n",
      "901:\tlearn: 0.0680401\ttotal: 3.35s\tremaining: 364ms\n",
      "902:\tlearn: 0.0679591\ttotal: 3.35s\tremaining: 360ms\n",
      "903:\tlearn: 0.0678648\ttotal: 3.36s\tremaining: 357ms\n",
      "904:\tlearn: 0.0677586\ttotal: 3.36s\tremaining: 353ms\n",
      "905:\tlearn: 0.0676117\ttotal: 3.37s\tremaining: 349ms\n",
      "906:\tlearn: 0.0674758\ttotal: 3.37s\tremaining: 346ms\n",
      "907:\tlearn: 0.0674091\ttotal: 3.37s\tremaining: 342ms\n",
      "908:\tlearn: 0.0673620\ttotal: 3.38s\tremaining: 338ms\n",
      "909:\tlearn: 0.0673044\ttotal: 3.38s\tremaining: 335ms\n",
      "910:\tlearn: 0.0672638\ttotal: 3.38s\tremaining: 331ms\n",
      "911:\tlearn: 0.0671625\ttotal: 3.39s\tremaining: 327ms\n",
      "912:\tlearn: 0.0670884\ttotal: 3.39s\tremaining: 323ms\n",
      "913:\tlearn: 0.0670167\ttotal: 3.4s\tremaining: 320ms\n",
      "914:\tlearn: 0.0668653\ttotal: 3.4s\tremaining: 316ms\n",
      "915:\tlearn: 0.0668212\ttotal: 3.4s\tremaining: 312ms\n",
      "916:\tlearn: 0.0667904\ttotal: 3.41s\tremaining: 308ms\n",
      "917:\tlearn: 0.0666899\ttotal: 3.41s\tremaining: 305ms\n",
      "918:\tlearn: 0.0666573\ttotal: 3.41s\tremaining: 301ms\n",
      "919:\tlearn: 0.0665988\ttotal: 3.42s\tremaining: 297ms\n",
      "920:\tlearn: 0.0665013\ttotal: 3.42s\tremaining: 293ms\n",
      "921:\tlearn: 0.0664093\ttotal: 3.42s\tremaining: 290ms\n",
      "922:\tlearn: 0.0662161\ttotal: 3.43s\tremaining: 286ms\n",
      "923:\tlearn: 0.0661799\ttotal: 3.43s\tremaining: 282ms\n",
      "924:\tlearn: 0.0660505\ttotal: 3.44s\tremaining: 279ms\n",
      "925:\tlearn: 0.0659958\ttotal: 3.44s\tremaining: 275ms\n",
      "926:\tlearn: 0.0659326\ttotal: 3.44s\tremaining: 271ms\n",
      "927:\tlearn: 0.0657579\ttotal: 3.45s\tremaining: 267ms\n",
      "928:\tlearn: 0.0657018\ttotal: 3.45s\tremaining: 264ms\n",
      "929:\tlearn: 0.0656569\ttotal: 3.45s\tremaining: 260ms\n",
      "930:\tlearn: 0.0655602\ttotal: 3.46s\tremaining: 256ms\n",
      "931:\tlearn: 0.0654810\ttotal: 3.46s\tremaining: 253ms\n",
      "932:\tlearn: 0.0653694\ttotal: 3.46s\tremaining: 249ms\n",
      "933:\tlearn: 0.0652630\ttotal: 3.47s\tremaining: 245ms\n",
      "934:\tlearn: 0.0651698\ttotal: 3.47s\tremaining: 242ms\n",
      "935:\tlearn: 0.0650958\ttotal: 3.48s\tremaining: 238ms\n",
      "936:\tlearn: 0.0649910\ttotal: 3.48s\tremaining: 234ms\n",
      "937:\tlearn: 0.0649433\ttotal: 3.49s\tremaining: 230ms\n",
      "938:\tlearn: 0.0648665\ttotal: 3.49s\tremaining: 227ms\n",
      "939:\tlearn: 0.0647699\ttotal: 3.49s\tremaining: 223ms\n",
      "940:\tlearn: 0.0646227\ttotal: 3.5s\tremaining: 219ms\n",
      "941:\tlearn: 0.0645296\ttotal: 3.5s\tremaining: 216ms\n",
      "942:\tlearn: 0.0644640\ttotal: 3.5s\tremaining: 212ms\n",
      "943:\tlearn: 0.0643643\ttotal: 3.51s\tremaining: 208ms\n",
      "944:\tlearn: 0.0643519\ttotal: 3.52s\tremaining: 205ms\n",
      "945:\tlearn: 0.0642917\ttotal: 3.52s\tremaining: 201ms\n",
      "946:\tlearn: 0.0642193\ttotal: 3.52s\tremaining: 197ms\n",
      "947:\tlearn: 0.0641816\ttotal: 3.53s\tremaining: 194ms\n",
      "948:\tlearn: 0.0641069\ttotal: 3.53s\tremaining: 190ms\n",
      "949:\tlearn: 0.0640977\ttotal: 3.54s\tremaining: 186ms\n",
      "950:\tlearn: 0.0640002\ttotal: 3.54s\tremaining: 182ms\n",
      "951:\tlearn: 0.0639429\ttotal: 3.54s\tremaining: 179ms\n",
      "952:\tlearn: 0.0638544\ttotal: 3.55s\tremaining: 175ms\n",
      "953:\tlearn: 0.0637670\ttotal: 3.55s\tremaining: 171ms\n",
      "954:\tlearn: 0.0636955\ttotal: 3.55s\tremaining: 167ms\n",
      "955:\tlearn: 0.0636156\ttotal: 3.56s\tremaining: 164ms\n",
      "956:\tlearn: 0.0635490\ttotal: 3.56s\tremaining: 160ms\n",
      "957:\tlearn: 0.0634911\ttotal: 3.56s\tremaining: 156ms\n",
      "958:\tlearn: 0.0633806\ttotal: 3.57s\tremaining: 153ms\n",
      "959:\tlearn: 0.0632417\ttotal: 3.57s\tremaining: 149ms\n",
      "960:\tlearn: 0.0630814\ttotal: 3.58s\tremaining: 145ms\n",
      "961:\tlearn: 0.0630562\ttotal: 3.58s\tremaining: 141ms\n",
      "962:\tlearn: 0.0629627\ttotal: 3.58s\tremaining: 138ms\n",
      "963:\tlearn: 0.0628692\ttotal: 3.59s\tremaining: 134ms\n",
      "964:\tlearn: 0.0627872\ttotal: 3.59s\tremaining: 130ms\n",
      "965:\tlearn: 0.0627299\ttotal: 3.59s\tremaining: 126ms\n",
      "966:\tlearn: 0.0627187\ttotal: 3.6s\tremaining: 123ms\n",
      "967:\tlearn: 0.0626461\ttotal: 3.6s\tremaining: 119ms\n",
      "968:\tlearn: 0.0625924\ttotal: 3.6s\tremaining: 115ms\n",
      "969:\tlearn: 0.0624642\ttotal: 3.61s\tremaining: 112ms\n",
      "970:\tlearn: 0.0624347\ttotal: 3.61s\tremaining: 108ms\n",
      "971:\tlearn: 0.0623861\ttotal: 3.61s\tremaining: 104ms\n",
      "972:\tlearn: 0.0623339\ttotal: 3.62s\tremaining: 100ms\n",
      "973:\tlearn: 0.0622725\ttotal: 3.62s\tremaining: 96.6ms\n",
      "974:\tlearn: 0.0622389\ttotal: 3.62s\tremaining: 92.9ms\n",
      "975:\tlearn: 0.0621252\ttotal: 3.63s\tremaining: 89.2ms\n",
      "976:\tlearn: 0.0620088\ttotal: 3.63s\tremaining: 85.5ms\n",
      "977:\tlearn: 0.0619405\ttotal: 3.63s\tremaining: 81.8ms\n",
      "978:\tlearn: 0.0618725\ttotal: 3.64s\tremaining: 78ms\n",
      "979:\tlearn: 0.0618179\ttotal: 3.64s\tremaining: 74.3ms\n",
      "980:\tlearn: 0.0617381\ttotal: 3.64s\tremaining: 70.6ms\n",
      "981:\tlearn: 0.0616398\ttotal: 3.65s\tremaining: 66.9ms\n",
      "982:\tlearn: 0.0615866\ttotal: 3.65s\tremaining: 63.2ms\n",
      "983:\tlearn: 0.0614817\ttotal: 3.66s\tremaining: 59.5ms\n",
      "984:\tlearn: 0.0613911\ttotal: 3.66s\tremaining: 55.7ms\n",
      "985:\tlearn: 0.0613374\ttotal: 3.66s\tremaining: 52ms\n",
      "986:\tlearn: 0.0612723\ttotal: 3.67s\tremaining: 48.3ms\n",
      "987:\tlearn: 0.0612291\ttotal: 3.67s\tremaining: 44.6ms\n",
      "988:\tlearn: 0.0611778\ttotal: 3.67s\tremaining: 40.9ms\n",
      "989:\tlearn: 0.0610644\ttotal: 3.68s\tremaining: 37.1ms\n",
      "990:\tlearn: 0.0609748\ttotal: 3.68s\tremaining: 33.4ms\n",
      "991:\tlearn: 0.0609121\ttotal: 3.68s\tremaining: 29.7ms\n",
      "992:\tlearn: 0.0608567\ttotal: 3.69s\tremaining: 26ms\n",
      "993:\tlearn: 0.0607872\ttotal: 3.69s\tremaining: 22.3ms\n",
      "994:\tlearn: 0.0607371\ttotal: 3.69s\tremaining: 18.6ms\n",
      "995:\tlearn: 0.0606584\ttotal: 3.7s\tremaining: 14.8ms\n",
      "996:\tlearn: 0.0606077\ttotal: 3.7s\tremaining: 11.1ms\n",
      "997:\tlearn: 0.0605140\ttotal: 3.7s\tremaining: 7.42ms\n",
      "998:\tlearn: 0.0604647\ttotal: 3.71s\tremaining: 3.71ms\n",
      "999:\tlearn: 0.0604493\ttotal: 3.71s\tremaining: 0us\n"
     ]
    },
    {
     "data": {
      "text/plain": [
       "0.9663366336633663"
      ]
     },
     "execution_count": 74,
     "metadata": {},
     "output_type": "execute_result"
    }
   ],
   "source": [
    "cat=CatBoostClassifier().fit(X_train,y_train)\n",
    "y_pred=cat.predict(X_test)\n",
    "accuracy_score(y_pred,y_test)"
   ]
  },
  {
   "cell_type": "code",
   "execution_count": 73,
   "metadata": {},
   "outputs": [
    {
     "data": {
      "text/plain": [
       "0.9643564356435643"
      ]
     },
     "execution_count": 73,
     "metadata": {},
     "output_type": "execute_result"
    }
   ],
   "source": [
    "accuracy_score(y_pred,y_test)"
   ]
  },
  {
   "cell_type": "code",
   "execution_count": 178,
   "metadata": {},
   "outputs": [
    {
     "name": "stdout",
     "output_type": "stream",
     "text": [
      "              precision    recall  f1-score   support\n",
      "\n",
      "           0       0.96      1.00      0.98       466\n",
      "           1       1.00      0.54      0.70        39\n",
      "\n",
      "    accuracy                           0.96       505\n",
      "   macro avg       0.98      0.77      0.84       505\n",
      "weighted avg       0.97      0.96      0.96       505\n",
      " Test veri seti için\n"
     ]
    }
   ],
   "source": [
    "print(classification_report(y_test,y_pred),\"Test veri seti için\")"
   ]
  },
  {
   "cell_type": "code",
   "execution_count": 100,
   "metadata": {},
   "outputs": [
    {
     "name": "stdout",
     "output_type": "stream",
     "text": [
      "Fitting 10 folds for each of 12 candidates, totalling 120 fits\n"
     ]
    },
    {
     "name": "stderr",
     "output_type": "stream",
     "text": [
      "[Parallel(n_jobs=-1)]: Using backend LokyBackend with 4 concurrent workers.\n",
      "[Parallel(n_jobs=-1)]: Done  33 tasks      | elapsed:   45.6s\n",
      "[Parallel(n_jobs=-1)]: Done 120 out of 120 | elapsed:  3.3min finished\n"
     ]
    },
    {
     "name": "stdout",
     "output_type": "stream",
     "text": [
      "0:\tlearn: 0.5962647\ttotal: 10.1ms\tremaining: 2.02s\n",
      "1:\tlearn: 0.5261789\ttotal: 16.3ms\tremaining: 1.61s\n",
      "2:\tlearn: 0.4620211\ttotal: 22.2ms\tremaining: 1.46s\n",
      "3:\tlearn: 0.4108901\ttotal: 29.2ms\tremaining: 1.43s\n",
      "4:\tlearn: 0.3680686\ttotal: 36.1ms\tremaining: 1.41s\n",
      "5:\tlearn: 0.3375173\ttotal: 43.4ms\tremaining: 1.4s\n",
      "6:\tlearn: 0.3086747\ttotal: 49.9ms\tremaining: 1.38s\n",
      "7:\tlearn: 0.2860756\ttotal: 63ms\tremaining: 1.51s\n",
      "8:\tlearn: 0.2685416\ttotal: 72.3ms\tremaining: 1.53s\n",
      "9:\tlearn: 0.2489026\ttotal: 83.3ms\tremaining: 1.58s\n",
      "10:\tlearn: 0.2320233\ttotal: 95.2ms\tremaining: 1.64s\n",
      "11:\tlearn: 0.2226509\ttotal: 102ms\tremaining: 1.6s\n",
      "12:\tlearn: 0.2135469\ttotal: 109ms\tremaining: 1.57s\n",
      "13:\tlearn: 0.1992477\ttotal: 117ms\tremaining: 1.55s\n",
      "14:\tlearn: 0.1924340\ttotal: 125ms\tremaining: 1.54s\n",
      "15:\tlearn: 0.1841781\ttotal: 133ms\tremaining: 1.53s\n",
      "16:\tlearn: 0.1787920\ttotal: 140ms\tremaining: 1.5s\n",
      "17:\tlearn: 0.1725615\ttotal: 147ms\tremaining: 1.49s\n",
      "18:\tlearn: 0.1659796\ttotal: 155ms\tremaining: 1.48s\n",
      "19:\tlearn: 0.1590274\ttotal: 162ms\tremaining: 1.46s\n",
      "20:\tlearn: 0.1532813\ttotal: 170ms\tremaining: 1.45s\n",
      "21:\tlearn: 0.1496704\ttotal: 177ms\tremaining: 1.43s\n",
      "22:\tlearn: 0.1437706\ttotal: 185ms\tremaining: 1.42s\n",
      "23:\tlearn: 0.1395673\ttotal: 201ms\tremaining: 1.47s\n",
      "24:\tlearn: 0.1373172\ttotal: 208ms\tremaining: 1.45s\n",
      "25:\tlearn: 0.1323780\ttotal: 217ms\tremaining: 1.45s\n",
      "26:\tlearn: 0.1291979\ttotal: 224ms\tremaining: 1.44s\n",
      "27:\tlearn: 0.1249044\ttotal: 237ms\tremaining: 1.46s\n",
      "28:\tlearn: 0.1211214\ttotal: 245ms\tremaining: 1.45s\n",
      "29:\tlearn: 0.1174073\ttotal: 252ms\tremaining: 1.43s\n",
      "30:\tlearn: 0.1145400\ttotal: 260ms\tremaining: 1.42s\n",
      "31:\tlearn: 0.1114648\ttotal: 269ms\tremaining: 1.41s\n",
      "32:\tlearn: 0.1092840\ttotal: 276ms\tremaining: 1.4s\n",
      "33:\tlearn: 0.1061153\ttotal: 283ms\tremaining: 1.38s\n",
      "34:\tlearn: 0.1043543\ttotal: 290ms\tremaining: 1.37s\n",
      "35:\tlearn: 0.1021227\ttotal: 297ms\tremaining: 1.35s\n",
      "36:\tlearn: 0.0991692\ttotal: 306ms\tremaining: 1.35s\n",
      "37:\tlearn: 0.0966411\ttotal: 314ms\tremaining: 1.34s\n",
      "38:\tlearn: 0.0945218\ttotal: 322ms\tremaining: 1.33s\n",
      "39:\tlearn: 0.0922406\ttotal: 330ms\tremaining: 1.32s\n",
      "40:\tlearn: 0.0888781\ttotal: 338ms\tremaining: 1.31s\n",
      "41:\tlearn: 0.0878015\ttotal: 346ms\tremaining: 1.3s\n",
      "42:\tlearn: 0.0869917\ttotal: 355ms\tremaining: 1.29s\n",
      "43:\tlearn: 0.0848070\ttotal: 373ms\tremaining: 1.32s\n",
      "44:\tlearn: 0.0831955\ttotal: 386ms\tremaining: 1.33s\n",
      "45:\tlearn: 0.0813696\ttotal: 399ms\tremaining: 1.34s\n",
      "46:\tlearn: 0.0802074\ttotal: 407ms\tremaining: 1.32s\n",
      "47:\tlearn: 0.0782182\ttotal: 448ms\tremaining: 1.42s\n",
      "48:\tlearn: 0.0768788\ttotal: 476ms\tremaining: 1.47s\n",
      "49:\tlearn: 0.0761181\ttotal: 485ms\tremaining: 1.46s\n",
      "50:\tlearn: 0.0733127\ttotal: 506ms\tremaining: 1.48s\n",
      "51:\tlearn: 0.0718201\ttotal: 515ms\tremaining: 1.47s\n",
      "52:\tlearn: 0.0705705\ttotal: 523ms\tremaining: 1.45s\n",
      "53:\tlearn: 0.0690354\ttotal: 533ms\tremaining: 1.44s\n",
      "54:\tlearn: 0.0680587\ttotal: 545ms\tremaining: 1.44s\n",
      "55:\tlearn: 0.0668883\ttotal: 574ms\tremaining: 1.48s\n",
      "56:\tlearn: 0.0649205\ttotal: 583ms\tremaining: 1.46s\n",
      "57:\tlearn: 0.0629330\ttotal: 592ms\tremaining: 1.45s\n",
      "58:\tlearn: 0.0610523\ttotal: 602ms\tremaining: 1.44s\n",
      "59:\tlearn: 0.0603731\ttotal: 611ms\tremaining: 1.43s\n",
      "60:\tlearn: 0.0593239\ttotal: 618ms\tremaining: 1.41s\n",
      "61:\tlearn: 0.0570999\ttotal: 627ms\tremaining: 1.39s\n",
      "62:\tlearn: 0.0558777\ttotal: 640ms\tremaining: 1.39s\n",
      "63:\tlearn: 0.0544272\ttotal: 649ms\tremaining: 1.38s\n",
      "64:\tlearn: 0.0524911\ttotal: 658ms\tremaining: 1.36s\n",
      "65:\tlearn: 0.0512139\ttotal: 666ms\tremaining: 1.35s\n",
      "66:\tlearn: 0.0500789\ttotal: 681ms\tremaining: 1.35s\n",
      "67:\tlearn: 0.0490855\ttotal: 690ms\tremaining: 1.34s\n",
      "68:\tlearn: 0.0483782\ttotal: 702ms\tremaining: 1.33s\n",
      "69:\tlearn: 0.0471444\ttotal: 711ms\tremaining: 1.32s\n",
      "70:\tlearn: 0.0465359\ttotal: 726ms\tremaining: 1.32s\n",
      "71:\tlearn: 0.0455129\ttotal: 737ms\tremaining: 1.31s\n",
      "72:\tlearn: 0.0439496\ttotal: 756ms\tremaining: 1.31s\n",
      "73:\tlearn: 0.0424645\ttotal: 766ms\tremaining: 1.3s\n",
      "74:\tlearn: 0.0420351\ttotal: 774ms\tremaining: 1.29s\n",
      "75:\tlearn: 0.0410086\ttotal: 784ms\tremaining: 1.28s\n",
      "76:\tlearn: 0.0394304\ttotal: 819ms\tremaining: 1.31s\n",
      "77:\tlearn: 0.0380622\ttotal: 828ms\tremaining: 1.29s\n",
      "78:\tlearn: 0.0367412\ttotal: 852ms\tremaining: 1.3s\n",
      "79:\tlearn: 0.0357804\ttotal: 873ms\tremaining: 1.31s\n",
      "80:\tlearn: 0.0345249\ttotal: 890ms\tremaining: 1.31s\n",
      "81:\tlearn: 0.0336162\ttotal: 908ms\tremaining: 1.31s\n",
      "82:\tlearn: 0.0326371\ttotal: 923ms\tremaining: 1.3s\n",
      "83:\tlearn: 0.0318485\ttotal: 949ms\tremaining: 1.31s\n",
      "84:\tlearn: 0.0311545\ttotal: 958ms\tremaining: 1.29s\n",
      "85:\tlearn: 0.0302100\ttotal: 966ms\tremaining: 1.28s\n",
      "86:\tlearn: 0.0296225\ttotal: 978ms\tremaining: 1.27s\n",
      "87:\tlearn: 0.0289744\ttotal: 1s\tremaining: 1.27s\n",
      "88:\tlearn: 0.0285187\ttotal: 1.02s\tremaining: 1.28s\n",
      "89:\tlearn: 0.0275773\ttotal: 1.03s\tremaining: 1.26s\n",
      "90:\tlearn: 0.0268356\ttotal: 1.04s\tremaining: 1.25s\n",
      "91:\tlearn: 0.0263468\ttotal: 1.06s\tremaining: 1.24s\n",
      "92:\tlearn: 0.0261037\ttotal: 1.08s\tremaining: 1.25s\n",
      "93:\tlearn: 0.0254139\ttotal: 1.12s\tremaining: 1.26s\n",
      "94:\tlearn: 0.0246392\ttotal: 1.14s\tremaining: 1.25s\n",
      "95:\tlearn: 0.0242083\ttotal: 1.14s\tremaining: 1.24s\n",
      "96:\tlearn: 0.0235612\ttotal: 1.15s\tremaining: 1.22s\n",
      "97:\tlearn: 0.0232613\ttotal: 1.16s\tremaining: 1.21s\n",
      "98:\tlearn: 0.0226641\ttotal: 1.17s\tremaining: 1.19s\n",
      "99:\tlearn: 0.0222075\ttotal: 1.18s\tremaining: 1.18s\n",
      "100:\tlearn: 0.0217107\ttotal: 1.19s\tremaining: 1.16s\n",
      "101:\tlearn: 0.0211992\ttotal: 1.2s\tremaining: 1.15s\n",
      "102:\tlearn: 0.0208139\ttotal: 1.2s\tremaining: 1.13s\n",
      "103:\tlearn: 0.0202291\ttotal: 1.21s\tremaining: 1.12s\n",
      "104:\tlearn: 0.0200640\ttotal: 1.22s\tremaining: 1.1s\n",
      "105:\tlearn: 0.0195427\ttotal: 1.23s\tremaining: 1.09s\n",
      "106:\tlearn: 0.0190324\ttotal: 1.24s\tremaining: 1.08s\n",
      "107:\tlearn: 0.0188176\ttotal: 1.25s\tremaining: 1.06s\n",
      "108:\tlearn: 0.0185504\ttotal: 1.25s\tremaining: 1.05s\n",
      "109:\tlearn: 0.0179376\ttotal: 1.26s\tremaining: 1.03s\n",
      "110:\tlearn: 0.0174164\ttotal: 1.28s\tremaining: 1.02s\n",
      "111:\tlearn: 0.0169585\ttotal: 1.28s\tremaining: 1.01s\n",
      "112:\tlearn: 0.0166315\ttotal: 1.29s\tremaining: 995ms\n",
      "113:\tlearn: 0.0162625\ttotal: 1.3s\tremaining: 980ms\n",
      "114:\tlearn: 0.0158924\ttotal: 1.31s\tremaining: 971ms\n",
      "115:\tlearn: 0.0155215\ttotal: 1.32s\tremaining: 958ms\n",
      "116:\tlearn: 0.0152493\ttotal: 1.33s\tremaining: 946ms\n",
      "117:\tlearn: 0.0148454\ttotal: 1.34s\tremaining: 932ms\n",
      "118:\tlearn: 0.0145551\ttotal: 1.36s\tremaining: 925ms\n",
      "119:\tlearn: 0.0142947\ttotal: 1.36s\tremaining: 910ms\n",
      "120:\tlearn: 0.0140549\ttotal: 1.37s\tremaining: 897ms\n",
      "121:\tlearn: 0.0137906\ttotal: 1.38s\tremaining: 884ms\n",
      "122:\tlearn: 0.0136983\ttotal: 1.4s\tremaining: 878ms\n",
      "123:\tlearn: 0.0133480\ttotal: 1.41s\tremaining: 865ms\n",
      "124:\tlearn: 0.0131045\ttotal: 1.42s\tremaining: 851ms\n",
      "125:\tlearn: 0.0128671\ttotal: 1.43s\tremaining: 839ms\n",
      "126:\tlearn: 0.0126757\ttotal: 1.45s\tremaining: 831ms\n",
      "127:\tlearn: 0.0125501\ttotal: 1.45s\tremaining: 818ms\n",
      "128:\tlearn: 0.0124334\ttotal: 1.46s\tremaining: 805ms\n",
      "129:\tlearn: 0.0122568\ttotal: 1.47s\tremaining: 792ms\n",
      "130:\tlearn: 0.0120913\ttotal: 1.48s\tremaining: 781ms\n",
      "131:\tlearn: 0.0118971\ttotal: 1.49s\tremaining: 768ms\n",
      "132:\tlearn: 0.0118150\ttotal: 1.5s\tremaining: 755ms\n",
      "133:\tlearn: 0.0116606\ttotal: 1.51s\tremaining: 742ms\n",
      "134:\tlearn: 0.0115145\ttotal: 1.51s\tremaining: 729ms\n",
      "135:\tlearn: 0.0113925\ttotal: 1.52s\tremaining: 717ms\n",
      "136:\tlearn: 0.0111480\ttotal: 1.53s\tremaining: 704ms\n",
      "137:\tlearn: 0.0110140\ttotal: 1.54s\tremaining: 693ms\n",
      "138:\tlearn: 0.0108797\ttotal: 1.55s\tremaining: 680ms\n",
      "139:\tlearn: 0.0107423\ttotal: 1.56s\tremaining: 668ms\n",
      "140:\tlearn: 0.0105061\ttotal: 1.56s\tremaining: 655ms\n",
      "141:\tlearn: 0.0103465\ttotal: 1.57s\tremaining: 643ms\n",
      "142:\tlearn: 0.0101261\ttotal: 1.58s\tremaining: 631ms\n",
      "143:\tlearn: 0.0100201\ttotal: 1.59s\tremaining: 618ms\n",
      "144:\tlearn: 0.0099809\ttotal: 1.6s\tremaining: 606ms\n",
      "145:\tlearn: 0.0098338\ttotal: 1.6s\tremaining: 594ms\n",
      "146:\tlearn: 0.0097162\ttotal: 1.61s\tremaining: 582ms\n",
      "147:\tlearn: 0.0095672\ttotal: 1.62s\tremaining: 570ms\n",
      "148:\tlearn: 0.0094348\ttotal: 1.63s\tremaining: 558ms\n",
      "149:\tlearn: 0.0092687\ttotal: 1.64s\tremaining: 548ms\n",
      "150:\tlearn: 0.0091658\ttotal: 1.65s\tremaining: 536ms\n",
      "151:\tlearn: 0.0090279\ttotal: 1.66s\tremaining: 524ms\n",
      "152:\tlearn: 0.0089430\ttotal: 1.67s\tremaining: 512ms\n",
      "153:\tlearn: 0.0087631\ttotal: 1.68s\tremaining: 501ms\n",
      "154:\tlearn: 0.0086846\ttotal: 1.69s\tremaining: 489ms\n",
      "155:\tlearn: 0.0086485\ttotal: 1.69s\tremaining: 478ms\n",
      "156:\tlearn: 0.0085059\ttotal: 1.7s\tremaining: 466ms\n",
      "157:\tlearn: 0.0083937\ttotal: 1.71s\tremaining: 454ms\n",
      "158:\tlearn: 0.0082954\ttotal: 1.72s\tremaining: 442ms\n",
      "159:\tlearn: 0.0082372\ttotal: 1.72s\tremaining: 431ms\n",
      "160:\tlearn: 0.0081704\ttotal: 1.73s\tremaining: 419ms\n",
      "161:\tlearn: 0.0080877\ttotal: 1.74s\tremaining: 408ms\n",
      "162:\tlearn: 0.0080057\ttotal: 1.75s\tremaining: 397ms\n",
      "163:\tlearn: 0.0079555\ttotal: 1.78s\tremaining: 392ms\n",
      "164:\tlearn: 0.0079132\ttotal: 1.81s\tremaining: 383ms\n",
      "165:\tlearn: 0.0078708\ttotal: 1.84s\tremaining: 377ms\n",
      "166:\tlearn: 0.0077424\ttotal: 1.86s\tremaining: 367ms\n",
      "167:\tlearn: 0.0076369\ttotal: 1.87s\tremaining: 356ms\n",
      "168:\tlearn: 0.0075039\ttotal: 1.87s\tremaining: 344ms\n",
      "169:\tlearn: 0.0073864\ttotal: 1.88s\tremaining: 333ms\n",
      "170:\tlearn: 0.0073226\ttotal: 1.89s\tremaining: 321ms\n",
      "171:\tlearn: 0.0072867\ttotal: 1.91s\tremaining: 310ms\n",
      "172:\tlearn: 0.0071893\ttotal: 1.91s\tremaining: 299ms\n",
      "173:\tlearn: 0.0071643\ttotal: 1.92s\tremaining: 287ms\n",
      "174:\tlearn: 0.0071262\ttotal: 1.93s\tremaining: 276ms\n",
      "175:\tlearn: 0.0070827\ttotal: 1.94s\tremaining: 264ms\n",
      "176:\tlearn: 0.0070146\ttotal: 1.94s\tremaining: 253ms\n",
      "177:\tlearn: 0.0069341\ttotal: 1.95s\tremaining: 241ms\n",
      "178:\tlearn: 0.0068191\ttotal: 1.96s\tremaining: 230ms\n",
      "179:\tlearn: 0.0067321\ttotal: 1.97s\tremaining: 219ms\n",
      "180:\tlearn: 0.0066510\ttotal: 1.97s\tremaining: 207ms\n",
      "181:\tlearn: 0.0065284\ttotal: 1.99s\tremaining: 197ms\n",
      "182:\tlearn: 0.0064612\ttotal: 2s\tremaining: 186ms\n",
      "183:\tlearn: 0.0063594\ttotal: 2s\tremaining: 174ms\n",
      "184:\tlearn: 0.0062938\ttotal: 2.01s\tremaining: 163ms\n",
      "185:\tlearn: 0.0062285\ttotal: 2.02s\tremaining: 152ms\n",
      "186:\tlearn: 0.0061458\ttotal: 2.03s\tremaining: 141ms\n",
      "187:\tlearn: 0.0061302\ttotal: 2.04s\tremaining: 130ms\n",
      "188:\tlearn: 0.0060423\ttotal: 2.05s\tremaining: 119ms\n",
      "189:\tlearn: 0.0059919\ttotal: 2.05s\tremaining: 108ms\n",
      "190:\tlearn: 0.0059557\ttotal: 2.06s\tremaining: 97.1ms\n",
      "191:\tlearn: 0.0058649\ttotal: 2.07s\tremaining: 86.2ms\n",
      "192:\tlearn: 0.0057772\ttotal: 2.08s\tremaining: 75.3ms\n",
      "193:\tlearn: 0.0057265\ttotal: 2.08s\tremaining: 64.5ms\n",
      "194:\tlearn: 0.0056956\ttotal: 2.09s\tremaining: 53.7ms\n",
      "195:\tlearn: 0.0056403\ttotal: 2.1s\tremaining: 42.9ms\n",
      "196:\tlearn: 0.0056250\ttotal: 2.11s\tremaining: 32.1ms\n",
      "197:\tlearn: 0.0055801\ttotal: 2.12s\tremaining: 21.4ms\n",
      "198:\tlearn: 0.0054778\ttotal: 2.12s\tremaining: 10.7ms\n",
      "199:\tlearn: 0.0053965\ttotal: 2.13s\tremaining: 0us\n"
     ]
    },
    {
     "data": {
      "text/plain": [
       "GridSearchCV(cv=10, error_score='raise-deprecating',\n",
       "             estimator=<catboost.core.CatBoostClassifier object at 0x00000249EB8703C8>,\n",
       "             iid='warn', n_jobs=-1,\n",
       "             param_grid={'depth': [5, 10], 'grow_policy': ['Lossguide'],\n",
       "                         'iterations': [200, 300],\n",
       "                         'learning_rate': [0.001, 0.01, 0.1]},\n",
       "             pre_dispatch='2*n_jobs', refit=True, return_train_score=False,\n",
       "             scoring=None, verbose=2)"
      ]
     },
     "execution_count": 100,
     "metadata": {},
     "output_type": "execute_result"
    }
   ],
   "source": [
    "cat_params={\"learning_rate\": [0.001,0.01,0.1],\n",
    "           \"iterations\":[200,300],\n",
    "           \"depth\":[5,10],\n",
    "           \"grow_policy\":[\"Lossguide\"],\n",
    "           \n",
    "           }\n",
    "cat_m=CatBoostClassifier()\n",
    "\n",
    "cat_cv_model=GridSearchCV(cat,cat_params,cv=10,n_jobs=-1,verbose=2)\n",
    "cat_cv_model.fit(X_train,y_train)"
   ]
  },
  {
   "cell_type": "code",
   "execution_count": 101,
   "metadata": {},
   "outputs": [
    {
     "name": "stdout",
     "output_type": "stream",
     "text": [
      "En iyi parametreler:{'depth': 10, 'grow_policy': 'Lossguide', 'iterations': 200, 'learning_rate': 0.1}\n"
     ]
    }
   ],
   "source": [
    "print(\"En iyi parametreler:\" + str(cat_cv_model.best_params_))"
   ]
  },
  {
   "cell_type": "code",
   "execution_count": 74,
   "metadata": {},
   "outputs": [
    {
     "name": "stdout",
     "output_type": "stream",
     "text": [
      "0:\tlearn: 0.5894295\ttotal: 57.2ms\tremaining: 11.4s\n",
      "1:\tlearn: 0.5203904\ttotal: 62.8ms\tremaining: 6.22s\n",
      "2:\tlearn: 0.4539324\ttotal: 69ms\tremaining: 4.53s\n",
      "3:\tlearn: 0.4037434\ttotal: 75.3ms\tremaining: 3.69s\n",
      "4:\tlearn: 0.3639042\ttotal: 81.3ms\tremaining: 3.17s\n",
      "5:\tlearn: 0.3354228\ttotal: 86.8ms\tremaining: 2.81s\n",
      "6:\tlearn: 0.3032962\ttotal: 94.6ms\tremaining: 2.61s\n",
      "7:\tlearn: 0.2769662\ttotal: 101ms\tremaining: 2.42s\n",
      "8:\tlearn: 0.2584855\ttotal: 110ms\tremaining: 2.34s\n",
      "9:\tlearn: 0.2451999\ttotal: 118ms\tremaining: 2.23s\n",
      "10:\tlearn: 0.2323635\ttotal: 126ms\tremaining: 2.16s\n",
      "11:\tlearn: 0.2224129\ttotal: 135ms\tremaining: 2.12s\n",
      "12:\tlearn: 0.2112801\ttotal: 147ms\tremaining: 2.11s\n",
      "13:\tlearn: 0.2047314\ttotal: 156ms\tremaining: 2.07s\n",
      "14:\tlearn: 0.1961849\ttotal: 162ms\tremaining: 2s\n",
      "15:\tlearn: 0.1886937\ttotal: 170ms\tremaining: 1.95s\n",
      "16:\tlearn: 0.1803083\ttotal: 177ms\tremaining: 1.9s\n",
      "17:\tlearn: 0.1728333\ttotal: 184ms\tremaining: 1.86s\n",
      "18:\tlearn: 0.1674309\ttotal: 192ms\tremaining: 1.82s\n",
      "19:\tlearn: 0.1660197\ttotal: 198ms\tremaining: 1.78s\n",
      "20:\tlearn: 0.1614619\ttotal: 207ms\tremaining: 1.77s\n",
      "21:\tlearn: 0.1555354\ttotal: 216ms\tremaining: 1.75s\n",
      "22:\tlearn: 0.1511087\ttotal: 224ms\tremaining: 1.72s\n",
      "23:\tlearn: 0.1471477\ttotal: 231ms\tremaining: 1.69s\n",
      "24:\tlearn: 0.1430683\ttotal: 240ms\tremaining: 1.68s\n",
      "25:\tlearn: 0.1389307\ttotal: 247ms\tremaining: 1.66s\n",
      "26:\tlearn: 0.1356371\ttotal: 256ms\tremaining: 1.64s\n",
      "27:\tlearn: 0.1308719\ttotal: 264ms\tremaining: 1.62s\n",
      "28:\tlearn: 0.1270874\ttotal: 273ms\tremaining: 1.61s\n",
      "29:\tlearn: 0.1226338\ttotal: 281ms\tremaining: 1.59s\n",
      "30:\tlearn: 0.1202678\ttotal: 289ms\tremaining: 1.58s\n",
      "31:\tlearn: 0.1160180\ttotal: 297ms\tremaining: 1.56s\n",
      "32:\tlearn: 0.1135131\ttotal: 304ms\tremaining: 1.54s\n",
      "33:\tlearn: 0.1102628\ttotal: 311ms\tremaining: 1.52s\n",
      "34:\tlearn: 0.1068302\ttotal: 318ms\tremaining: 1.5s\n",
      "35:\tlearn: 0.1038347\ttotal: 325ms\tremaining: 1.48s\n",
      "36:\tlearn: 0.1002604\ttotal: 332ms\tremaining: 1.46s\n",
      "37:\tlearn: 0.0980826\ttotal: 339ms\tremaining: 1.44s\n",
      "38:\tlearn: 0.0960759\ttotal: 346ms\tremaining: 1.43s\n",
      "39:\tlearn: 0.0926621\ttotal: 352ms\tremaining: 1.41s\n",
      "40:\tlearn: 0.0910057\ttotal: 359ms\tremaining: 1.39s\n",
      "41:\tlearn: 0.0901504\ttotal: 365ms\tremaining: 1.37s\n",
      "42:\tlearn: 0.0879579\ttotal: 372ms\tremaining: 1.36s\n",
      "43:\tlearn: 0.0855365\ttotal: 378ms\tremaining: 1.34s\n",
      "44:\tlearn: 0.0842051\ttotal: 385ms\tremaining: 1.33s\n",
      "45:\tlearn: 0.0820702\ttotal: 392ms\tremaining: 1.31s\n",
      "46:\tlearn: 0.0789499\ttotal: 401ms\tremaining: 1.3s\n",
      "47:\tlearn: 0.0763284\ttotal: 408ms\tremaining: 1.29s\n",
      "48:\tlearn: 0.0750941\ttotal: 414ms\tremaining: 1.27s\n",
      "49:\tlearn: 0.0740894\ttotal: 420ms\tremaining: 1.26s\n",
      "50:\tlearn: 0.0732129\ttotal: 429ms\tremaining: 1.25s\n",
      "51:\tlearn: 0.0722747\ttotal: 435ms\tremaining: 1.24s\n",
      "52:\tlearn: 0.0711456\ttotal: 443ms\tremaining: 1.23s\n",
      "53:\tlearn: 0.0689831\ttotal: 451ms\tremaining: 1.22s\n",
      "54:\tlearn: 0.0680545\ttotal: 457ms\tremaining: 1.2s\n",
      "55:\tlearn: 0.0663158\ttotal: 468ms\tremaining: 1.2s\n",
      "56:\tlearn: 0.0642261\ttotal: 475ms\tremaining: 1.19s\n",
      "57:\tlearn: 0.0633283\ttotal: 483ms\tremaining: 1.18s\n",
      "58:\tlearn: 0.0615462\ttotal: 490ms\tremaining: 1.17s\n",
      "59:\tlearn: 0.0598652\ttotal: 498ms\tremaining: 1.16s\n",
      "60:\tlearn: 0.0576698\ttotal: 506ms\tremaining: 1.15s\n",
      "61:\tlearn: 0.0560521\ttotal: 515ms\tremaining: 1.15s\n",
      "62:\tlearn: 0.0546344\ttotal: 522ms\tremaining: 1.14s\n",
      "63:\tlearn: 0.0531357\ttotal: 530ms\tremaining: 1.13s\n",
      "64:\tlearn: 0.0512027\ttotal: 538ms\tremaining: 1.12s\n",
      "65:\tlearn: 0.0504780\ttotal: 545ms\tremaining: 1.11s\n",
      "66:\tlearn: 0.0485480\ttotal: 553ms\tremaining: 1.1s\n",
      "67:\tlearn: 0.0473297\ttotal: 560ms\tremaining: 1.09s\n",
      "68:\tlearn: 0.0460900\ttotal: 568ms\tremaining: 1.08s\n",
      "69:\tlearn: 0.0448309\ttotal: 575ms\tremaining: 1.07s\n",
      "70:\tlearn: 0.0436397\ttotal: 584ms\tremaining: 1.06s\n",
      "71:\tlearn: 0.0421980\ttotal: 590ms\tremaining: 1.05s\n",
      "72:\tlearn: 0.0408670\ttotal: 599ms\tremaining: 1.04s\n",
      "73:\tlearn: 0.0399184\ttotal: 608ms\tremaining: 1.03s\n",
      "74:\tlearn: 0.0391899\ttotal: 616ms\tremaining: 1.03s\n",
      "75:\tlearn: 0.0385317\ttotal: 626ms\tremaining: 1.02s\n",
      "76:\tlearn: 0.0373734\ttotal: 634ms\tremaining: 1.01s\n",
      "77:\tlearn: 0.0362084\ttotal: 642ms\tremaining: 1s\n",
      "78:\tlearn: 0.0350115\ttotal: 650ms\tremaining: 996ms\n",
      "79:\tlearn: 0.0340570\ttotal: 659ms\tremaining: 988ms\n",
      "80:\tlearn: 0.0330575\ttotal: 666ms\tremaining: 979ms\n",
      "81:\tlearn: 0.0319835\ttotal: 675ms\tremaining: 971ms\n",
      "82:\tlearn: 0.0307430\ttotal: 683ms\tremaining: 962ms\n",
      "83:\tlearn: 0.0298602\ttotal: 691ms\tremaining: 955ms\n",
      "84:\tlearn: 0.0291449\ttotal: 712ms\tremaining: 964ms\n",
      "85:\tlearn: 0.0284958\ttotal: 722ms\tremaining: 957ms\n",
      "86:\tlearn: 0.0278807\ttotal: 731ms\tremaining: 950ms\n",
      "87:\tlearn: 0.0267300\ttotal: 744ms\tremaining: 947ms\n",
      "88:\tlearn: 0.0258862\ttotal: 752ms\tremaining: 938ms\n",
      "89:\tlearn: 0.0253275\ttotal: 759ms\tremaining: 928ms\n",
      "90:\tlearn: 0.0247214\ttotal: 767ms\tremaining: 919ms\n",
      "91:\tlearn: 0.0241587\ttotal: 775ms\tremaining: 910ms\n",
      "92:\tlearn: 0.0235143\ttotal: 783ms\tremaining: 900ms\n",
      "93:\tlearn: 0.0227268\ttotal: 790ms\tremaining: 891ms\n",
      "94:\tlearn: 0.0221465\ttotal: 798ms\tremaining: 882ms\n",
      "95:\tlearn: 0.0216905\ttotal: 808ms\tremaining: 875ms\n",
      "96:\tlearn: 0.0212834\ttotal: 816ms\tremaining: 867ms\n",
      "97:\tlearn: 0.0209250\ttotal: 824ms\tremaining: 858ms\n",
      "98:\tlearn: 0.0203822\ttotal: 833ms\tremaining: 850ms\n",
      "99:\tlearn: 0.0198006\ttotal: 847ms\tremaining: 847ms\n",
      "100:\tlearn: 0.0192312\ttotal: 870ms\tremaining: 853ms\n",
      "101:\tlearn: 0.0188408\ttotal: 878ms\tremaining: 844ms\n",
      "102:\tlearn: 0.0184421\ttotal: 887ms\tremaining: 835ms\n",
      "103:\tlearn: 0.0180261\ttotal: 898ms\tremaining: 829ms\n",
      "104:\tlearn: 0.0176164\ttotal: 905ms\tremaining: 819ms\n",
      "105:\tlearn: 0.0172678\ttotal: 912ms\tremaining: 809ms\n",
      "106:\tlearn: 0.0168627\ttotal: 920ms\tremaining: 800ms\n",
      "107:\tlearn: 0.0164581\ttotal: 929ms\tremaining: 792ms\n",
      "108:\tlearn: 0.0160733\ttotal: 936ms\tremaining: 782ms\n",
      "109:\tlearn: 0.0157597\ttotal: 944ms\tremaining: 772ms\n",
      "110:\tlearn: 0.0155128\ttotal: 952ms\tremaining: 763ms\n",
      "111:\tlearn: 0.0151830\ttotal: 959ms\tremaining: 753ms\n",
      "112:\tlearn: 0.0148752\ttotal: 967ms\tremaining: 744ms\n",
      "113:\tlearn: 0.0145637\ttotal: 975ms\tremaining: 736ms\n",
      "114:\tlearn: 0.0143425\ttotal: 984ms\tremaining: 727ms\n",
      "115:\tlearn: 0.0140228\ttotal: 993ms\tremaining: 719ms\n",
      "116:\tlearn: 0.0138350\ttotal: 1s\tremaining: 710ms\n",
      "117:\tlearn: 0.0136296\ttotal: 1.01s\tremaining: 701ms\n",
      "118:\tlearn: 0.0133514\ttotal: 1.01s\tremaining: 691ms\n",
      "119:\tlearn: 0.0130419\ttotal: 1.02s\tremaining: 682ms\n",
      "120:\tlearn: 0.0126470\ttotal: 1.03s\tremaining: 673ms\n",
      "121:\tlearn: 0.0124650\ttotal: 1.04s\tremaining: 664ms\n",
      "122:\tlearn: 0.0122978\ttotal: 1.05s\tremaining: 655ms\n",
      "123:\tlearn: 0.0120282\ttotal: 1.06s\tremaining: 649ms\n",
      "124:\tlearn: 0.0118571\ttotal: 1.07s\tremaining: 641ms\n",
      "125:\tlearn: 0.0117422\ttotal: 1.08s\tremaining: 632ms\n",
      "126:\tlearn: 0.0116066\ttotal: 1.08s\tremaining: 623ms\n",
      "127:\tlearn: 0.0113955\ttotal: 1.09s\tremaining: 616ms\n",
      "128:\tlearn: 0.0112166\ttotal: 1.1s\tremaining: 608ms\n",
      "129:\tlearn: 0.0110349\ttotal: 1.11s\tremaining: 600ms\n",
      "130:\tlearn: 0.0109227\ttotal: 1.12s\tremaining: 591ms\n",
      "131:\tlearn: 0.0108251\ttotal: 1.14s\tremaining: 585ms\n",
      "132:\tlearn: 0.0106464\ttotal: 1.14s\tremaining: 576ms\n",
      "133:\tlearn: 0.0104690\ttotal: 1.15s\tremaining: 568ms\n",
      "134:\tlearn: 0.0102714\ttotal: 1.16s\tremaining: 559ms\n",
      "135:\tlearn: 0.0101132\ttotal: 1.17s\tremaining: 551ms\n",
      "136:\tlearn: 0.0099624\ttotal: 1.18s\tremaining: 542ms\n",
      "137:\tlearn: 0.0099148\ttotal: 1.19s\tremaining: 533ms\n",
      "138:\tlearn: 0.0097967\ttotal: 1.19s\tremaining: 524ms\n",
      "139:\tlearn: 0.0096908\ttotal: 1.2s\tremaining: 516ms\n",
      "140:\tlearn: 0.0095412\ttotal: 1.21s\tremaining: 508ms\n",
      "141:\tlearn: 0.0094896\ttotal: 1.22s\tremaining: 499ms\n",
      "142:\tlearn: 0.0094508\ttotal: 1.23s\tremaining: 490ms\n",
      "143:\tlearn: 0.0093258\ttotal: 1.24s\tremaining: 483ms\n",
      "144:\tlearn: 0.0091762\ttotal: 1.25s\tremaining: 474ms\n",
      "145:\tlearn: 0.0090460\ttotal: 1.26s\tremaining: 465ms\n",
      "146:\tlearn: 0.0089334\ttotal: 1.27s\tremaining: 457ms\n",
      "147:\tlearn: 0.0087879\ttotal: 1.28s\tremaining: 449ms\n",
      "148:\tlearn: 0.0087247\ttotal: 1.29s\tremaining: 440ms\n",
      "149:\tlearn: 0.0085777\ttotal: 1.29s\tremaining: 431ms\n",
      "150:\tlearn: 0.0084756\ttotal: 1.3s\tremaining: 422ms\n",
      "151:\tlearn: 0.0084157\ttotal: 1.31s\tremaining: 415ms\n",
      "152:\tlearn: 0.0083037\ttotal: 1.32s\tremaining: 406ms\n",
      "153:\tlearn: 0.0081641\ttotal: 1.33s\tremaining: 398ms\n",
      "154:\tlearn: 0.0080592\ttotal: 1.34s\tremaining: 390ms\n",
      "155:\tlearn: 0.0079586\ttotal: 1.35s\tremaining: 381ms\n",
      "156:\tlearn: 0.0078483\ttotal: 1.36s\tremaining: 372ms\n",
      "157:\tlearn: 0.0077477\ttotal: 1.37s\tremaining: 364ms\n",
      "158:\tlearn: 0.0076096\ttotal: 1.38s\tremaining: 355ms\n",
      "159:\tlearn: 0.0075257\ttotal: 1.38s\tremaining: 346ms\n",
      "160:\tlearn: 0.0074617\ttotal: 1.39s\tremaining: 337ms\n",
      "161:\tlearn: 0.0073822\ttotal: 1.4s\tremaining: 328ms\n",
      "162:\tlearn: 0.0072466\ttotal: 1.41s\tremaining: 319ms\n",
      "163:\tlearn: 0.0071927\ttotal: 1.41s\tremaining: 310ms\n",
      "164:\tlearn: 0.0070979\ttotal: 1.42s\tremaining: 301ms\n",
      "165:\tlearn: 0.0070213\ttotal: 1.43s\tremaining: 292ms\n",
      "166:\tlearn: 0.0069807\ttotal: 1.44s\tremaining: 284ms\n",
      "167:\tlearn: 0.0069267\ttotal: 1.45s\tremaining: 276ms\n",
      "168:\tlearn: 0.0068367\ttotal: 1.46s\tremaining: 267ms\n",
      "169:\tlearn: 0.0067540\ttotal: 1.47s\tremaining: 259ms\n",
      "170:\tlearn: 0.0067272\ttotal: 1.47s\tremaining: 250ms\n",
      "171:\tlearn: 0.0066616\ttotal: 1.48s\tremaining: 241ms\n",
      "172:\tlearn: 0.0065974\ttotal: 1.49s\tremaining: 232ms\n",
      "173:\tlearn: 0.0065315\ttotal: 1.5s\tremaining: 224ms\n",
      "174:\tlearn: 0.0064756\ttotal: 1.51s\tremaining: 216ms\n",
      "175:\tlearn: 0.0064571\ttotal: 1.52s\tremaining: 207ms\n",
      "176:\tlearn: 0.0064244\ttotal: 1.53s\tremaining: 198ms\n",
      "177:\tlearn: 0.0063922\ttotal: 1.54s\tremaining: 190ms\n",
      "178:\tlearn: 0.0063484\ttotal: 1.55s\tremaining: 181ms\n",
      "179:\tlearn: 0.0063205\ttotal: 1.55s\tremaining: 173ms\n",
      "180:\tlearn: 0.0062830\ttotal: 1.56s\tremaining: 164ms\n",
      "181:\tlearn: 0.0062253\ttotal: 1.57s\tremaining: 155ms\n",
      "182:\tlearn: 0.0062008\ttotal: 1.58s\tremaining: 147ms\n",
      "183:\tlearn: 0.0061428\ttotal: 1.58s\tremaining: 138ms\n",
      "184:\tlearn: 0.0061244\ttotal: 1.59s\tremaining: 129ms\n",
      "185:\tlearn: 0.0060670\ttotal: 1.6s\tremaining: 120ms\n",
      "186:\tlearn: 0.0059709\ttotal: 1.61s\tremaining: 112ms\n",
      "187:\tlearn: 0.0059541\ttotal: 1.62s\tremaining: 103ms\n",
      "188:\tlearn: 0.0059174\ttotal: 1.62s\tremaining: 94.5ms\n",
      "189:\tlearn: 0.0058856\ttotal: 1.63s\tremaining: 85.9ms\n",
      "190:\tlearn: 0.0058500\ttotal: 1.64s\tremaining: 77.2ms\n",
      "191:\tlearn: 0.0058299\ttotal: 1.65s\tremaining: 68.6ms\n",
      "192:\tlearn: 0.0057341\ttotal: 1.65s\tremaining: 60ms\n",
      "193:\tlearn: 0.0057223\ttotal: 1.66s\tremaining: 51.5ms\n",
      "194:\tlearn: 0.0056610\ttotal: 1.67s\tremaining: 42.9ms\n",
      "195:\tlearn: 0.0056220\ttotal: 1.68s\tremaining: 34.3ms\n",
      "196:\tlearn: 0.0055919\ttotal: 1.69s\tremaining: 25.7ms\n",
      "197:\tlearn: 0.0055590\ttotal: 1.7s\tremaining: 17.1ms\n",
      "198:\tlearn: 0.0055289\ttotal: 1.7s\tremaining: 8.56ms\n",
      "199:\tlearn: 0.0054983\ttotal: 1.71s\tremaining: 0us\n"
     ]
    },
    {
     "data": {
      "text/plain": [
       "0.9603960396039604"
      ]
     },
     "execution_count": 74,
     "metadata": {},
     "output_type": "execute_result"
    }
   ],
   "source": [
    "cat=CatBoostClassifier(learning_rate=0.1,\n",
    "                             depth=10,\n",
    "                             iterations=200,\n",
    "                  grow_policy= 'Lossguide' )\n",
    "cat_tuned=cat.fit(X_train,y_train)\n",
    "y_pred=cat_tuned.predict(X_test)\n",
    "accuracy_score(y_pred,y_test)"
   ]
  },
  {
   "cell_type": "code",
   "execution_count": 61,
   "metadata": {},
   "outputs": [
    {
     "name": "stdout",
     "output_type": "stream",
     "text": [
      "              precision    recall  f1-score   support\n",
      "\n",
      "           0       0.96      1.00      0.98       466\n",
      "           1       1.00      0.51      0.68        39\n",
      "\n",
      "    accuracy                           0.96       505\n",
      "   macro avg       0.98      0.76      0.83       505\n",
      "weighted avg       0.96      0.96      0.96       505\n",
      " Test tuned veri seti için\n"
     ]
    }
   ],
   "source": [
    "print(classification_report(y_test,y_pred),\"Test tuned veri seti için\")"
   ]
  },
  {
   "cell_type": "markdown",
   "metadata": {},
   "source": [
    "# Naive Bayes"
   ]
  },
  {
   "cell_type": "code",
   "execution_count": 75,
   "metadata": {},
   "outputs": [
    {
     "data": {
      "text/plain": [
       "((1513, 10), (505, 10), (1513,), (505,))"
      ]
     },
     "execution_count": 75,
     "metadata": {},
     "output_type": "execute_result"
    }
   ],
   "source": [
    "X_train,X_test,y_train,y_test=train_test_split(X,y,test_size=0.25,random_state=42)\n",
    "X_train.shape, X_test.shape, y_train.shape, y_test.shape"
   ]
  },
  {
   "cell_type": "code",
   "execution_count": 76,
   "metadata": {},
   "outputs": [],
   "source": [
    "from sklearn.naive_bayes import GaussianNB"
   ]
  },
  {
   "cell_type": "code",
   "execution_count": 85,
   "metadata": {},
   "outputs": [
    {
     "data": {
      "text/plain": [
       "GaussianNB(priors=None, var_smoothing=1e-09)"
      ]
     },
     "execution_count": 85,
     "metadata": {},
     "output_type": "execute_result"
    }
   ],
   "source": [
    "nb=GaussianNB()\n",
    "nb_model=nb.fit(X_train,y_train)\n",
    "nb_model"
   ]
  },
  {
   "cell_type": "code",
   "execution_count": 86,
   "metadata": {},
   "outputs": [
    {
     "data": {
      "text/plain": [
       "array([0, 0, 0, 0, 0, 0, 0, 0, 1, 0], dtype=int64)"
      ]
     },
     "execution_count": 86,
     "metadata": {},
     "output_type": "execute_result"
    }
   ],
   "source": [
    "nb_model.predict(X_test)[0:10]"
   ]
  },
  {
   "cell_type": "code",
   "execution_count": null,
   "metadata": {},
   "outputs": [],
   "source": [
    "y_pred=nb_model.predict(X_test)"
   ]
  },
  {
   "cell_type": "code",
   "execution_count": 87,
   "metadata": {},
   "outputs": [
    {
     "data": {
      "text/plain": [
       "0.9623762376237623"
      ]
     },
     "execution_count": 87,
     "metadata": {},
     "output_type": "execute_result"
    }
   ],
   "source": [
    "accuracy_score (y_test,y_pred)"
   ]
  },
  {
   "cell_type": "code",
   "execution_count": 95,
   "metadata": {},
   "outputs": [
    {
     "name": "stdout",
     "output_type": "stream",
     "text": [
      "              precision    recall  f1-score   support\n",
      "\n",
      "           0       0.92      0.98      0.95       466\n",
      "           1       0.10      0.03      0.04        39\n",
      "\n",
      "    accuracy                           0.91       505\n",
      "   macro avg       0.51      0.50      0.50       505\n",
      "weighted avg       0.86      0.91      0.88       505\n",
      "\n"
     ]
    }
   ],
   "source": [
    "print(classification_report(y_test,y_pred))"
   ]
  },
  {
   "cell_type": "code",
   "execution_count": 88,
   "metadata": {},
   "outputs": [
    {
     "data": {
      "text/plain": [
       "0.9307418967587034"
      ]
     },
     "execution_count": 88,
     "metadata": {},
     "output_type": "execute_result"
    }
   ],
   "source": [
    "cross_val_score(nb_model, X_test,y_test,cv=10).mean()"
   ]
  },
  {
   "cell_type": "code",
   "execution_count": 77,
   "metadata": {},
   "outputs": [],
   "source": [
    "from sklearn.naive_bayes import BernoulliNB"
   ]
  },
  {
   "cell_type": "code",
   "execution_count": 78,
   "metadata": {},
   "outputs": [
    {
     "data": {
      "text/plain": [
       "BernoulliNB(alpha=1.0, binarize=0.0, class_prior=None, fit_prior=True)"
      ]
     },
     "execution_count": 78,
     "metadata": {},
     "output_type": "execute_result"
    }
   ],
   "source": [
    "bnb=BernoulliNB()\n",
    "bnb_model=bnb.fit(X_train,y_train)\n",
    "bnb_model"
   ]
  },
  {
   "cell_type": "code",
   "execution_count": 79,
   "metadata": {},
   "outputs": [],
   "source": [
    "y_pred=bnb_model.predict(X_test)"
   ]
  },
  {
   "cell_type": "code",
   "execution_count": 80,
   "metadata": {},
   "outputs": [
    {
     "data": {
      "text/plain": [
       "0.906930693069307"
      ]
     },
     "execution_count": 80,
     "metadata": {},
     "output_type": "execute_result"
    }
   ],
   "source": [
    "accuracy_score (y_test,y_pred)"
   ]
  },
  {
   "cell_type": "code",
   "execution_count": 97,
   "metadata": {},
   "outputs": [
    {
     "name": "stdout",
     "output_type": "stream",
     "text": [
      "              precision    recall  f1-score   support\n",
      "\n",
      "           0       0.92      0.98      0.95       466\n",
      "           1       0.10      0.03      0.04        39\n",
      "\n",
      "    accuracy                           0.91       505\n",
      "   macro avg       0.51      0.50      0.50       505\n",
      "weighted avg       0.86      0.91      0.88       505\n",
      "\n"
     ]
    }
   ],
   "source": [
    "print(classification_report(y_test,y_pred))"
   ]
  },
  {
   "cell_type": "code",
   "execution_count": 93,
   "metadata": {},
   "outputs": [
    {
     "data": {
      "text/plain": [
       "0.9307418967587034"
      ]
     },
     "execution_count": 93,
     "metadata": {},
     "output_type": "execute_result"
    }
   ],
   "source": [
    "cross_val_score(nb_model, X_test,y_test,cv=10).mean()"
   ]
  },
  {
   "cell_type": "markdown",
   "metadata": {},
   "source": [
    "# SVM"
   ]
  },
  {
   "cell_type": "code",
   "execution_count": 81,
   "metadata": {},
   "outputs": [
    {
     "data": {
      "text/plain": [
       "((1513, 10), (505, 10), (1513,), (505,))"
      ]
     },
     "execution_count": 81,
     "metadata": {},
     "output_type": "execute_result"
    }
   ],
   "source": [
    "X_train,X_test,y_train,y_test=train_test_split(X,y,test_size=0.25,random_state=42)\n",
    "X_train.shape, X_test.shape, y_train.shape, y_test.shape"
   ]
  },
  {
   "cell_type": "code",
   "execution_count": 80,
   "metadata": {},
   "outputs": [],
   "source": [
    "svm_model=SVC(kernel=\"linear\").fit(X_train,y_train)"
   ]
  },
  {
   "cell_type": "code",
   "execution_count": 99,
   "metadata": {},
   "outputs": [
    {
     "data": {
      "text/plain": [
       "SVC(C=1.0, cache_size=200, class_weight=None, coef0=0.0,\n",
       "    decision_function_shape='ovr', degree=3, gamma='auto_deprecated',\n",
       "    kernel='linear', max_iter=-1, probability=False, random_state=None,\n",
       "    shrinking=True, tol=0.001, verbose=False)"
      ]
     },
     "execution_count": 99,
     "metadata": {},
     "output_type": "execute_result"
    }
   ],
   "source": [
    "svm_model"
   ]
  },
  {
   "cell_type": "code",
   "execution_count": 82,
   "metadata": {},
   "outputs": [],
   "source": [
    "y_pred=svm_model.predict(X_test)"
   ]
  },
  {
   "cell_type": "code",
   "execution_count": 101,
   "metadata": {},
   "outputs": [
    {
     "data": {
      "text/plain": [
       "0.9287128712871288"
      ]
     },
     "execution_count": 101,
     "metadata": {},
     "output_type": "execute_result"
    }
   ],
   "source": [
    "accuracy_score(y_test,y_pred)"
   ]
  },
  {
   "cell_type": "code",
   "execution_count": 102,
   "metadata": {},
   "outputs": [
    {
     "name": "stdout",
     "output_type": "stream",
     "text": [
      "              precision    recall  f1-score   support\n",
      "\n",
      "           0       0.93      1.00      0.96       466\n",
      "           1       1.00      0.08      0.14        39\n",
      "\n",
      "    accuracy                           0.93       505\n",
      "   macro avg       0.96      0.54      0.55       505\n",
      "weighted avg       0.93      0.93      0.90       505\n",
      "\n"
     ]
    }
   ],
   "source": [
    "print(classification_report(y_test,y_pred))"
   ]
  },
  {
   "cell_type": "code",
   "execution_count": 104,
   "metadata": {},
   "outputs": [
    {
     "name": "stdout",
     "output_type": "stream",
     "text": [
      "Fitting 10 folds for each of 9 candidates, totalling 90 fits\n"
     ]
    },
    {
     "name": "stderr",
     "output_type": "stream",
     "text": [
      "[Parallel(n_jobs=-1)]: Using backend LokyBackend with 4 concurrent workers.\n",
      "[Parallel(n_jobs=-1)]: Done  33 tasks      | elapsed: 74.3min\n",
      "[Parallel(n_jobs=-1)]: Done  90 out of  90 | elapsed: 173.2min finished\n"
     ]
    },
    {
     "data": {
      "text/plain": [
       "GridSearchCV(cv=10, error_score='raise-deprecating',\n",
       "             estimator=SVC(C=1.0, cache_size=200, class_weight=None, coef0=0.0,\n",
       "                           decision_function_shape='ovr', degree=3,\n",
       "                           gamma='auto_deprecated', kernel='linear',\n",
       "                           max_iter=-1, probability=False, random_state=None,\n",
       "                           shrinking=True, tol=0.001, verbose=False),\n",
       "             iid='warn', n_jobs=-1,\n",
       "             param_grid={'C': array([1, 2, 3, 4, 5, 6, 7, 8, 9])},\n",
       "             pre_dispatch='2*n_jobs', refit=True, return_train_score=False,\n",
       "             scoring=None, verbose=2)"
      ]
     },
     "execution_count": 104,
     "metadata": {},
     "output_type": "execute_result"
    }
   ],
   "source": [
    "svc_params={\"C\":np.arange(1,10)}\n",
    "svc=SVC(kernel=\"linear\")\n",
    "svc_tuned=GridSearchCV(svc,svc_params,\n",
    "                         cv=10,n_jobs=-1,\n",
    "                         verbose=2)\n",
    "svc_tuned.fit(X_train,y_train)\n"
   ]
  },
  {
   "cell_type": "code",
   "execution_count": 105,
   "metadata": {},
   "outputs": [
    {
     "name": "stdout",
     "output_type": "stream",
     "text": [
      "En iyi parametreler:{'C': 3}\n"
     ]
    }
   ],
   "source": [
    "print(\"En iyi parametreler:\" + str(svc_tuned.best_params_))"
   ]
  },
  {
   "cell_type": "code",
   "execution_count": 83,
   "metadata": {},
   "outputs": [],
   "source": [
    "svc_tuned=SVC(C=3,kernel=\"linear\").fit(X_train,y_train)"
   ]
  },
  {
   "cell_type": "code",
   "execution_count": 84,
   "metadata": {},
   "outputs": [],
   "source": [
    "y_pred=svc_tuned.predict(X_test)"
   ]
  },
  {
   "cell_type": "code",
   "execution_count": 85,
   "metadata": {},
   "outputs": [
    {
     "data": {
      "text/plain": [
       "0.9287128712871288"
      ]
     },
     "execution_count": 85,
     "metadata": {},
     "output_type": "execute_result"
    }
   ],
   "source": [
    "accuracy_score(y_test,y_pred)"
   ]
  },
  {
   "cell_type": "code",
   "execution_count": 113,
   "metadata": {},
   "outputs": [
    {
     "name": "stdout",
     "output_type": "stream",
     "text": [
      "              precision    recall  f1-score   support\n",
      "\n",
      "           0       0.93      1.00      0.96       466\n",
      "           1       0.83      0.13      0.22        39\n",
      "\n",
      "    accuracy                           0.93       505\n",
      "   macro avg       0.88      0.56      0.59       505\n",
      "weighted avg       0.92      0.93      0.91       505\n",
      "\n"
     ]
    }
   ],
   "source": [
    "print(classification_report(y_test,y_pred))"
   ]
  },
  {
   "cell_type": "markdown",
   "metadata": {},
   "source": [
    "# KNN"
   ]
  },
  {
   "cell_type": "code",
   "execution_count": 86,
   "metadata": {},
   "outputs": [
    {
     "data": {
      "text/plain": [
       "((1513, 10), (505, 10), (1513,), (505,))"
      ]
     },
     "execution_count": 86,
     "metadata": {},
     "output_type": "execute_result"
    }
   ],
   "source": [
    "X_train,X_test,y_train,y_test=train_test_split(X,y,test_size=0.25,random_state=42)\n",
    "X_train.shape, X_test.shape, y_train.shape, y_test.shape"
   ]
  },
  {
   "cell_type": "code",
   "execution_count": 87,
   "metadata": {},
   "outputs": [
    {
     "data": {
      "text/plain": [
       "KNeighborsClassifier(algorithm='auto', leaf_size=30, metric='minkowski',\n",
       "                     metric_params=None, n_jobs=None, n_neighbors=5, p=2,\n",
       "                     weights='uniform')"
      ]
     },
     "execution_count": 87,
     "metadata": {},
     "output_type": "execute_result"
    }
   ],
   "source": [
    "knn=KNeighborsClassifier()\n",
    "knn_model=knn.fit(X_train,y_train)\n",
    "knn_model"
   ]
  },
  {
   "cell_type": "code",
   "execution_count": 88,
   "metadata": {},
   "outputs": [
    {
     "data": {
      "text/plain": [
       "0.9227722772277228"
      ]
     },
     "execution_count": 88,
     "metadata": {},
     "output_type": "execute_result"
    }
   ],
   "source": [
    "y_pred=knn_model.predict(X_test)\n",
    "accuracy_score(y_test,y_pred)"
   ]
  },
  {
   "cell_type": "code",
   "execution_count": 117,
   "metadata": {},
   "outputs": [
    {
     "name": "stdout",
     "output_type": "stream",
     "text": [
      "              precision    recall  f1-score   support\n",
      "\n",
      "           0       0.93      0.99      0.96       466\n",
      "           1       0.50      0.10      0.17        39\n",
      "\n",
      "    accuracy                           0.92       505\n",
      "   macro avg       0.71      0.55      0.56       505\n",
      "weighted avg       0.90      0.92      0.90       505\n",
      "\n"
     ]
    }
   ],
   "source": [
    "print(classification_report(y_test,y_pred))"
   ]
  },
  {
   "cell_type": "markdown",
   "metadata": {},
   "source": [
    "# KNN TUNED"
   ]
  },
  {
   "cell_type": "code",
   "execution_count": 122,
   "metadata": {},
   "outputs": [
    {
     "data": {
      "text/plain": [
       "GridSearchCV(cv=10, error_score='raise-deprecating',\n",
       "             estimator=KNeighborsClassifier(algorithm='auto', leaf_size=30,\n",
       "                                            metric='minkowski',\n",
       "                                            metric_params=None, n_jobs=None,\n",
       "                                            n_neighbors=5, p=2,\n",
       "                                            weights='uniform'),\n",
       "             iid='warn', n_jobs=None,\n",
       "             param_grid={'n_neighbors': array([1, 2, 3, 4, 5, 6, 7, 8, 9])},\n",
       "             pre_dispatch='2*n_jobs', refit=True, return_train_score=False,\n",
       "             scoring=None, verbose=0)"
      ]
     },
     "execution_count": 122,
     "metadata": {},
     "output_type": "execute_result"
    }
   ],
   "source": [
    "knn_params={\"n_neighbors\":np.arange(1,10)}\n",
    "knn=KNeighborsClassifier()\n",
    "knn_tuned=GridSearchCV(knn,knn_params,cv=10)\n",
    "knn_tuned.fit(X_train,y_train)"
   ]
  },
  {
   "cell_type": "code",
   "execution_count": 123,
   "metadata": {},
   "outputs": [
    {
     "name": "stdout",
     "output_type": "stream",
     "text": [
      "En iyi parametreler:{'n_neighbors': 8}\n"
     ]
    }
   ],
   "source": [
    "print(\"En iyi parametreler:\" + str(knn_tuned.best_params_))"
   ]
  },
  {
   "cell_type": "code",
   "execution_count": 89,
   "metadata": {},
   "outputs": [
    {
     "data": {
      "text/plain": [
       "0.9267326732673268"
      ]
     },
     "execution_count": 89,
     "metadata": {},
     "output_type": "execute_result"
    }
   ],
   "source": [
    "knn=KNeighborsClassifier(8)\n",
    "knn_tuned=knn.fit(X_train,y_train)\n",
    "y_pred=knn_tuned.predict(X_test)\n",
    "accuracy_score(y_test,y_pred)\n"
   ]
  },
  {
   "cell_type": "code",
   "execution_count": 90,
   "metadata": {},
   "outputs": [
    {
     "name": "stdout",
     "output_type": "stream",
     "text": [
      "              precision    recall  f1-score   support\n",
      "\n",
      "           0       0.93      1.00      0.96       466\n",
      "           1       0.75      0.08      0.14        39\n",
      "\n",
      "    accuracy                           0.93       505\n",
      "   macro avg       0.84      0.54      0.55       505\n",
      "weighted avg       0.91      0.93      0.90       505\n",
      "\n"
     ]
    }
   ],
   "source": [
    "print(classification_report(y_test,y_pred))"
   ]
  },
  {
   "cell_type": "code",
   "execution_count": 92,
   "metadata": {},
   "outputs": [
    {
     "name": "stdout",
     "output_type": "stream",
     "text": [
      "----------------------------\n",
      "RandomForestClassifier:\n",
      "Accuracy: 95.8416%\n",
      "----------------------------\n",
      "SVC:\n",
      "Accuracy: 92.8713%\n",
      "----------------------------\n",
      "CatBoostClassifier:\n",
      "Accuracy: 96.0396%\n",
      "----------------------------\n",
      "LGBMClassifier:\n",
      "Accuracy: 96.4356%\n",
      "----------------------------\n",
      "XGBClassifier:\n",
      "Accuracy: 96.6337%\n",
      "----------------------------\n",
      "GradientBoostingClassifier:\n",
      "Accuracy: 96.4356%\n",
      "----------------------------\n",
      "BernoulliNB:\n",
      "Accuracy: 90.6931%\n",
      "----------------------------\n",
      "KNeighborsClassifier:\n",
      "Accuracy: 92.6733%\n"
     ]
    }
   ],
   "source": [
    "modeller=[\n",
    "    \n",
    "    rf_tuned,\n",
    "    svc_tuned,\n",
    "    cat_tuned,\n",
    "    lgb_tuned,\n",
    "    xgb_tuned,\n",
    "    gb_tuned,\n",
    "    bnb_model,\n",
    "    knn_tuned,\n",
    "]\n",
    "for model in modeller:\n",
    "    isimler=model.__class__.__name__\n",
    "    y_pred=model.predict(X_test)\n",
    "    dogruluk=accuracy_score(y_test,y_pred)\n",
    "    print(\"-\"*28)\n",
    "    print(isimler +\":\")\n",
    "    print(\"Accuracy: {:.4%}\".format(dogruluk))"
   ]
  },
  {
   "cell_type": "code",
   "execution_count": null,
   "metadata": {},
   "outputs": [],
   "source": []
  }
 ],
 "metadata": {
  "kernelspec": {
   "display_name": "Python 3",
   "language": "python",
   "name": "python3"
  },
  "language_info": {
   "codemirror_mode": {
    "name": "ipython",
    "version": 3
   },
   "file_extension": ".py",
   "mimetype": "text/x-python",
   "name": "python",
   "nbconvert_exporter": "python",
   "pygments_lexer": "ipython3",
   "version": "3.7.3"
  }
 },
 "nbformat": 4,
 "nbformat_minor": 2
}
