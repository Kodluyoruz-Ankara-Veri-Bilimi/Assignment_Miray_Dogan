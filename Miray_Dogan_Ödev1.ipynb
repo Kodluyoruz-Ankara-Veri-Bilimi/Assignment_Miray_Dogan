{
 "cells": [
  {
   "cell_type": "code",
   "execution_count": 2,
   "metadata": {},
   "outputs": [],
   "source": [
    "import pandas as pd\n",
    "import numpy as np\n",
    "import seaborn as sns\n",
    "from sklearn.cluster import KMeans\n",
    "from sklearn.neighbors import KNeighborsRegressor\n",
    "from sklearn.ensemble import RandomForestRegressor\n",
    "from sklearn.tree import DecisionTreeClassifier\n"
   ]
  },
  {
   "cell_type": "code",
   "execution_count": null,
   "metadata": {},
   "outputs": [],
   "source": [
    "class data_information\n",
    "    def __init__(self):\n",
    "    def info(self):\n",
    "    def head(self):\n",
    "    def tail(self):\n",
    "    def corr(self,method):\n",
    "    def describe(self):\n",
    "    def isnull(self):"
   ]
  },
  {
   "cell_type": "code",
   "execution_count": null,
   "metadata": {},
   "outputs": [],
   "source": [
    "class data_visualizer\n",
    "    def __init__(self):\n",
    "    def boxplot(self,x,y):\n",
    "    def distplot():\n",
    "    def kdeplot():\n",
    "    def catplot(self,x,y):\n",
    "    def scatterplot(self,x,y):\n",
    "    def jointplot(self,x,y):"
   ]
  },
  {
   "cell_type": "code",
   "execution_count": null,
   "metadata": {},
   "outputs": [],
   "source": [
    "class data_preprocessing\n",
    "    def __init__(self):\n",
    "    def dropna(self,axis,how):\n",
    "    def fillna(self,value,method):\n",
    "    def get_dummies():\n",
    "    def normalize(X,norm='l2', *, axis=1, copy=True, return_norm=False):"
   ]
  },
  {
   "cell_type": "code",
   "execution_count": null,
   "metadata": {},
   "outputs": [],
   "source": [
    "class clustering #unsupervised#\n",
    "    def KMeans(n_cluster,n_init=10):\n",
    "    def C_Result():"
   ]
  },
  {
   "cell_type": "code",
   "execution_count": null,
   "metadata": {},
   "outputs": [],
   "source": [
    "class classification #supervised\"\n",
    "    def KNeighborsRegressor(n_neighbors):\n",
    "    def RandomForestRegressor(random_state,n_estimators,criterion,max_depth,min_samples_split): \n",
    "    def DecisionTreeClassifier(criterion='gini', splitter='best')\n",
    "    def Cl_Results():"
   ]
  }
 ],
 "metadata": {
  "kernelspec": {
   "display_name": "Python 3",
   "language": "python",
   "name": "python3"
  },
  "language_info": {
   "codemirror_mode": {
    "name": "ipython",
    "version": 3
   },
   "file_extension": ".py",
   "mimetype": "text/x-python",
   "name": "python",
   "nbconvert_exporter": "python",
   "pygments_lexer": "ipython3",
   "version": "3.7.3"
  }
 },
 "nbformat": 4,
 "nbformat_minor": 2
}
