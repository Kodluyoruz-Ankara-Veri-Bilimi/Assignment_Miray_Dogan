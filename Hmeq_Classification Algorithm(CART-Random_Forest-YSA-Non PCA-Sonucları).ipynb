{
 "cells": [
  {
   "cell_type": "code",
   "execution_count": 2,
   "metadata": {},
   "outputs": [
    {
     "data": {
      "text/plain": [
       "'C:\\\\Users\\\\Miray\\\\Desktop'"
      ]
     },
     "execution_count": 2,
     "metadata": {},
     "output_type": "execute_result"
    }
   ],
   "source": [
    "import numpy as np \n",
    "import pandas as pd\n",
    "import matplotlib.pyplot as plt\n",
    "import seaborn as sns\n",
    "import os\n",
    "os.getcwd()\n",
    "os.chdir( \"C:/Users/Miray/Desktop\")\n",
    "os.getcwd()"
   ]
  },
  {
   "cell_type": "code",
   "execution_count": 39,
   "metadata": {},
   "outputs": [
    {
     "ename": "ModuleNotFoundError",
     "evalue": "No module named 'xgboost'",
     "output_type": "error",
     "traceback": [
      "\u001b[1;31m---------------------------------------------------------------------------\u001b[0m",
      "\u001b[1;31mModuleNotFoundError\u001b[0m                       Traceback (most recent call last)",
      "\u001b[1;32m<ipython-input-39-fc7a79f1e501>\u001b[0m in \u001b[0;36m<module>\u001b[1;34m\u001b[0m\n\u001b[0;32m     23\u001b[0m \u001b[1;32mfrom\u001b[0m \u001b[0msklearn\u001b[0m\u001b[1;33m.\u001b[0m\u001b[0mensemble\u001b[0m \u001b[1;32mimport\u001b[0m \u001b[0mRandomForestClassifier\u001b[0m\u001b[1;33m\u001b[0m\u001b[1;33m\u001b[0m\u001b[0m\n\u001b[0;32m     24\u001b[0m \u001b[1;32mfrom\u001b[0m \u001b[0msklearn\u001b[0m\u001b[1;33m.\u001b[0m\u001b[0mensemble\u001b[0m \u001b[1;32mimport\u001b[0m \u001b[0mGradientBoostingClassifier\u001b[0m\u001b[1;33m\u001b[0m\u001b[1;33m\u001b[0m\u001b[0m\n\u001b[1;32m---> 25\u001b[1;33m \u001b[1;32mfrom\u001b[0m \u001b[0mxgboost\u001b[0m \u001b[1;32mimport\u001b[0m \u001b[0mXGBClassifier\u001b[0m\u001b[1;33m\u001b[0m\u001b[1;33m\u001b[0m\u001b[0m\n\u001b[0m\u001b[0;32m     26\u001b[0m \u001b[1;32mfrom\u001b[0m \u001b[0mlightgbm\u001b[0m \u001b[1;32mimport\u001b[0m \u001b[0mLGBMClassifier\u001b[0m\u001b[1;33m\u001b[0m\u001b[1;33m\u001b[0m\u001b[0m\n\u001b[0;32m     27\u001b[0m \u001b[1;32mfrom\u001b[0m \u001b[0mwarnings\u001b[0m \u001b[1;32mimport\u001b[0m \u001b[0mfilterwarnings\u001b[0m\u001b[1;33m\u001b[0m\u001b[1;33m\u001b[0m\u001b[0m\n",
      "\u001b[1;31mModuleNotFoundError\u001b[0m: No module named 'xgboost'"
     ]
    }
   ],
   "source": [
    "import pandas as pd \n",
    "import numpy as np \n",
    "import matplotlib.pyplot as plt \n",
    "import seaborn as sns \n",
    "import statsmodels.api as sm \n",
    "import statsmodels.formula.api as smf \n",
    "from sklearn.preprocessing import scale, MinMaxScaler\n",
    "from sklearn.model_selection import train_test_split, GridSearchCV, cross_val_score\n",
    "from sklearn.metrics import confusion_matrix, precision_score, recall_score, accuracy_score, classification_report\n",
    "from sklearn.metrics import roc_auc_score, roc_curve, mean_squared_error\n",
    "from sklearn import tree \n",
    "from sklearn.tree import DecisionTreeClassifier\n",
    "from sklearn.tree import DecisionTreeRegressor\n",
    "from sklearn.ensemble import RandomForestClassifier\n",
    "from sklearn.ensemble import RandomForestRegressor\n",
    "from sklearn.neighbors import KNeighborsClassifier\n",
    "from sklearn.discriminant_analysis import LinearDiscriminantAnalysis\n",
    "from sklearn.linear_model import LogisticRegression\n",
    "from sklearn.linear_model import LinearRegression\n",
    "from sklearn.svm import SVC\n",
    "from sklearn.naive_bayes import GaussianNB\n",
    "from sklearn import tree\n",
    "from sklearn.ensemble import RandomForestClassifier\n",
    "from sklearn.ensemble import GradientBoostingClassifier\n",
    "from xgboost import XGBClassifier\n",
    "from lightgbm import LGBMClassifier\n",
    "from warnings import filterwarnings\n",
    "filterwarnings('ignore')"
   ]
  },
  {
   "cell_type": "code",
   "execution_count": 40,
   "metadata": {},
   "outputs": [],
   "source": [
    "finans=pd.read_csv(\"finans.csv\")"
   ]
  },
  {
   "cell_type": "code",
   "execution_count": 41,
   "metadata": {},
   "outputs": [
    {
     "name": "stdout",
     "output_type": "stream",
     "text": [
      "<class 'pandas.core.frame.DataFrame'>\n",
      "Int64Index: 2018 entries, 153 to 3549\n",
      "Data columns (total 13 columns):\n",
      "bad        2018 non-null int64\n",
      "loan       2018 non-null int64\n",
      "mortdue    2018 non-null float64\n",
      "value      2018 non-null float64\n",
      "reason     2018 non-null object\n",
      "job        2018 non-null object\n",
      "yoj        2018 non-null float64\n",
      "derog      2018 non-null float64\n",
      "delinq     2018 non-null float64\n",
      "clage      2018 non-null float64\n",
      "ninq       2018 non-null float64\n",
      "clno       2018 non-null float64\n",
      "debtinc    2018 non-null float64\n",
      "dtypes: float64(9), int64(2), object(2)\n",
      "memory usage: 220.7+ KB\n"
     ]
    },
    {
     "data": {
      "text/html": [
       "<div>\n",
       "<style scoped>\n",
       "    .dataframe tbody tr th:only-of-type {\n",
       "        vertical-align: middle;\n",
       "    }\n",
       "\n",
       "    .dataframe tbody tr th {\n",
       "        vertical-align: top;\n",
       "    }\n",
       "\n",
       "    .dataframe thead th {\n",
       "        text-align: right;\n",
       "    }\n",
       "</style>\n",
       "<table border=\"1\" class=\"dataframe\">\n",
       "  <thead>\n",
       "    <tr style=\"text-align: right;\">\n",
       "      <th></th>\n",
       "      <th>bad</th>\n",
       "      <th>loan</th>\n",
       "      <th>mortdue</th>\n",
       "      <th>value</th>\n",
       "      <th>reason</th>\n",
       "      <th>job</th>\n",
       "      <th>yoj</th>\n",
       "      <th>derog</th>\n",
       "      <th>delinq</th>\n",
       "      <th>clage</th>\n",
       "      <th>ninq</th>\n",
       "      <th>clno</th>\n",
       "      <th>debtinc</th>\n",
       "    </tr>\n",
       "  </thead>\n",
       "  <tbody>\n",
       "    <tr>\n",
       "      <th>153</th>\n",
       "      <td>0</td>\n",
       "      <td>18200</td>\n",
       "      <td>94727.0</td>\n",
       "      <td>136877.0</td>\n",
       "      <td>DebtCon</td>\n",
       "      <td>Mgr</td>\n",
       "      <td>15.0</td>\n",
       "      <td>0.0</td>\n",
       "      <td>0.0</td>\n",
       "      <td>168.96</td>\n",
       "      <td>2.0</td>\n",
       "      <td>26.0</td>\n",
       "      <td>36.056</td>\n",
       "    </tr>\n",
       "    <tr>\n",
       "      <th>154</th>\n",
       "      <td>0</td>\n",
       "      <td>21700</td>\n",
       "      <td>79240.0</td>\n",
       "      <td>96784.0</td>\n",
       "      <td>DebtCon</td>\n",
       "      <td>Mgr</td>\n",
       "      <td>5.0</td>\n",
       "      <td>0.0</td>\n",
       "      <td>0.0</td>\n",
       "      <td>64.51</td>\n",
       "      <td>6.0</td>\n",
       "      <td>24.0</td>\n",
       "      <td>38.079</td>\n",
       "    </tr>\n",
       "    <tr>\n",
       "      <th>155</th>\n",
       "      <td>0</td>\n",
       "      <td>34100</td>\n",
       "      <td>241931.0</td>\n",
       "      <td>36486.0</td>\n",
       "      <td>DebtCon</td>\n",
       "      <td>Mgr</td>\n",
       "      <td>1.0</td>\n",
       "      <td>0.0</td>\n",
       "      <td>2.0</td>\n",
       "      <td>196.01</td>\n",
       "      <td>3.0</td>\n",
       "      <td>50.0</td>\n",
       "      <td>42.459</td>\n",
       "    </tr>\n",
       "    <tr>\n",
       "      <th>156</th>\n",
       "      <td>0</td>\n",
       "      <td>8400</td>\n",
       "      <td>62989.0</td>\n",
       "      <td>76718.0</td>\n",
       "      <td>HomeImp</td>\n",
       "      <td>Mgr</td>\n",
       "      <td>3.0</td>\n",
       "      <td>0.0</td>\n",
       "      <td>2.0</td>\n",
       "      <td>131.47</td>\n",
       "      <td>0.0</td>\n",
       "      <td>22.0</td>\n",
       "      <td>29.200</td>\n",
       "    </tr>\n",
       "    <tr>\n",
       "      <th>157</th>\n",
       "      <td>0</td>\n",
       "      <td>17400</td>\n",
       "      <td>25859.0</td>\n",
       "      <td>43684.0</td>\n",
       "      <td>DebtCon</td>\n",
       "      <td>Mgr</td>\n",
       "      <td>16.0</td>\n",
       "      <td>1.0</td>\n",
       "      <td>0.0</td>\n",
       "      <td>95.36</td>\n",
       "      <td>1.0</td>\n",
       "      <td>17.0</td>\n",
       "      <td>27.108</td>\n",
       "    </tr>\n",
       "  </tbody>\n",
       "</table>\n",
       "</div>"
      ],
      "text/plain": [
       "     bad   loan   mortdue     value   reason  job   yoj  derog  delinq  \\\n",
       "153    0  18200   94727.0  136877.0  DebtCon  Mgr  15.0    0.0     0.0   \n",
       "154    0  21700   79240.0   96784.0  DebtCon  Mgr   5.0    0.0     0.0   \n",
       "155    0  34100  241931.0   36486.0  DebtCon  Mgr   1.0    0.0     2.0   \n",
       "156    0   8400   62989.0   76718.0  HomeImp  Mgr   3.0    0.0     2.0   \n",
       "157    0  17400   25859.0   43684.0  DebtCon  Mgr  16.0    1.0     0.0   \n",
       "\n",
       "      clage  ninq  clno  debtinc  \n",
       "153  168.96   2.0  26.0   36.056  \n",
       "154   64.51   6.0  24.0   38.079  \n",
       "155  196.01   3.0  50.0   42.459  \n",
       "156  131.47   0.0  22.0   29.200  \n",
       "157   95.36   1.0  17.0   27.108  "
      ]
     },
     "execution_count": 41,
     "metadata": {},
     "output_type": "execute_result"
    }
   ],
   "source": [
    "hq=finans.copy()\n",
    "df=hq.dropna()\n",
    "df.info()\n",
    "df.head()"
   ]
  },
  {
   "cell_type": "code",
   "execution_count": 42,
   "metadata": {},
   "outputs": [
    {
     "data": {
      "text/html": [
       "<div>\n",
       "<style scoped>\n",
       "    .dataframe tbody tr th:only-of-type {\n",
       "        vertical-align: middle;\n",
       "    }\n",
       "\n",
       "    .dataframe tbody tr th {\n",
       "        vertical-align: top;\n",
       "    }\n",
       "\n",
       "    .dataframe thead th {\n",
       "        text-align: right;\n",
       "    }\n",
       "</style>\n",
       "<table border=\"1\" class=\"dataframe\">\n",
       "  <thead>\n",
       "    <tr style=\"text-align: right;\">\n",
       "      <th></th>\n",
       "      <th>reason_DebtCon</th>\n",
       "      <th>reason_HomeImp</th>\n",
       "      <th>job_Mgr</th>\n",
       "      <th>job_Office</th>\n",
       "      <th>job_Other</th>\n",
       "      <th>job_ProfEx</th>\n",
       "      <th>job_Sales</th>\n",
       "      <th>job_Self</th>\n",
       "    </tr>\n",
       "  </thead>\n",
       "  <tbody>\n",
       "    <tr>\n",
       "      <th>153</th>\n",
       "      <td>1</td>\n",
       "      <td>0</td>\n",
       "      <td>1</td>\n",
       "      <td>0</td>\n",
       "      <td>0</td>\n",
       "      <td>0</td>\n",
       "      <td>0</td>\n",
       "      <td>0</td>\n",
       "    </tr>\n",
       "    <tr>\n",
       "      <th>154</th>\n",
       "      <td>1</td>\n",
       "      <td>0</td>\n",
       "      <td>1</td>\n",
       "      <td>0</td>\n",
       "      <td>0</td>\n",
       "      <td>0</td>\n",
       "      <td>0</td>\n",
       "      <td>0</td>\n",
       "    </tr>\n",
       "    <tr>\n",
       "      <th>155</th>\n",
       "      <td>1</td>\n",
       "      <td>0</td>\n",
       "      <td>1</td>\n",
       "      <td>0</td>\n",
       "      <td>0</td>\n",
       "      <td>0</td>\n",
       "      <td>0</td>\n",
       "      <td>0</td>\n",
       "    </tr>\n",
       "    <tr>\n",
       "      <th>156</th>\n",
       "      <td>0</td>\n",
       "      <td>1</td>\n",
       "      <td>1</td>\n",
       "      <td>0</td>\n",
       "      <td>0</td>\n",
       "      <td>0</td>\n",
       "      <td>0</td>\n",
       "      <td>0</td>\n",
       "    </tr>\n",
       "    <tr>\n",
       "      <th>157</th>\n",
       "      <td>1</td>\n",
       "      <td>0</td>\n",
       "      <td>1</td>\n",
       "      <td>0</td>\n",
       "      <td>0</td>\n",
       "      <td>0</td>\n",
       "      <td>0</td>\n",
       "      <td>0</td>\n",
       "    </tr>\n",
       "  </tbody>\n",
       "</table>\n",
       "</div>"
      ],
      "text/plain": [
       "     reason_DebtCon  reason_HomeImp  job_Mgr  job_Office  job_Other  \\\n",
       "153               1               0        1           0          0   \n",
       "154               1               0        1           0          0   \n",
       "155               1               0        1           0          0   \n",
       "156               0               1        1           0          0   \n",
       "157               1               0        1           0          0   \n",
       "\n",
       "     job_ProfEx  job_Sales  job_Self  \n",
       "153           0          0         0  \n",
       "154           0          0         0  \n",
       "155           0          0         0  \n",
       "156           0          0         0  \n",
       "157           0          0         0  "
      ]
     },
     "execution_count": 42,
     "metadata": {},
     "output_type": "execute_result"
    }
   ],
   "source": [
    "dms=pd.get_dummies(df[['reason','job']])\n",
    "dms.head()"
   ]
  },
  {
   "cell_type": "code",
   "execution_count": 43,
   "metadata": {},
   "outputs": [
    {
     "data": {
      "text/html": [
       "<div>\n",
       "<style scoped>\n",
       "    .dataframe tbody tr th:only-of-type {\n",
       "        vertical-align: middle;\n",
       "    }\n",
       "\n",
       "    .dataframe tbody tr th {\n",
       "        vertical-align: top;\n",
       "    }\n",
       "\n",
       "    .dataframe thead th {\n",
       "        text-align: right;\n",
       "    }\n",
       "</style>\n",
       "<table border=\"1\" class=\"dataframe\">\n",
       "  <thead>\n",
       "    <tr style=\"text-align: right;\">\n",
       "      <th></th>\n",
       "      <th>loan</th>\n",
       "      <th>mortdue</th>\n",
       "      <th>value</th>\n",
       "      <th>yoj</th>\n",
       "      <th>derog</th>\n",
       "      <th>delinq</th>\n",
       "      <th>clage</th>\n",
       "      <th>ninq</th>\n",
       "      <th>clno</th>\n",
       "      <th>debtinc</th>\n",
       "    </tr>\n",
       "  </thead>\n",
       "  <tbody>\n",
       "    <tr>\n",
       "      <th>153</th>\n",
       "      <td>18200.0</td>\n",
       "      <td>94727.0</td>\n",
       "      <td>136877.0</td>\n",
       "      <td>15.0</td>\n",
       "      <td>0.0</td>\n",
       "      <td>0.0</td>\n",
       "      <td>168.96</td>\n",
       "      <td>2.0</td>\n",
       "      <td>26.0</td>\n",
       "      <td>36.056</td>\n",
       "    </tr>\n",
       "    <tr>\n",
       "      <th>154</th>\n",
       "      <td>21700.0</td>\n",
       "      <td>79240.0</td>\n",
       "      <td>96784.0</td>\n",
       "      <td>5.0</td>\n",
       "      <td>0.0</td>\n",
       "      <td>0.0</td>\n",
       "      <td>64.51</td>\n",
       "      <td>6.0</td>\n",
       "      <td>24.0</td>\n",
       "      <td>38.079</td>\n",
       "    </tr>\n",
       "    <tr>\n",
       "      <th>155</th>\n",
       "      <td>34100.0</td>\n",
       "      <td>241931.0</td>\n",
       "      <td>36486.0</td>\n",
       "      <td>1.0</td>\n",
       "      <td>0.0</td>\n",
       "      <td>2.0</td>\n",
       "      <td>196.01</td>\n",
       "      <td>3.0</td>\n",
       "      <td>50.0</td>\n",
       "      <td>42.459</td>\n",
       "    </tr>\n",
       "    <tr>\n",
       "      <th>156</th>\n",
       "      <td>8400.0</td>\n",
       "      <td>62989.0</td>\n",
       "      <td>76718.0</td>\n",
       "      <td>3.0</td>\n",
       "      <td>0.0</td>\n",
       "      <td>2.0</td>\n",
       "      <td>131.47</td>\n",
       "      <td>0.0</td>\n",
       "      <td>22.0</td>\n",
       "      <td>29.200</td>\n",
       "    </tr>\n",
       "    <tr>\n",
       "      <th>157</th>\n",
       "      <td>17400.0</td>\n",
       "      <td>25859.0</td>\n",
       "      <td>43684.0</td>\n",
       "      <td>16.0</td>\n",
       "      <td>1.0</td>\n",
       "      <td>0.0</td>\n",
       "      <td>95.36</td>\n",
       "      <td>1.0</td>\n",
       "      <td>17.0</td>\n",
       "      <td>27.108</td>\n",
       "    </tr>\n",
       "  </tbody>\n",
       "</table>\n",
       "</div>"
      ],
      "text/plain": [
       "        loan   mortdue     value   yoj  derog  delinq   clage  ninq  clno  \\\n",
       "153  18200.0   94727.0  136877.0  15.0    0.0     0.0  168.96   2.0  26.0   \n",
       "154  21700.0   79240.0   96784.0   5.0    0.0     0.0   64.51   6.0  24.0   \n",
       "155  34100.0  241931.0   36486.0   1.0    0.0     2.0  196.01   3.0  50.0   \n",
       "156   8400.0   62989.0   76718.0   3.0    0.0     2.0  131.47   0.0  22.0   \n",
       "157  17400.0   25859.0   43684.0  16.0    1.0     0.0   95.36   1.0  17.0   \n",
       "\n",
       "     debtinc  \n",
       "153   36.056  \n",
       "154   38.079  \n",
       "155   42.459  \n",
       "156   29.200  \n",
       "157   27.108  "
      ]
     },
     "execution_count": 43,
     "metadata": {},
     "output_type": "execute_result"
    }
   ],
   "source": [
    "y=df[\"bad\"]\n",
    "X_=df.drop([\"bad\",\"reason\",\"job\"],axis=1).astype(\"float64\")\n",
    "# X'in alacağı değerlerden kategorikleri ve hedef değişkeni sildik.\n",
    "X_.head()"
   ]
  },
  {
   "cell_type": "code",
   "execution_count": 44,
   "metadata": {},
   "outputs": [
    {
     "data": {
      "text/html": [
       "<div>\n",
       "<style scoped>\n",
       "    .dataframe tbody tr th:only-of-type {\n",
       "        vertical-align: middle;\n",
       "    }\n",
       "\n",
       "    .dataframe tbody tr th {\n",
       "        vertical-align: top;\n",
       "    }\n",
       "\n",
       "    .dataframe thead th {\n",
       "        text-align: right;\n",
       "    }\n",
       "</style>\n",
       "<table border=\"1\" class=\"dataframe\">\n",
       "  <thead>\n",
       "    <tr style=\"text-align: right;\">\n",
       "      <th></th>\n",
       "      <th>loan</th>\n",
       "      <th>mortdue</th>\n",
       "      <th>value</th>\n",
       "      <th>yoj</th>\n",
       "      <th>derog</th>\n",
       "      <th>delinq</th>\n",
       "      <th>clage</th>\n",
       "      <th>ninq</th>\n",
       "      <th>clno</th>\n",
       "      <th>debtinc</th>\n",
       "      <th>reason_HomeImp</th>\n",
       "      <th>job_Mgr</th>\n",
       "      <th>job_Office</th>\n",
       "      <th>job_Other</th>\n",
       "      <th>job_ProfEx</th>\n",
       "      <th>job_Sales</th>\n",
       "      <th>job_Self</th>\n",
       "    </tr>\n",
       "  </thead>\n",
       "  <tbody>\n",
       "    <tr>\n",
       "      <th>153</th>\n",
       "      <td>18200.0</td>\n",
       "      <td>94727.0</td>\n",
       "      <td>136877.0</td>\n",
       "      <td>15.0</td>\n",
       "      <td>0.0</td>\n",
       "      <td>0.0</td>\n",
       "      <td>168.96</td>\n",
       "      <td>2.0</td>\n",
       "      <td>26.0</td>\n",
       "      <td>36.056</td>\n",
       "      <td>0</td>\n",
       "      <td>1</td>\n",
       "      <td>0</td>\n",
       "      <td>0</td>\n",
       "      <td>0</td>\n",
       "      <td>0</td>\n",
       "      <td>0</td>\n",
       "    </tr>\n",
       "    <tr>\n",
       "      <th>154</th>\n",
       "      <td>21700.0</td>\n",
       "      <td>79240.0</td>\n",
       "      <td>96784.0</td>\n",
       "      <td>5.0</td>\n",
       "      <td>0.0</td>\n",
       "      <td>0.0</td>\n",
       "      <td>64.51</td>\n",
       "      <td>6.0</td>\n",
       "      <td>24.0</td>\n",
       "      <td>38.079</td>\n",
       "      <td>0</td>\n",
       "      <td>1</td>\n",
       "      <td>0</td>\n",
       "      <td>0</td>\n",
       "      <td>0</td>\n",
       "      <td>0</td>\n",
       "      <td>0</td>\n",
       "    </tr>\n",
       "    <tr>\n",
       "      <th>155</th>\n",
       "      <td>34100.0</td>\n",
       "      <td>241931.0</td>\n",
       "      <td>36486.0</td>\n",
       "      <td>1.0</td>\n",
       "      <td>0.0</td>\n",
       "      <td>2.0</td>\n",
       "      <td>196.01</td>\n",
       "      <td>3.0</td>\n",
       "      <td>50.0</td>\n",
       "      <td>42.459</td>\n",
       "      <td>0</td>\n",
       "      <td>1</td>\n",
       "      <td>0</td>\n",
       "      <td>0</td>\n",
       "      <td>0</td>\n",
       "      <td>0</td>\n",
       "      <td>0</td>\n",
       "    </tr>\n",
       "    <tr>\n",
       "      <th>156</th>\n",
       "      <td>8400.0</td>\n",
       "      <td>62989.0</td>\n",
       "      <td>76718.0</td>\n",
       "      <td>3.0</td>\n",
       "      <td>0.0</td>\n",
       "      <td>2.0</td>\n",
       "      <td>131.47</td>\n",
       "      <td>0.0</td>\n",
       "      <td>22.0</td>\n",
       "      <td>29.200</td>\n",
       "      <td>1</td>\n",
       "      <td>1</td>\n",
       "      <td>0</td>\n",
       "      <td>0</td>\n",
       "      <td>0</td>\n",
       "      <td>0</td>\n",
       "      <td>0</td>\n",
       "    </tr>\n",
       "    <tr>\n",
       "      <th>157</th>\n",
       "      <td>17400.0</td>\n",
       "      <td>25859.0</td>\n",
       "      <td>43684.0</td>\n",
       "      <td>16.0</td>\n",
       "      <td>1.0</td>\n",
       "      <td>0.0</td>\n",
       "      <td>95.36</td>\n",
       "      <td>1.0</td>\n",
       "      <td>17.0</td>\n",
       "      <td>27.108</td>\n",
       "      <td>0</td>\n",
       "      <td>1</td>\n",
       "      <td>0</td>\n",
       "      <td>0</td>\n",
       "      <td>0</td>\n",
       "      <td>0</td>\n",
       "      <td>0</td>\n",
       "    </tr>\n",
       "  </tbody>\n",
       "</table>\n",
       "</div>"
      ],
      "text/plain": [
       "        loan   mortdue     value   yoj  derog  delinq   clage  ninq  clno  \\\n",
       "153  18200.0   94727.0  136877.0  15.0    0.0     0.0  168.96   2.0  26.0   \n",
       "154  21700.0   79240.0   96784.0   5.0    0.0     0.0   64.51   6.0  24.0   \n",
       "155  34100.0  241931.0   36486.0   1.0    0.0     2.0  196.01   3.0  50.0   \n",
       "156   8400.0   62989.0   76718.0   3.0    0.0     2.0  131.47   0.0  22.0   \n",
       "157  17400.0   25859.0   43684.0  16.0    1.0     0.0   95.36   1.0  17.0   \n",
       "\n",
       "     debtinc  reason_HomeImp  job_Mgr  job_Office  job_Other  job_ProfEx  \\\n",
       "153   36.056               0        1           0          0           0   \n",
       "154   38.079               0        1           0          0           0   \n",
       "155   42.459               0        1           0          0           0   \n",
       "156   29.200               1        1           0          0           0   \n",
       "157   27.108               0        1           0          0           0   \n",
       "\n",
       "     job_Sales  job_Self  \n",
       "153          0         0  \n",
       "154          0         0  \n",
       "155          0         0  \n",
       "156          0         0  \n",
       "157          0         0  "
      ]
     },
     "execution_count": 44,
     "metadata": {},
     "output_type": "execute_result"
    }
   ],
   "source": [
    "X=pd.concat([X_,dms[[\"reason_HomeImp\",\"job_Mgr\",\"job_Office\",\"job_Other\",\"job_ProfEx\",\"job_Sales\",\"job_Self\"]]],axis=1) #dummy haliyle concat yaparak bağımsız değişken dataframe'i oluşturduk.\n",
    "X.head()"
   ]
  },
  {
   "cell_type": "code",
   "execution_count": 45,
   "metadata": {},
   "outputs": [
    {
     "data": {
      "text/plain": [
       "((1513, 17), (505, 17), (1513,), (505,))"
      ]
     },
     "execution_count": 45,
     "metadata": {},
     "output_type": "execute_result"
    }
   ],
   "source": [
    "X_train,X_test,y_train,y_test=train_test_split(X,y,test_size=0.25,random_state=42)\n",
    "X_train.shape, X_test.shape, y_train.shape, y_test.shape"
   ]
  },
  {
   "cell_type": "code",
   "execution_count": 46,
   "metadata": {},
   "outputs": [
    {
     "data": {
      "text/plain": [
       "0    1840\n",
       "1     178\n",
       "Name: bad, dtype: int64"
      ]
     },
     "execution_count": 46,
     "metadata": {},
     "output_type": "execute_result"
    }
   ],
   "source": [
    "df[\"bad\"].value_counts()"
   ]
  },
  {
   "cell_type": "code",
   "execution_count": 47,
   "metadata": {},
   "outputs": [
    {
     "data": {
      "text/plain": [
       "LogisticRegression(C=1.0, class_weight=None, dual=False, fit_intercept=True,\n",
       "                   intercept_scaling=1, l1_ratio=None, max_iter=100,\n",
       "                   multi_class='warn', n_jobs=None, penalty='l2',\n",
       "                   random_state=None, solver='liblinear', tol=0.0001, verbose=0,\n",
       "                   warm_start=False)"
      ]
     },
     "execution_count": 47,
     "metadata": {},
     "output_type": "execute_result"
    }
   ],
   "source": [
    "from sklearn.linear_model import LogisticRegression\n",
    "loj=LogisticRegression(solver=\"liblinear\")\n",
    "loj_model=loj.fit(X_train,y_train)\n",
    "loj_model"
   ]
  },
  {
   "cell_type": "code",
   "execution_count": 48,
   "metadata": {},
   "outputs": [],
   "source": [
    "y_pred_train=loj_model.predict(X_train)"
   ]
  },
  {
   "cell_type": "code",
   "execution_count": 49,
   "metadata": {},
   "outputs": [
    {
     "data": {
      "text/plain": [
       "array([[1370,    4],\n",
       "       [ 139,    0]], dtype=int64)"
      ]
     },
     "execution_count": 49,
     "metadata": {},
     "output_type": "execute_result"
    }
   ],
   "source": [
    "confusion_matrix(y_train,y_pred_train) "
   ]
  },
  {
   "cell_type": "code",
   "execution_count": 50,
   "metadata": {},
   "outputs": [],
   "source": [
    "y_pred_test=loj_model.predict(X_test)"
   ]
  },
  {
   "cell_type": "code",
   "execution_count": 51,
   "metadata": {},
   "outputs": [
    {
     "data": {
      "text/plain": [
       "array([[465,   1],\n",
       "       [ 39,   0]], dtype=int64)"
      ]
     },
     "execution_count": 51,
     "metadata": {},
     "output_type": "execute_result"
    }
   ],
   "source": [
    "y_pred_test=loj_model.predict(X_test)\n",
    "confusion_matrix(y_test,y_pred_test)"
   ]
  },
  {
   "cell_type": "code",
   "execution_count": 52,
   "metadata": {},
   "outputs": [
    {
     "name": "stdout",
     "output_type": "stream",
     "text": [
      "Train veri seti için :               precision    recall  f1-score   support\n",
      "\n",
      "           0       0.91      1.00      0.95      1374\n",
      "           1       0.00      0.00      0.00       139\n",
      "\n",
      "    accuracy                           0.91      1513\n",
      "   macro avg       0.45      0.50      0.48      1513\n",
      "weighted avg       0.82      0.91      0.86      1513\n",
      "\n"
     ]
    }
   ],
   "source": [
    "print(\"Train veri seti için :\", classification_report(y_train,y_pred_train))"
   ]
  },
  {
   "cell_type": "code",
   "execution_count": 53,
   "metadata": {},
   "outputs": [
    {
     "name": "stdout",
     "output_type": "stream",
     "text": [
      "Test veri seti için :               precision    recall  f1-score   support\n",
      "\n",
      "           0       0.92      1.00      0.96       466\n",
      "           1       0.00      0.00      0.00        39\n",
      "\n",
      "    accuracy                           0.92       505\n",
      "   macro avg       0.46      0.50      0.48       505\n",
      "weighted avg       0.85      0.92      0.88       505\n",
      "\n"
     ]
    }
   ],
   "source": [
    "print(\"Test veri seti için :\", classification_report(y_test,y_pred_test))"
   ]
  },
  {
   "cell_type": "code",
   "execution_count": 54,
   "metadata": {},
   "outputs": [
    {
     "data": {
      "text/plain": [
       "0.922781112444978"
      ]
     },
     "execution_count": 54,
     "metadata": {},
     "output_type": "execute_result"
    }
   ],
   "source": [
    "cross_val_score(loj_model,X_test,y_test, cv=10).mean()"
   ]
  },
  {
   "cell_type": "code",
   "execution_count": 55,
   "metadata": {},
   "outputs": [],
   "source": [
    "#Roc ve diğerlerini ekle."
   ]
  },
  {
   "cell_type": "code",
   "execution_count": 56,
   "metadata": {},
   "outputs": [],
   "source": [
    "from sklearn.tree import DecisionTreeClassifier"
   ]
  },
  {
   "cell_type": "markdown",
   "metadata": {},
   "source": [
    "# CART Algorithm"
   ]
  },
  {
   "cell_type": "code",
   "execution_count": 84,
   "metadata": {},
   "outputs": [],
   "source": [
    "cart=DecisionTreeClassifier()\n",
    "cart_model=cart.fit(X_train,y_train)"
   ]
  },
  {
   "cell_type": "code",
   "execution_count": 85,
   "metadata": {},
   "outputs": [],
   "source": [
    "y_pred_train2=cart_model.predict(X_train)"
   ]
  },
  {
   "cell_type": "code",
   "execution_count": 86,
   "metadata": {},
   "outputs": [
    {
     "name": "stdout",
     "output_type": "stream",
     "text": [
      "Train seti accuarcy: 1.0\n"
     ]
    }
   ],
   "source": [
    "print(\"Train seti accuarcy:\", accuracy_score(y_train,y_pred_train2))"
   ]
  },
  {
   "cell_type": "code",
   "execution_count": 87,
   "metadata": {},
   "outputs": [
    {
     "name": "stdout",
     "output_type": "stream",
     "text": [
      "Train seti accuarcy: 1.0\n",
      "              precision    recall  f1-score   support\n",
      "\n",
      "           0       1.00      1.00      1.00      1374\n",
      "           1       1.00      1.00      1.00       139\n",
      "\n",
      "    accuracy                           1.00      1513\n",
      "   macro avg       1.00      1.00      1.00      1513\n",
      "weighted avg       1.00      1.00      1.00      1513\n",
      "\n"
     ]
    }
   ],
   "source": [
    "print(\"Train seti accuarcy:\", accuracy_score(y_train,y_pred_train2))\n",
    "print(classification_report(y_train,y_pred_train2))"
   ]
  },
  {
   "cell_type": "code",
   "execution_count": 88,
   "metadata": {},
   "outputs": [
    {
     "name": "stdout",
     "output_type": "stream",
     "text": [
      "Test seti accuarcy: 0.9346534653465347\n",
      "              precision    recall  f1-score   support\n",
      "\n",
      "           0       0.95      0.98      0.97       466\n",
      "           1       0.61      0.44      0.51        39\n",
      "\n",
      "    accuracy                           0.93       505\n",
      "   macro avg       0.78      0.71      0.74       505\n",
      "weighted avg       0.93      0.93      0.93       505\n",
      "\n"
     ]
    }
   ],
   "source": [
    "y_pred_test2=cart_model.predict(X_test)\n",
    "print(\"Test seti accuarcy:\", accuracy_score(y_test,y_pred_test2))\n",
    "print( classification_report(y_test,y_pred_test2))"
   ]
  },
  {
   "cell_type": "code",
   "execution_count": 90,
   "metadata": {},
   "outputs": [],
   "source": [
    "cart_grid={\"max_depth\": range(1,15),\n",
    "          \"min_samples_split\" : list(range(15,50))}"
   ]
  },
  {
   "cell_type": "code",
   "execution_count": 91,
   "metadata": {},
   "outputs": [
    {
     "name": "stdout",
     "output_type": "stream",
     "text": [
      "Fitting 10 folds for each of 490 candidates, totalling 4900 fits\n"
     ]
    },
    {
     "name": "stderr",
     "output_type": "stream",
     "text": [
      "[Parallel(n_jobs=-1)]: Using backend LokyBackend with 4 concurrent workers.\n",
      "[Parallel(n_jobs=-1)]: Done  36 tasks      | elapsed:    4.1s\n",
      "[Parallel(n_jobs=-1)]: Done 4728 tasks      | elapsed:   24.4s\n",
      "[Parallel(n_jobs=-1)]: Done 4900 out of 4900 | elapsed:   25.5s finished\n"
     ]
    }
   ],
   "source": [
    "cart=tree.DecisionTreeClassifier()\n",
    "cart_cv=GridSearchCV(cart, cart_grid, cv=10, n_jobs= -1, verbose=2)\n",
    "cart_cv_model= cart_cv.fit(X_train, y_train)"
   ]
  },
  {
   "cell_type": "code",
   "execution_count": 92,
   "metadata": {},
   "outputs": [
    {
     "name": "stdout",
     "output_type": "stream",
     "text": [
      "En iyi parametreler:{'max_depth': 2, 'min_samples_split': 37}\n"
     ]
    }
   ],
   "source": [
    "print(\"En iyi parametreler:\" +str(cart_cv_model.best_params_))"
   ]
  },
  {
   "cell_type": "code",
   "execution_count": 93,
   "metadata": {},
   "outputs": [],
   "source": [
    "cart=tree.DecisionTreeClassifier(max_depth=2, min_samples_split=37)\n",
    "cart_tuned= cart.fit(X_train,y_train)"
   ]
  },
  {
   "cell_type": "code",
   "execution_count": 94,
   "metadata": {},
   "outputs": [
    {
     "name": "stdout",
     "output_type": "stream",
     "text": [
      "Tuning sonrası test accuracy score 0.9425742574257425\n",
      "              precision    recall  f1-score   support\n",
      "\n",
      "           0       0.95      0.99      0.97       466\n",
      "           1       0.78      0.36      0.49        39\n",
      "\n",
      "    accuracy                           0.94       505\n",
      "   macro avg       0.86      0.68      0.73       505\n",
      "weighted avg       0.94      0.94      0.93       505\n",
      "\n"
     ]
    }
   ],
   "source": [
    "y_pred2=cart_tuned.predict(X_test)\n",
    "print(\"Tuning sonrası test accuracy score\", accuracy_score(y_test,y_pred2)) \n",
    "print( classification_report(y_test,y_pred2))#tuning ile yükseldi."
   ]
  },
  {
   "cell_type": "code",
   "execution_count": 95,
   "metadata": {},
   "outputs": [
    {
     "data": {
      "image/png": "[encoded data removed]",
      "text/plain": [
       "<Figure size 2520x1080 with 1 Axes>"
      ]
     },
     "metadata": {
      "needs_background": "light"
     },
     "output_type": "display_data"
    }
   ],
   "source": [
    "plt.figure(figsize=(35,15))\n",
    "tree.plot_tree(cart_tuned);"
   ]
  },
  {
   "cell_type": "code",
   "execution_count": 96,
   "metadata": {},
   "outputs": [
    {
     "data": {
      "image/png": "[encoded data removed]",
      "text/plain": [
       "<Figure size 432x288 with 1 Axes>"
      ]
     },
     "metadata": {
      "needs_background": "light"
     },
     "output_type": "display_data"
    }
   ],
   "source": [
    "Importance = pd.DataFrame({\"Importance\": cart_tuned.feature_importances_*100},\n",
    "                          index = X_train.columns)\n",
    "\n",
    "Importance.sort_values(by=\"Importance\", axis=0, ascending=True).plot(kind=\"barh\")\n",
    "plt.xlabel(\"Degisken Onem Duzeyleri\")\n",
    "plt.show()"
   ]
  },
  {
   "cell_type": "markdown",
   "metadata": {},
   "source": [
    "# Random Forest Algorithm"
   ]
  },
  {
   "cell_type": "code",
   "execution_count": 66,
   "metadata": {},
   "outputs": [
    {
     "name": "stderr",
     "output_type": "stream",
     "text": [
      "C:\\Users\\Miray\\Anaconda3\\lib\\site-packages\\sklearn\\ensemble\\forest.py:245: FutureWarning: The default value of n_estimators will change from 10 in version 0.20 to 100 in 0.22.\n",
      "  \"10 in version 0.20 to 100 in 0.22.\", FutureWarning)\n"
     ]
    }
   ],
   "source": [
    "rf=RandomForestClassifier(random_state=42)\n",
    "rf_model=rf.fit(X_train,y_train)"
   ]
  },
  {
   "cell_type": "code",
   "execution_count": 74,
   "metadata": {},
   "outputs": [
    {
     "name": "stdout",
     "output_type": "stream",
     "text": [
      "Test Seti Random Forest Accuracy Score: 0.9524752475247524\n",
      "              precision    recall  f1-score   support\n",
      "\n",
      "           0       0.95      1.00      0.97       466\n",
      "           1       0.94      0.41      0.57        39\n",
      "\n",
      "    accuracy                           0.95       505\n",
      "   macro avg       0.95      0.70      0.77       505\n",
      "weighted avg       0.95      0.95      0.94       505\n",
      " Test veri seti için :\n"
     ]
    }
   ],
   "source": [
    "y_pred3=rf_model.predict(X_test)\n",
    "print(\"Test Seti Random Forest Accuracy Score:\", accuracy_score(y_test,y_pred3))\n",
    "print(classification_report(y_test,y_pred3),\"Test veri seti için :\")"
   ]
  },
  {
   "cell_type": "code",
   "execution_count": 36,
   "metadata": {},
   "outputs": [
    {
     "name": "stdout",
     "output_type": "stream",
     "text": [
      "Fitting 10 folds for each of 72 candidates, totalling 720 fits\n"
     ]
    },
    {
     "name": "stderr",
     "output_type": "stream",
     "text": [
      "[Parallel(n_jobs=-1)]: Using backend LokyBackend with 4 concurrent workers.\n",
      "[Parallel(n_jobs=-1)]: Done  33 tasks      | elapsed:   15.7s\n",
      "[Parallel(n_jobs=-1)]: Done 196 tasks      | elapsed:   22.0s\n",
      "[Parallel(n_jobs=-1)]: Done 602 tasks      | elapsed:   44.2s\n",
      "[Parallel(n_jobs=-1)]: Done 720 out of 720 | elapsed:   55.3s finished\n",
      "C:\\Users\\Miray\\Anaconda3\\lib\\site-packages\\sklearn\\model_selection\\_search.py:813: DeprecationWarning: The default of the `iid` parameter will change from True to False in version 0.22 and will be removed in 0.24. This will change numeric results when test-set sizes are unequal.\n",
      "  DeprecationWarning)\n"
     ]
    },
    {
     "data": {
      "text/plain": [
       "GridSearchCV(cv=10, error_score='raise-deprecating',\n",
       "             estimator=RandomForestRegressor(bootstrap=True, criterion='mse',\n",
       "                                             max_depth=None,\n",
       "                                             max_features='auto',\n",
       "                                             max_leaf_nodes=None,\n",
       "                                             min_impurity_decrease=0.0,\n",
       "                                             min_impurity_split=None,\n",
       "                                             min_samples_leaf=1,\n",
       "                                             min_samples_split=2,\n",
       "                                             min_weight_fraction_leaf=0.0,\n",
       "                                             n_estimators='warn', n_jobs=None,\n",
       "                                             oob_score=False, random_state=42,\n",
       "                                             verbose=0, warm_start=False),\n",
       "             iid='warn', n_jobs=-1,\n",
       "             param_grid={'max_depth': [2, 3, 4, 5, 6, 7, 8, 9],\n",
       "                         'max_features': [2, 5, 17],\n",
       "                         'n_estimators': [10, 20, 50]},\n",
       "             pre_dispatch='2*n_jobs', refit=True, return_train_score=False,\n",
       "             scoring=None, verbose=2)"
      ]
     },
     "execution_count": 36,
     "metadata": {},
     "output_type": "execute_result"
    }
   ],
   "source": [
    "rf_params={\"max_depth\": list(range(2,10)),\n",
    "        \"max_features\": [2,5,17],\n",
    "        \"n_estimators\": [10,20,50]}\n",
    "rf_model = RandomForestRegressor(random_state=42)\n",
    "\n",
    "rf_cv_model = GridSearchCV(rf_model, \n",
    "                           rf_params, \n",
    "                           cv=10, \n",
    "                           n_jobs=-1, \n",
    "                           verbose=2)\n",
    "rf_cv_model.fit(X_train, y_train)"
   ]
  },
  {
   "cell_type": "code",
   "execution_count": 69,
   "metadata": {},
   "outputs": [
    {
     "name": "stdout",
     "output_type": "stream",
     "text": [
      "Random Forest en iyi parametre değerleri: {'max_depth': 9, 'max_features': 5, 'n_estimators': 50}\n"
     ]
    }
   ],
   "source": [
    "print(\"Random Forest en iyi parametre değerleri:\",rf_cv_model.best_params_)"
   ]
  },
  {
   "cell_type": "code",
   "execution_count": 70,
   "metadata": {},
   "outputs": [
    {
     "data": {
      "text/plain": [
       "RandomForestClassifier(bootstrap=True, class_weight=None, criterion='gini',\n",
       "                       max_depth=9, max_features=5, max_leaf_nodes=None,\n",
       "                       min_impurity_decrease=0.0, min_impurity_split=None,\n",
       "                       min_samples_leaf=1, min_samples_split=2,\n",
       "                       min_weight_fraction_leaf=0.0, n_estimators=50,\n",
       "                       n_jobs=None, oob_score=False, random_state=None,\n",
       "                       verbose=0, warm_start=False)"
      ]
     },
     "execution_count": 70,
     "metadata": {},
     "output_type": "execute_result"
    }
   ],
   "source": [
    "rf_tuned=RandomForestClassifier(max_depth=9, max_features=5, n_estimators=50)\n",
    "rf_tuned.fit(X_train,y_train)"
   ]
  },
  {
   "cell_type": "code",
   "execution_count": 97,
   "metadata": {},
   "outputs": [
    {
     "name": "stdout",
     "output_type": "stream",
     "text": [
      "Random Forest Tuning Sonrası Accuracy Değeri: 0.9544554455445544\n",
      "              precision    recall  f1-score   support\n",
      "\n",
      "           0       0.95      1.00      0.98       466\n",
      "           1       1.00      0.41      0.58        39\n",
      "\n",
      "    accuracy                           0.95       505\n",
      "   macro avg       0.98      0.71      0.78       505\n",
      "weighted avg       0.96      0.95      0.95       505\n",
      " Test_tuned veri seti için\n"
     ]
    }
   ],
   "source": [
    "y_pred_tuned=rf_tuned.predict(X_test)\n",
    "print(\"Random Forest Tuning Sonrası Accuracy Değeri:\", accuracy_score(y_test,y_pred_tuned))\n",
    "print( classification_report(y_test,y_pred_tuned),\"Test_tuned veri seti için\")"
   ]
  },
  {
   "cell_type": "code",
   "execution_count": 53,
   "metadata": {},
   "outputs": [
    {
     "data": {
      "image/png": "[encoded data removed]",
      "text/plain": [
       "<Figure size 432x288 with 1 Axes>"
      ]
     },
     "metadata": {
      "needs_background": "light"
     },
     "output_type": "display_data"
    }
   ],
   "source": [
    "importance = pd.DataFrame({\"Importance\": rf_tuned.feature_importances_*100},\n",
    "                          index=X_train.columns)\n",
    "importance.sort_values(by=\"Importance\", axis=0, ascending=True).plot(kind=\"barh\", color=\"r\")\n",
    "plt.xlabel(\"Degiskenlerin Onem Duzeyleri\")\n",
    "plt.show()"
   ]
  },
  {
   "cell_type": "code",
   "execution_count": null,
   "metadata": {},
   "outputs": [],
   "source": [
    "plt.figure(figsize=(30,15))\n",
    "tree.plot_tree(rf_tuned);"
   ]
  },
  {
   "cell_type": "markdown",
   "metadata": {},
   "source": [
    "# Yapay Sinir Ağı"
   ]
  },
  {
   "cell_type": "code",
   "execution_count": 54,
   "metadata": {},
   "outputs": [],
   "source": [
    "from sklearn.preprocessing import StandardScaler\n",
    "scaler = StandardScaler()\n",
    "scaler.fit(X_train)\n",
    "X_train_scaled = scaler.transform(X_train)\n",
    "\n",
    "scaler.fit(X_test)\n",
    "X_test_scaled = scaler.transform(X_test)"
   ]
  },
  {
   "cell_type": "code",
   "execution_count": 55,
   "metadata": {},
   "outputs": [
    {
     "data": {
      "text/plain": [
       "MLPClassifier(activation='relu', alpha=0.0001, batch_size='auto', beta_1=0.9,\n",
       "              beta_2=0.999, early_stopping=False, epsilon=1e-08,\n",
       "              hidden_layer_sizes=(100, 20), learning_rate='constant',\n",
       "              learning_rate_init=0.001, max_iter=200, momentum=0.9,\n",
       "              n_iter_no_change=10, nesterovs_momentum=True, power_t=0.5,\n",
       "              random_state=None, shuffle=True, solver='adam', tol=0.0001,\n",
       "              validation_fraction=0.1, verbose=False, warm_start=False)"
      ]
     },
     "execution_count": 55,
     "metadata": {},
     "output_type": "execute_result"
    }
   ],
   "source": [
    "from sklearn.neural_network import MLPClassifier\n",
    "mlp_model = MLPClassifier(hidden_layer_sizes=(100,20)).fit(X_train_scaled, y_train)\n",
    "mlp_model"
   ]
  },
  {
   "cell_type": "code",
   "execution_count": 58,
   "metadata": {},
   "outputs": [
    {
     "name": "stdout",
     "output_type": "stream",
     "text": [
      "Yapay Sinir Ağı Accuracy Değeri: 0.9405940594059405\n"
     ]
    }
   ],
   "source": [
    "y_pred_m=mlp_model.predict(X_test_scaled)\n",
    "print(\"Yapay Sinir Ağı Accuracy Değeri:\", accuracy_score(y_test,y_pred_m))"
   ]
  },
  {
   "cell_type": "code",
   "execution_count": 59,
   "metadata": {},
   "outputs": [
    {
     "name": "stdout",
     "output_type": "stream",
     "text": [
      "Fitting 10 folds for each of 144 candidates, totalling 1440 fits\n"
     ]
    },
    {
     "name": "stderr",
     "output_type": "stream",
     "text": [
      "[Parallel(n_jobs=-1)]: Using backend LokyBackend with 4 concurrent workers.\n",
      "[Parallel(n_jobs=-1)]: Done  33 tasks      | elapsed:   20.4s\n",
      "[Parallel(n_jobs=-1)]: Done 154 tasks      | elapsed:  4.6min\n",
      "[Parallel(n_jobs=-1)]: Done 357 tasks      | elapsed:  7.5min\n",
      "[Parallel(n_jobs=-1)]: Done 640 tasks      | elapsed: 12.3min\n",
      "[Parallel(n_jobs=-1)]: Done 1005 tasks      | elapsed: 18.3min\n",
      "[Parallel(n_jobs=-1)]: Done 1440 out of 1440 | elapsed: 23.8min finished\n"
     ]
    },
    {
     "data": {
      "text/plain": [
       "GridSearchCV(cv=10, error_score='raise-deprecating',\n",
       "             estimator=MLPClassifier(activation='relu', alpha=0.0001,\n",
       "                                     batch_size='auto', beta_1=0.9,\n",
       "                                     beta_2=0.999, early_stopping=False,\n",
       "                                     epsilon=1e-08,\n",
       "                                     hidden_layer_sizes=(100, 20),\n",
       "                                     learning_rate='constant',\n",
       "                                     learning_rate_init=0.001, max_iter=200,\n",
       "                                     momentum=0.9, n_iter_no_change=10,\n",
       "                                     nesterovs_momentum=True, power_t=0.5,\n",
       "                                     random_...\n",
       "                                     solver='adam', tol=0.0001,\n",
       "                                     validation_fraction=0.1, verbose=False,\n",
       "                                     warm_start=False),\n",
       "             iid='warn', n_jobs=-1,\n",
       "             param_grid={'activation': ['relu', 'logistic'],\n",
       "                         'alpha': [0.1, 0.01, 0.02, 0.005],\n",
       "                         'hidden_layer_sizes': [(10, 10, 10), (20, 20),\n",
       "                                                (100, 50, 150), (300, 200, 150),\n",
       "                                                (3, 5), (5, 3)],\n",
       "                         'solver': ['lbfgs', 'adam', 'sgd']},\n",
       "             pre_dispatch='2*n_jobs', refit=True, return_train_score=False,\n",
       "             scoring=None, verbose=2)"
      ]
     },
     "execution_count": 59,
     "metadata": {},
     "output_type": "execute_result"
    }
   ],
   "source": [
    "mlp_param = {\"alpha\": [0.1,0.01,0.02,0.005],\n",
    "             \"hidden_layer_sizes\": [(10,10,10),\n",
    "                                    (20,20), \n",
    "                                    (100,50,150), \n",
    "                                    (300,200,150),\n",
    "                                    (3,5),\n",
    "                                    (5,3)],\n",
    "             \"activation\": [\"relu\",\"logistic\"],\n",
    "             \"solver\": [\"lbfgs\", \"adam\",\"sgd\"]}\n",
    "\n",
    "\n",
    "mlp_cv_model = GridSearchCV(mlp_model, mlp_param, cv=10, n_jobs=-1, verbose=2)\n",
    "mlp_cv_model.fit(X_train_scaled, y_train)"
   ]
  },
  {
   "cell_type": "code",
   "execution_count": 61,
   "metadata": {},
   "outputs": [
    {
     "name": "stdout",
     "output_type": "stream",
     "text": [
      "Tuning Sonrası YSA Accuracy Değeri: 0.9544554455445544\n"
     ]
    }
   ],
   "source": [
    "y_mlp_tuned=mlp_cv_model.predict(X_test_scaled)\n",
    "print(\"Tuning Sonrası YSA Accuracy Değeri:\", accuracy_score(y_test,y_mlp_tuned))"
   ]
  },
  {
   "cell_type": "code",
   "execution_count": null,
   "metadata": {},
   "outputs": [],
   "source": []
  }
 ],
 "metadata": {
  "kernelspec": {
   "display_name": "Python 3",
   "language": "python",
   "name": "python3"
  },
  "language_info": {
   "codemirror_mode": {
    "name": "ipython",
    "version": 3
   },
   "file_extension": ".py",
   "mimetype": "text/x-python",
   "name": "python",
   "nbconvert_exporter": "python",
   "pygments_lexer": "ipython3",
   "version": "3.7.3"
  }
 },
 "nbformat": 4,
 "nbformat_minor": 2
}
