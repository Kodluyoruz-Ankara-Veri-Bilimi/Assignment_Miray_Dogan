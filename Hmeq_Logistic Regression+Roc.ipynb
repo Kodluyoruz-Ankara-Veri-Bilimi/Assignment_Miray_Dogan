{
 "cells": [
  {
   "cell_type": "code",
   "execution_count": 1,
   "metadata": {},
   "outputs": [],
   "source": [
    "import numpy as np \n",
    "import pandas as pd\n",
    "import matplotlib.pyplot as plt\n",
    "import seaborn as sns\n",
    "import os\n",
    "os.getcwd()\n",
    "os.chdir( \"C:/Users/Miray/Desktop\")\n",
    "os.getcwd()\n",
    "import statsmodels.api as sm\n",
    "import statsmodels.formula.api as smf\n",
    "import seaborn as sns\n",
    "\n",
    "from sklearn.preprocessing import scale \n",
    "from sklearn.model_selection import train_test_split, GridSearchCV, cross_val_score\n",
    "from sklearn.metrics import confusion_matrix, accuracy_score, classification_report\n",
    "from sklearn.metrics import roc_auc_score,roc_curve\n",
    "import statsmodels.formula.api as smf\n",
    "import matplotlib.pyplot as plt\n",
    "\n",
    "from scipy import stats\n",
    "import scipy.stats as st\n",
    "\n",
    "from warnings import filterwarnings\n",
    "filterwarnings('ignore')"
   ]
  },
  {
   "cell_type": "markdown",
   "metadata": {},
   "source": [
    "**Bu notebook'ta ilk ödevlerden biri olan ROC Curve ve Logistic Classificatin sonuçları bulunmaktadır. Dummy variable dönüşümü yapılmıştır.**\n",
    "Split'siz olarak ve split olarak model incelenmiştir."
   ]
  },
  {
   "cell_type": "code",
   "execution_count": 2,
   "metadata": {},
   "outputs": [],
   "source": [
    "finans=pd.read_csv(\"finans.csv\")"
   ]
  },
  {
   "cell_type": "code",
   "execution_count": 3,
   "metadata": {},
   "outputs": [
    {
     "name": "stdout",
     "output_type": "stream",
     "text": [
      "<class 'pandas.core.frame.DataFrame'>\n",
      "Int64Index: 2018 entries, 153 to 3549\n",
      "Data columns (total 13 columns):\n",
      "bad        2018 non-null int64\n",
      "loan       2018 non-null int64\n",
      "mortdue    2018 non-null float64\n",
      "value      2018 non-null float64\n",
      "reason     2018 non-null object\n",
      "job        2018 non-null object\n",
      "yoj        2018 non-null float64\n",
      "derog      2018 non-null float64\n",
      "delinq     2018 non-null float64\n",
      "clage      2018 non-null float64\n",
      "ninq       2018 non-null float64\n",
      "clno       2018 non-null float64\n",
      "debtinc    2018 non-null float64\n",
      "dtypes: float64(9), int64(2), object(2)\n",
      "memory usage: 220.7+ KB\n"
     ]
    },
    {
     "data": {
      "text/html": [
       "<div>\n",
       "<style scoped>\n",
       "    .dataframe tbody tr th:only-of-type {\n",
       "        vertical-align: middle;\n",
       "    }\n",
       "\n",
       "    .dataframe tbody tr th {\n",
       "        vertical-align: top;\n",
       "    }\n",
       "\n",
       "    .dataframe thead th {\n",
       "        text-align: right;\n",
       "    }\n",
       "</style>\n",
       "<table border=\"1\" class=\"dataframe\">\n",
       "  <thead>\n",
       "    <tr style=\"text-align: right;\">\n",
       "      <th></th>\n",
       "      <th>bad</th>\n",
       "      <th>loan</th>\n",
       "      <th>mortdue</th>\n",
       "      <th>value</th>\n",
       "      <th>reason</th>\n",
       "      <th>job</th>\n",
       "      <th>yoj</th>\n",
       "      <th>derog</th>\n",
       "      <th>delinq</th>\n",
       "      <th>clage</th>\n",
       "      <th>ninq</th>\n",
       "      <th>clno</th>\n",
       "      <th>debtinc</th>\n",
       "    </tr>\n",
       "  </thead>\n",
       "  <tbody>\n",
       "    <tr>\n",
       "      <th>153</th>\n",
       "      <td>0</td>\n",
       "      <td>18200</td>\n",
       "      <td>94727.0</td>\n",
       "      <td>136877.0</td>\n",
       "      <td>DebtCon</td>\n",
       "      <td>Mgr</td>\n",
       "      <td>15.0</td>\n",
       "      <td>0.0</td>\n",
       "      <td>0.0</td>\n",
       "      <td>168.96</td>\n",
       "      <td>2.0</td>\n",
       "      <td>26.0</td>\n",
       "      <td>36.056</td>\n",
       "    </tr>\n",
       "    <tr>\n",
       "      <th>154</th>\n",
       "      <td>0</td>\n",
       "      <td>21700</td>\n",
       "      <td>79240.0</td>\n",
       "      <td>96784.0</td>\n",
       "      <td>DebtCon</td>\n",
       "      <td>Mgr</td>\n",
       "      <td>5.0</td>\n",
       "      <td>0.0</td>\n",
       "      <td>0.0</td>\n",
       "      <td>64.51</td>\n",
       "      <td>6.0</td>\n",
       "      <td>24.0</td>\n",
       "      <td>38.079</td>\n",
       "    </tr>\n",
       "    <tr>\n",
       "      <th>155</th>\n",
       "      <td>0</td>\n",
       "      <td>34100</td>\n",
       "      <td>241931.0</td>\n",
       "      <td>36486.0</td>\n",
       "      <td>DebtCon</td>\n",
       "      <td>Mgr</td>\n",
       "      <td>1.0</td>\n",
       "      <td>0.0</td>\n",
       "      <td>2.0</td>\n",
       "      <td>196.01</td>\n",
       "      <td>3.0</td>\n",
       "      <td>50.0</td>\n",
       "      <td>42.459</td>\n",
       "    </tr>\n",
       "    <tr>\n",
       "      <th>156</th>\n",
       "      <td>0</td>\n",
       "      <td>8400</td>\n",
       "      <td>62989.0</td>\n",
       "      <td>76718.0</td>\n",
       "      <td>HomeImp</td>\n",
       "      <td>Mgr</td>\n",
       "      <td>3.0</td>\n",
       "      <td>0.0</td>\n",
       "      <td>2.0</td>\n",
       "      <td>131.47</td>\n",
       "      <td>0.0</td>\n",
       "      <td>22.0</td>\n",
       "      <td>29.200</td>\n",
       "    </tr>\n",
       "    <tr>\n",
       "      <th>157</th>\n",
       "      <td>0</td>\n",
       "      <td>17400</td>\n",
       "      <td>25859.0</td>\n",
       "      <td>43684.0</td>\n",
       "      <td>DebtCon</td>\n",
       "      <td>Mgr</td>\n",
       "      <td>16.0</td>\n",
       "      <td>1.0</td>\n",
       "      <td>0.0</td>\n",
       "      <td>95.36</td>\n",
       "      <td>1.0</td>\n",
       "      <td>17.0</td>\n",
       "      <td>27.108</td>\n",
       "    </tr>\n",
       "  </tbody>\n",
       "</table>\n",
       "</div>"
      ],
      "text/plain": [
       "     bad   loan   mortdue     value   reason  job   yoj  derog  delinq  \\\n",
       "153    0  18200   94727.0  136877.0  DebtCon  Mgr  15.0    0.0     0.0   \n",
       "154    0  21700   79240.0   96784.0  DebtCon  Mgr   5.0    0.0     0.0   \n",
       "155    0  34100  241931.0   36486.0  DebtCon  Mgr   1.0    0.0     2.0   \n",
       "156    0   8400   62989.0   76718.0  HomeImp  Mgr   3.0    0.0     2.0   \n",
       "157    0  17400   25859.0   43684.0  DebtCon  Mgr  16.0    1.0     0.0   \n",
       "\n",
       "      clage  ninq  clno  debtinc  \n",
       "153  168.96   2.0  26.0   36.056  \n",
       "154   64.51   6.0  24.0   38.079  \n",
       "155  196.01   3.0  50.0   42.459  \n",
       "156  131.47   0.0  22.0   29.200  \n",
       "157   95.36   1.0  17.0   27.108  "
      ]
     },
     "execution_count": 3,
     "metadata": {},
     "output_type": "execute_result"
    }
   ],
   "source": [
    "hq=finans.copy()\n",
    "df=hq.dropna()\n",
    "df.info()\n",
    "df.head()\n"
   ]
  },
  {
   "cell_type": "code",
   "execution_count": 4,
   "metadata": {},
   "outputs": [
    {
     "data": {
      "text/plain": [
       "False"
      ]
     },
     "execution_count": 4,
     "metadata": {},
     "output_type": "execute_result"
    }
   ],
   "source": [
    "df.isnull().values.any()"
   ]
  },
  {
   "cell_type": "code",
   "execution_count": 5,
   "metadata": {},
   "outputs": [
    {
     "data": {
      "text/html": [
       "<div>\n",
       "<style scoped>\n",
       "    .dataframe tbody tr th:only-of-type {\n",
       "        vertical-align: middle;\n",
       "    }\n",
       "\n",
       "    .dataframe tbody tr th {\n",
       "        vertical-align: top;\n",
       "    }\n",
       "\n",
       "    .dataframe thead th {\n",
       "        text-align: right;\n",
       "    }\n",
       "</style>\n",
       "<table border=\"1\" class=\"dataframe\">\n",
       "  <thead>\n",
       "    <tr style=\"text-align: right;\">\n",
       "      <th></th>\n",
       "      <th>reason</th>\n",
       "      <th>job</th>\n",
       "    </tr>\n",
       "  </thead>\n",
       "  <tbody>\n",
       "    <tr>\n",
       "      <th>153</th>\n",
       "      <td>DebtCon</td>\n",
       "      <td>Mgr</td>\n",
       "    </tr>\n",
       "    <tr>\n",
       "      <th>154</th>\n",
       "      <td>DebtCon</td>\n",
       "      <td>Mgr</td>\n",
       "    </tr>\n",
       "    <tr>\n",
       "      <th>155</th>\n",
       "      <td>DebtCon</td>\n",
       "      <td>Mgr</td>\n",
       "    </tr>\n",
       "    <tr>\n",
       "      <th>156</th>\n",
       "      <td>HomeImp</td>\n",
       "      <td>Mgr</td>\n",
       "    </tr>\n",
       "    <tr>\n",
       "      <th>157</th>\n",
       "      <td>DebtCon</td>\n",
       "      <td>Mgr</td>\n",
       "    </tr>\n",
       "  </tbody>\n",
       "</table>\n",
       "</div>"
      ],
      "text/plain": [
       "      reason  job\n",
       "153  DebtCon  Mgr\n",
       "154  DebtCon  Mgr\n",
       "155  DebtCon  Mgr\n",
       "156  HomeImp  Mgr\n",
       "157  DebtCon  Mgr"
      ]
     },
     "execution_count": 5,
     "metadata": {},
     "output_type": "execute_result"
    }
   ],
   "source": [
    "kat_finans=df.select_dtypes(include=[\"object\"])\n",
    "kat_finans.head()"
   ]
  },
  {
   "cell_type": "code",
   "execution_count": 6,
   "metadata": {},
   "outputs": [
    {
     "data": {
      "text/plain": [
       "array(['DebtCon', 'HomeImp'], dtype=object)"
      ]
     },
     "execution_count": 6,
     "metadata": {},
     "output_type": "execute_result"
    }
   ],
   "source": [
    "kat_finans.reason.unique()"
   ]
  },
  {
   "cell_type": "code",
   "execution_count": 7,
   "metadata": {},
   "outputs": [
    {
     "data": {
      "text/plain": [
       "DebtCon    1428\n",
       "HomeImp     590\n",
       "Name: reason, dtype: int64"
      ]
     },
     "execution_count": 7,
     "metadata": {},
     "output_type": "execute_result"
    }
   ],
   "source": [
    "kat_finans.reason.value_counts()"
   ]
  },
  {
   "cell_type": "code",
   "execution_count": 8,
   "metadata": {},
   "outputs": [
    {
     "data": {
      "text/plain": [
       "array(['Mgr', 'Office', 'Other', 'ProfEx', 'Sales', 'Self'], dtype=object)"
      ]
     },
     "execution_count": 8,
     "metadata": {},
     "output_type": "execute_result"
    }
   ],
   "source": [
    "kat_finans.job.unique()"
   ]
  },
  {
   "cell_type": "code",
   "execution_count": 9,
   "metadata": {},
   "outputs": [
    {
     "data": {
      "text/html": [
       "<div>\n",
       "<style scoped>\n",
       "    .dataframe tbody tr th:only-of-type {\n",
       "        vertical-align: middle;\n",
       "    }\n",
       "\n",
       "    .dataframe tbody tr th {\n",
       "        vertical-align: top;\n",
       "    }\n",
       "\n",
       "    .dataframe thead th {\n",
       "        text-align: right;\n",
       "    }\n",
       "</style>\n",
       "<table border=\"1\" class=\"dataframe\">\n",
       "  <thead>\n",
       "    <tr style=\"text-align: right;\">\n",
       "      <th></th>\n",
       "      <th>reason_DebtCon</th>\n",
       "      <th>reason_HomeImp</th>\n",
       "      <th>job_Mgr</th>\n",
       "      <th>job_Office</th>\n",
       "      <th>job_Other</th>\n",
       "      <th>job_ProfEx</th>\n",
       "      <th>job_Sales</th>\n",
       "      <th>job_Self</th>\n",
       "    </tr>\n",
       "  </thead>\n",
       "  <tbody>\n",
       "    <tr>\n",
       "      <th>153</th>\n",
       "      <td>1</td>\n",
       "      <td>0</td>\n",
       "      <td>1</td>\n",
       "      <td>0</td>\n",
       "      <td>0</td>\n",
       "      <td>0</td>\n",
       "      <td>0</td>\n",
       "      <td>0</td>\n",
       "    </tr>\n",
       "    <tr>\n",
       "      <th>154</th>\n",
       "      <td>1</td>\n",
       "      <td>0</td>\n",
       "      <td>1</td>\n",
       "      <td>0</td>\n",
       "      <td>0</td>\n",
       "      <td>0</td>\n",
       "      <td>0</td>\n",
       "      <td>0</td>\n",
       "    </tr>\n",
       "    <tr>\n",
       "      <th>155</th>\n",
       "      <td>1</td>\n",
       "      <td>0</td>\n",
       "      <td>1</td>\n",
       "      <td>0</td>\n",
       "      <td>0</td>\n",
       "      <td>0</td>\n",
       "      <td>0</td>\n",
       "      <td>0</td>\n",
       "    </tr>\n",
       "    <tr>\n",
       "      <th>156</th>\n",
       "      <td>0</td>\n",
       "      <td>1</td>\n",
       "      <td>1</td>\n",
       "      <td>0</td>\n",
       "      <td>0</td>\n",
       "      <td>0</td>\n",
       "      <td>0</td>\n",
       "      <td>0</td>\n",
       "    </tr>\n",
       "    <tr>\n",
       "      <th>157</th>\n",
       "      <td>1</td>\n",
       "      <td>0</td>\n",
       "      <td>1</td>\n",
       "      <td>0</td>\n",
       "      <td>0</td>\n",
       "      <td>0</td>\n",
       "      <td>0</td>\n",
       "      <td>0</td>\n",
       "    </tr>\n",
       "  </tbody>\n",
       "</table>\n",
       "</div>"
      ],
      "text/plain": [
       "     reason_DebtCon  reason_HomeImp  job_Mgr  job_Office  job_Other  \\\n",
       "153               1               0        1           0          0   \n",
       "154               1               0        1           0          0   \n",
       "155               1               0        1           0          0   \n",
       "156               0               1        1           0          0   \n",
       "157               1               0        1           0          0   \n",
       "\n",
       "     job_ProfEx  job_Sales  job_Self  \n",
       "153           0          0         0  \n",
       "154           0          0         0  \n",
       "155           0          0         0  \n",
       "156           0          0         0  \n",
       "157           0          0         0  "
      ]
     },
     "execution_count": 9,
     "metadata": {},
     "output_type": "execute_result"
    }
   ],
   "source": [
    "dms=pd.get_dummies(df[['reason','job']])\n",
    "dms.head()"
   ]
  },
  {
   "cell_type": "code",
   "execution_count": 10,
   "metadata": {},
   "outputs": [
    {
     "data": {
      "text/html": [
       "<div>\n",
       "<style scoped>\n",
       "    .dataframe tbody tr th:only-of-type {\n",
       "        vertical-align: middle;\n",
       "    }\n",
       "\n",
       "    .dataframe tbody tr th {\n",
       "        vertical-align: top;\n",
       "    }\n",
       "\n",
       "    .dataframe thead th {\n",
       "        text-align: right;\n",
       "    }\n",
       "</style>\n",
       "<table border=\"1\" class=\"dataframe\">\n",
       "  <thead>\n",
       "    <tr style=\"text-align: right;\">\n",
       "      <th></th>\n",
       "      <th>loan</th>\n",
       "      <th>mortdue</th>\n",
       "      <th>value</th>\n",
       "      <th>yoj</th>\n",
       "      <th>derog</th>\n",
       "      <th>delinq</th>\n",
       "      <th>clage</th>\n",
       "      <th>ninq</th>\n",
       "      <th>clno</th>\n",
       "      <th>debtinc</th>\n",
       "    </tr>\n",
       "  </thead>\n",
       "  <tbody>\n",
       "    <tr>\n",
       "      <th>153</th>\n",
       "      <td>18200.0</td>\n",
       "      <td>94727.0</td>\n",
       "      <td>136877.0</td>\n",
       "      <td>15.0</td>\n",
       "      <td>0.0</td>\n",
       "      <td>0.0</td>\n",
       "      <td>168.96</td>\n",
       "      <td>2.0</td>\n",
       "      <td>26.0</td>\n",
       "      <td>36.056</td>\n",
       "    </tr>\n",
       "    <tr>\n",
       "      <th>154</th>\n",
       "      <td>21700.0</td>\n",
       "      <td>79240.0</td>\n",
       "      <td>96784.0</td>\n",
       "      <td>5.0</td>\n",
       "      <td>0.0</td>\n",
       "      <td>0.0</td>\n",
       "      <td>64.51</td>\n",
       "      <td>6.0</td>\n",
       "      <td>24.0</td>\n",
       "      <td>38.079</td>\n",
       "    </tr>\n",
       "    <tr>\n",
       "      <th>155</th>\n",
       "      <td>34100.0</td>\n",
       "      <td>241931.0</td>\n",
       "      <td>36486.0</td>\n",
       "      <td>1.0</td>\n",
       "      <td>0.0</td>\n",
       "      <td>2.0</td>\n",
       "      <td>196.01</td>\n",
       "      <td>3.0</td>\n",
       "      <td>50.0</td>\n",
       "      <td>42.459</td>\n",
       "    </tr>\n",
       "    <tr>\n",
       "      <th>156</th>\n",
       "      <td>8400.0</td>\n",
       "      <td>62989.0</td>\n",
       "      <td>76718.0</td>\n",
       "      <td>3.0</td>\n",
       "      <td>0.0</td>\n",
       "      <td>2.0</td>\n",
       "      <td>131.47</td>\n",
       "      <td>0.0</td>\n",
       "      <td>22.0</td>\n",
       "      <td>29.200</td>\n",
       "    </tr>\n",
       "    <tr>\n",
       "      <th>157</th>\n",
       "      <td>17400.0</td>\n",
       "      <td>25859.0</td>\n",
       "      <td>43684.0</td>\n",
       "      <td>16.0</td>\n",
       "      <td>1.0</td>\n",
       "      <td>0.0</td>\n",
       "      <td>95.36</td>\n",
       "      <td>1.0</td>\n",
       "      <td>17.0</td>\n",
       "      <td>27.108</td>\n",
       "    </tr>\n",
       "  </tbody>\n",
       "</table>\n",
       "</div>"
      ],
      "text/plain": [
       "        loan   mortdue     value   yoj  derog  delinq   clage  ninq  clno  \\\n",
       "153  18200.0   94727.0  136877.0  15.0    0.0     0.0  168.96   2.0  26.0   \n",
       "154  21700.0   79240.0   96784.0   5.0    0.0     0.0   64.51   6.0  24.0   \n",
       "155  34100.0  241931.0   36486.0   1.0    0.0     2.0  196.01   3.0  50.0   \n",
       "156   8400.0   62989.0   76718.0   3.0    0.0     2.0  131.47   0.0  22.0   \n",
       "157  17400.0   25859.0   43684.0  16.0    1.0     0.0   95.36   1.0  17.0   \n",
       "\n",
       "     debtinc  \n",
       "153   36.056  \n",
       "154   38.079  \n",
       "155   42.459  \n",
       "156   29.200  \n",
       "157   27.108  "
      ]
     },
     "execution_count": 10,
     "metadata": {},
     "output_type": "execute_result"
    }
   ],
   "source": [
    "y=df[\"bad\"]\n",
    "X_=df.drop([\"bad\",\"reason\",\"job\"],axis=1).astype(\"float64\")\n",
    "# X'in alacağı değerlerden kategorikleri ve hedef değişkeni sildik.\n",
    "X_.head()"
   ]
  },
  {
   "cell_type": "code",
   "execution_count": 11,
   "metadata": {},
   "outputs": [
    {
     "data": {
      "text/html": [
       "<div>\n",
       "<style scoped>\n",
       "    .dataframe tbody tr th:only-of-type {\n",
       "        vertical-align: middle;\n",
       "    }\n",
       "\n",
       "    .dataframe tbody tr th {\n",
       "        vertical-align: top;\n",
       "    }\n",
       "\n",
       "    .dataframe thead th {\n",
       "        text-align: right;\n",
       "    }\n",
       "</style>\n",
       "<table border=\"1\" class=\"dataframe\">\n",
       "  <thead>\n",
       "    <tr style=\"text-align: right;\">\n",
       "      <th></th>\n",
       "      <th>loan</th>\n",
       "      <th>mortdue</th>\n",
       "      <th>value</th>\n",
       "      <th>yoj</th>\n",
       "      <th>derog</th>\n",
       "      <th>delinq</th>\n",
       "      <th>clage</th>\n",
       "      <th>ninq</th>\n",
       "      <th>clno</th>\n",
       "      <th>debtinc</th>\n",
       "      <th>reason_HomeImp</th>\n",
       "      <th>job_Mgr</th>\n",
       "      <th>job_Office</th>\n",
       "      <th>job_Other</th>\n",
       "      <th>job_ProfEx</th>\n",
       "      <th>job_Sales</th>\n",
       "      <th>job_Self</th>\n",
       "    </tr>\n",
       "  </thead>\n",
       "  <tbody>\n",
       "    <tr>\n",
       "      <th>153</th>\n",
       "      <td>18200.0</td>\n",
       "      <td>94727.0</td>\n",
       "      <td>136877.0</td>\n",
       "      <td>15.0</td>\n",
       "      <td>0.0</td>\n",
       "      <td>0.0</td>\n",
       "      <td>168.96</td>\n",
       "      <td>2.0</td>\n",
       "      <td>26.0</td>\n",
       "      <td>36.056</td>\n",
       "      <td>0</td>\n",
       "      <td>1</td>\n",
       "      <td>0</td>\n",
       "      <td>0</td>\n",
       "      <td>0</td>\n",
       "      <td>0</td>\n",
       "      <td>0</td>\n",
       "    </tr>\n",
       "    <tr>\n",
       "      <th>154</th>\n",
       "      <td>21700.0</td>\n",
       "      <td>79240.0</td>\n",
       "      <td>96784.0</td>\n",
       "      <td>5.0</td>\n",
       "      <td>0.0</td>\n",
       "      <td>0.0</td>\n",
       "      <td>64.51</td>\n",
       "      <td>6.0</td>\n",
       "      <td>24.0</td>\n",
       "      <td>38.079</td>\n",
       "      <td>0</td>\n",
       "      <td>1</td>\n",
       "      <td>0</td>\n",
       "      <td>0</td>\n",
       "      <td>0</td>\n",
       "      <td>0</td>\n",
       "      <td>0</td>\n",
       "    </tr>\n",
       "    <tr>\n",
       "      <th>155</th>\n",
       "      <td>34100.0</td>\n",
       "      <td>241931.0</td>\n",
       "      <td>36486.0</td>\n",
       "      <td>1.0</td>\n",
       "      <td>0.0</td>\n",
       "      <td>2.0</td>\n",
       "      <td>196.01</td>\n",
       "      <td>3.0</td>\n",
       "      <td>50.0</td>\n",
       "      <td>42.459</td>\n",
       "      <td>0</td>\n",
       "      <td>1</td>\n",
       "      <td>0</td>\n",
       "      <td>0</td>\n",
       "      <td>0</td>\n",
       "      <td>0</td>\n",
       "      <td>0</td>\n",
       "    </tr>\n",
       "    <tr>\n",
       "      <th>156</th>\n",
       "      <td>8400.0</td>\n",
       "      <td>62989.0</td>\n",
       "      <td>76718.0</td>\n",
       "      <td>3.0</td>\n",
       "      <td>0.0</td>\n",
       "      <td>2.0</td>\n",
       "      <td>131.47</td>\n",
       "      <td>0.0</td>\n",
       "      <td>22.0</td>\n",
       "      <td>29.200</td>\n",
       "      <td>1</td>\n",
       "      <td>1</td>\n",
       "      <td>0</td>\n",
       "      <td>0</td>\n",
       "      <td>0</td>\n",
       "      <td>0</td>\n",
       "      <td>0</td>\n",
       "    </tr>\n",
       "    <tr>\n",
       "      <th>157</th>\n",
       "      <td>17400.0</td>\n",
       "      <td>25859.0</td>\n",
       "      <td>43684.0</td>\n",
       "      <td>16.0</td>\n",
       "      <td>1.0</td>\n",
       "      <td>0.0</td>\n",
       "      <td>95.36</td>\n",
       "      <td>1.0</td>\n",
       "      <td>17.0</td>\n",
       "      <td>27.108</td>\n",
       "      <td>0</td>\n",
       "      <td>1</td>\n",
       "      <td>0</td>\n",
       "      <td>0</td>\n",
       "      <td>0</td>\n",
       "      <td>0</td>\n",
       "      <td>0</td>\n",
       "    </tr>\n",
       "  </tbody>\n",
       "</table>\n",
       "</div>"
      ],
      "text/plain": [
       "        loan   mortdue     value   yoj  derog  delinq   clage  ninq  clno  \\\n",
       "153  18200.0   94727.0  136877.0  15.0    0.0     0.0  168.96   2.0  26.0   \n",
       "154  21700.0   79240.0   96784.0   5.0    0.0     0.0   64.51   6.0  24.0   \n",
       "155  34100.0  241931.0   36486.0   1.0    0.0     2.0  196.01   3.0  50.0   \n",
       "156   8400.0   62989.0   76718.0   3.0    0.0     2.0  131.47   0.0  22.0   \n",
       "157  17400.0   25859.0   43684.0  16.0    1.0     0.0   95.36   1.0  17.0   \n",
       "\n",
       "     debtinc  reason_HomeImp  job_Mgr  job_Office  job_Other  job_ProfEx  \\\n",
       "153   36.056               0        1           0          0           0   \n",
       "154   38.079               0        1           0          0           0   \n",
       "155   42.459               0        1           0          0           0   \n",
       "156   29.200               1        1           0          0           0   \n",
       "157   27.108               0        1           0          0           0   \n",
       "\n",
       "     job_Sales  job_Self  \n",
       "153          0         0  \n",
       "154          0         0  \n",
       "155          0         0  \n",
       "156          0         0  \n",
       "157          0         0  "
      ]
     },
     "execution_count": 11,
     "metadata": {},
     "output_type": "execute_result"
    }
   ],
   "source": [
    "X=pd.concat([X_,dms[[\"reason_HomeImp\",\"job_Mgr\",\"job_Office\",\"job_Other\",\"job_ProfEx\",\"job_Sales\",\"job_Self\"]]],axis=1) #dummy haliyle concat yaparak bağımsız değişken dataframe'i oluşturduk.\n",
    "X.head()"
   ]
  },
  {
   "cell_type": "code",
   "execution_count": 12,
   "metadata": {},
   "outputs": [],
   "source": [
    "#Lojistik Regresyon"
   ]
  },
  {
   "cell_type": "code",
   "execution_count": 13,
   "metadata": {},
   "outputs": [],
   "source": [
    "#Öncelikle bağımlı değişkenimizi inceleyelim. "
   ]
  },
  {
   "cell_type": "code",
   "execution_count": 14,
   "metadata": {},
   "outputs": [
    {
     "data": {
      "text/plain": [
       "0    1840\n",
       "1     178\n",
       "Name: bad, dtype: int64"
      ]
     },
     "execution_count": 14,
     "metadata": {},
     "output_type": "execute_result"
    }
   ],
   "source": [
    "df[\"bad\"].value_counts() #0'lar iyi müşteri ve 1'ler kötü müşteri. Henüz hangisine odaklanacağıma karar vermedim."
   ]
  },
  {
   "cell_type": "code",
   "execution_count": 15,
   "metadata": {},
   "outputs": [],
   "source": [
    "#stats.model"
   ]
  },
  {
   "cell_type": "code",
   "execution_count": 16,
   "metadata": {},
   "outputs": [
    {
     "name": "stdout",
     "output_type": "stream",
     "text": [
      "Optimization terminated successfully.\n",
      "         Current function value: 0.228362\n",
      "         Iterations 8\n"
     ]
    },
    {
     "data": {
      "text/html": [
       "<table class=\"simpletable\">\n",
       "<caption>Logit Regression Results</caption>\n",
       "<tr>\n",
       "  <th>Dep. Variable:</th>          <td>bad</td>       <th>  No. Observations:  </th>  <td>  2018</td>  \n",
       "</tr>\n",
       "<tr>\n",
       "  <th>Model:</th>                 <td>Logit</td>      <th>  Df Residuals:      </th>  <td>  2001</td>  \n",
       "</tr>\n",
       "<tr>\n",
       "  <th>Method:</th>                 <td>MLE</td>       <th>  Df Model:          </th>  <td>    16</td>  \n",
       "</tr>\n",
       "<tr>\n",
       "  <th>Date:</th>            <td>Sun, 23 Aug 2020</td> <th>  Pseudo R-squ.:     </th>  <td>0.2346</td>  \n",
       "</tr>\n",
       "<tr>\n",
       "  <th>Time:</th>                <td>12:51:44</td>     <th>  Log-Likelihood:    </th> <td> -460.84</td> \n",
       "</tr>\n",
       "<tr>\n",
       "  <th>converged:</th>             <td>True</td>       <th>  LL-Null:           </th> <td> -602.11</td> \n",
       "</tr>\n",
       "<tr>\n",
       "  <th>Covariance Type:</th>     <td>nonrobust</td>    <th>  LLR p-value:       </th> <td>1.039e-50</td>\n",
       "</tr>\n",
       "</table>\n",
       "<table class=\"simpletable\">\n",
       "<tr>\n",
       "         <td></td>           <th>coef</th>     <th>std err</th>      <th>z</th>      <th>P>|z|</th>  <th>[0.025</th>    <th>0.975]</th>  \n",
       "</tr>\n",
       "<tr>\n",
       "  <th>loan</th>           <td> -1.73e-05</td> <td> 1.05e-05</td> <td>   -1.640</td> <td> 0.101</td> <td> -3.8e-05</td> <td> 3.37e-06</td>\n",
       "</tr>\n",
       "<tr>\n",
       "  <th>mortdue</th>        <td>-4.777e-06</td> <td> 4.76e-06</td> <td>   -1.004</td> <td> 0.315</td> <td>-1.41e-05</td> <td> 4.55e-06</td>\n",
       "</tr>\n",
       "<tr>\n",
       "  <th>value</th>          <td> 4.089e-06</td> <td> 4.06e-06</td> <td>    1.006</td> <td> 0.314</td> <td>-3.87e-06</td> <td> 1.21e-05</td>\n",
       "</tr>\n",
       "<tr>\n",
       "  <th>yoj</th>            <td>   -0.0109</td> <td>    0.013</td> <td>   -0.854</td> <td> 0.393</td> <td>   -0.036</td> <td>    0.014</td>\n",
       "</tr>\n",
       "<tr>\n",
       "  <th>derog</th>          <td>    0.5708</td> <td>    0.130</td> <td>    4.382</td> <td> 0.000</td> <td>    0.315</td> <td>    0.826</td>\n",
       "</tr>\n",
       "<tr>\n",
       "  <th>delinq</th>         <td>    0.7985</td> <td>    0.095</td> <td>    8.448</td> <td> 0.000</td> <td>    0.613</td> <td>    0.984</td>\n",
       "</tr>\n",
       "<tr>\n",
       "  <th>clage</th>          <td>   -0.0046</td> <td>    0.001</td> <td>   -3.354</td> <td> 0.001</td> <td>   -0.007</td> <td>   -0.002</td>\n",
       "</tr>\n",
       "<tr>\n",
       "  <th>ninq</th>           <td>    0.1119</td> <td>    0.049</td> <td>    2.303</td> <td> 0.021</td> <td>    0.017</td> <td>    0.207</td>\n",
       "</tr>\n",
       "<tr>\n",
       "  <th>clno</th>           <td>   -0.0286</td> <td>    0.011</td> <td>   -2.627</td> <td> 0.009</td> <td>   -0.050</td> <td>   -0.007</td>\n",
       "</tr>\n",
       "<tr>\n",
       "  <th>debtinc</th>        <td>    0.1143</td> <td>    0.014</td> <td>    8.222</td> <td> 0.000</td> <td>    0.087</td> <td>    0.142</td>\n",
       "</tr>\n",
       "<tr>\n",
       "  <th>reason_HomeImp</th> <td>   -0.0655</td> <td>    0.205</td> <td>   -0.319</td> <td> 0.750</td> <td>   -0.468</td> <td>    0.337</td>\n",
       "</tr>\n",
       "<tr>\n",
       "  <th>job_Mgr</th>        <td>   -5.2660</td> <td>    0.615</td> <td>   -8.559</td> <td> 0.000</td> <td>   -6.472</td> <td>   -4.060</td>\n",
       "</tr>\n",
       "<tr>\n",
       "  <th>job_Office</th>     <td>   -5.8654</td> <td>    0.631</td> <td>   -9.301</td> <td> 0.000</td> <td>   -7.101</td> <td>   -4.629</td>\n",
       "</tr>\n",
       "<tr>\n",
       "  <th>job_Other</th>      <td>   -5.3199</td> <td>    0.567</td> <td>   -9.387</td> <td> 0.000</td> <td>   -6.431</td> <td>   -4.209</td>\n",
       "</tr>\n",
       "<tr>\n",
       "  <th>job_ProfEx</th>     <td>   -5.3315</td> <td>    0.600</td> <td>   -8.888</td> <td> 0.000</td> <td>   -6.507</td> <td>   -4.156</td>\n",
       "</tr>\n",
       "<tr>\n",
       "  <th>job_Sales</th>      <td>   -4.0426</td> <td>    0.774</td> <td>   -5.222</td> <td> 0.000</td> <td>   -5.560</td> <td>   -2.525</td>\n",
       "</tr>\n",
       "<tr>\n",
       "  <th>job_Self</th>       <td>   -4.5908</td> <td>    0.796</td> <td>   -5.764</td> <td> 0.000</td> <td>   -6.152</td> <td>   -3.030</td>\n",
       "</tr>\n",
       "</table>"
      ],
      "text/plain": [
       "<class 'statsmodels.iolib.summary.Summary'>\n",
       "\"\"\"\n",
       "                           Logit Regression Results                           \n",
       "==============================================================================\n",
       "Dep. Variable:                    bad   No. Observations:                 2018\n",
       "Model:                          Logit   Df Residuals:                     2001\n",
       "Method:                           MLE   Df Model:                           16\n",
       "Date:                Sun, 23 Aug 2020   Pseudo R-squ.:                  0.2346\n",
       "Time:                        12:51:44   Log-Likelihood:                -460.84\n",
       "converged:                       True   LL-Null:                       -602.11\n",
       "Covariance Type:            nonrobust   LLR p-value:                 1.039e-50\n",
       "==================================================================================\n",
       "                     coef    std err          z      P>|z|      [0.025      0.975]\n",
       "----------------------------------------------------------------------------------\n",
       "loan            -1.73e-05   1.05e-05     -1.640      0.101    -3.8e-05    3.37e-06\n",
       "mortdue        -4.777e-06   4.76e-06     -1.004      0.315   -1.41e-05    4.55e-06\n",
       "value           4.089e-06   4.06e-06      1.006      0.314   -3.87e-06    1.21e-05\n",
       "yoj               -0.0109      0.013     -0.854      0.393      -0.036       0.014\n",
       "derog              0.5708      0.130      4.382      0.000       0.315       0.826\n",
       "delinq             0.7985      0.095      8.448      0.000       0.613       0.984\n",
       "clage             -0.0046      0.001     -3.354      0.001      -0.007      -0.002\n",
       "ninq               0.1119      0.049      2.303      0.021       0.017       0.207\n",
       "clno              -0.0286      0.011     -2.627      0.009      -0.050      -0.007\n",
       "debtinc            0.1143      0.014      8.222      0.000       0.087       0.142\n",
       "reason_HomeImp    -0.0655      0.205     -0.319      0.750      -0.468       0.337\n",
       "job_Mgr           -5.2660      0.615     -8.559      0.000      -6.472      -4.060\n",
       "job_Office        -5.8654      0.631     -9.301      0.000      -7.101      -4.629\n",
       "job_Other         -5.3199      0.567     -9.387      0.000      -6.431      -4.209\n",
       "job_ProfEx        -5.3315      0.600     -8.888      0.000      -6.507      -4.156\n",
       "job_Sales         -4.0426      0.774     -5.222      0.000      -5.560      -2.525\n",
       "job_Self          -4.5908      0.796     -5.764      0.000      -6.152      -3.030\n",
       "==================================================================================\n",
       "\"\"\""
      ]
     },
     "execution_count": 16,
     "metadata": {},
     "output_type": "execute_result"
    }
   ],
   "source": [
    "loj=sm.Logit(y,X)\n",
    "loj_model=loj.fit()\n",
    "loj_model.summary()"
   ]
  },
  {
   "cell_type": "code",
   "execution_count": 17,
   "metadata": {},
   "outputs": [
    {
     "data": {
      "text/plain": [
       "LogisticRegression(C=1.0, class_weight=None, dual=False, fit_intercept=True,\n",
       "                   intercept_scaling=1, l1_ratio=None, max_iter=100,\n",
       "                   multi_class='warn', n_jobs=None, penalty='l2',\n",
       "                   random_state=None, solver='liblinear', tol=0.0001, verbose=0,\n",
       "                   warm_start=False)"
      ]
     },
     "execution_count": 17,
     "metadata": {},
     "output_type": "execute_result"
    }
   ],
   "source": [
    "from sklearn.linear_model import LogisticRegression\n",
    "loj=LogisticRegression(solver=\"liblinear\")\n",
    "loj_model=loj.fit(X,y)\n",
    "loj_model"
   ]
  },
  {
   "cell_type": "code",
   "execution_count": 18,
   "metadata": {},
   "outputs": [
    {
     "data": {
      "text/plain": [
       "array([-0.00026794])"
      ]
     },
     "execution_count": 18,
     "metadata": {},
     "output_type": "execute_result"
    }
   ],
   "source": [
    "loj_model.intercept_ #modelin sabiti"
   ]
  },
  {
   "cell_type": "code",
   "execution_count": 19,
   "metadata": {},
   "outputs": [
    {
     "data": {
      "text/plain": [
       "array([[-2.67871942e-05, -4.06620508e-06, -1.46642679e-06,\n",
       "        -2.60005677e-03,  7.75034513e-04,  1.36265881e-03,\n",
       "        -8.93066177e-03,  6.00707297e-04, -2.31086476e-03,\n",
       "         5.32609455e-03, -8.47461296e-05,  3.03820382e-06,\n",
       "        -1.52271413e-04, -1.23831618e-04, -8.93770387e-05,\n",
       "         4.28822096e-05,  5.16178780e-05]])"
      ]
     },
     "execution_count": 19,
     "metadata": {},
     "output_type": "execute_result"
    }
   ],
   "source": [
    "loj_model.coef_ #modelin katsayıları"
   ]
  },
  {
   "cell_type": "code",
   "execution_count": 20,
   "metadata": {},
   "outputs": [],
   "source": [
    "#Tahmin ve model tuning"
   ]
  },
  {
   "cell_type": "code",
   "execution_count": 21,
   "metadata": {},
   "outputs": [],
   "source": [
    "y_pred=loj_model.predict(X) #kuralan model üzerinden tahmin edilen y değerleri"
   ]
  },
  {
   "cell_type": "code",
   "execution_count": 22,
   "metadata": {},
   "outputs": [
    {
     "data": {
      "text/plain": [
       "array([[1840,    0],\n",
       "       [ 178,    0]], dtype=int64)"
      ]
     },
     "execution_count": 22,
     "metadata": {},
     "output_type": "execute_result"
    }
   ],
   "source": [
    "confusion_matrix(y,y_pred) \n",
    "#gerçek y değerleri ve modelin tahmin ettiği y değerleri sonucu.0'ları yani iyi müşterileri gayet iyi sınıflandırmış."
   ]
  },
  {
   "cell_type": "code",
   "execution_count": 23,
   "metadata": {},
   "outputs": [
    {
     "data": {
      "text/plain": [
       "0.9117938553022795"
      ]
     },
     "execution_count": 23,
     "metadata": {},
     "output_type": "execute_result"
    }
   ],
   "source": [
    "accuracy_score(y,y_pred) \n",
    "#model'de iyi müşterileri yakalamak istiyorsam modelim iyi müşterileri yakalmakta gayet iyi. 0.91 oranında doğru sınıflandırmış"
   ]
  },
  {
   "cell_type": "code",
   "execution_count": 24,
   "metadata": {},
   "outputs": [
    {
     "name": "stdout",
     "output_type": "stream",
     "text": [
      "              precision    recall  f1-score   support\n",
      "\n",
      "           0       0.91      1.00      0.95      1840\n",
      "           1       0.00      0.00      0.00       178\n",
      "\n",
      "    accuracy                           0.91      2018\n",
      "   macro avg       0.46      0.50      0.48      2018\n",
      "weighted avg       0.83      0.91      0.87      2018\n",
      "\n"
     ]
    }
   ],
   "source": [
    "print(classification_report(y,y_pred)) #modelin 0'ları yakalamadaki gücü recall ve f score'lar dikkate alındığında gayet yüksek."
   ]
  },
  {
   "cell_type": "code",
   "execution_count": 25,
   "metadata": {},
   "outputs": [
    {
     "data": {
      "text/plain": [
       "array([0, 0, 0, 0, 0, 0, 0, 0, 0, 0], dtype=int64)"
      ]
     },
     "execution_count": 25,
     "metadata": {},
     "output_type": "execute_result"
    }
   ],
   "source": [
    "loj_model.predict(X)[0:10] #ilk 10 değeri iyi müşteri olarak tahmin etmiştir."
   ]
  },
  {
   "cell_type": "code",
   "execution_count": 26,
   "metadata": {},
   "outputs": [
    {
     "data": {
      "text/plain": [
       "153    0\n",
       "154    0\n",
       "155    0\n",
       "156    0\n",
       "157    0\n",
       "158    0\n",
       "159    0\n",
       "160    0\n",
       "161    0\n",
       "162    0\n",
       "Name: bad, dtype: int64"
      ]
     },
     "execution_count": 26,
     "metadata": {},
     "output_type": "execute_result"
    }
   ],
   "source": [
    "y[0:10]"
   ]
  },
  {
   "cell_type": "code",
   "execution_count": 27,
   "metadata": {},
   "outputs": [
    {
     "data": {
      "text/plain": [
       "array([[0.92332887, 0.07667113],\n",
       "       [0.81515207, 0.18484793],\n",
       "       [0.97311484, 0.02688516],\n",
       "       [0.84137515, 0.15862485],\n",
       "       [0.80570303, 0.19429697],\n",
       "       [0.98495045, 0.01504955],\n",
       "       [0.84665972, 0.15334028],\n",
       "       [0.95608994, 0.04391006],\n",
       "       [0.7786944 , 0.2213056 ],\n",
       "       [0.9586567 , 0.0413433 ]])"
      ]
     },
     "execution_count": 27,
     "metadata": {},
     "output_type": "execute_result"
    }
   ],
   "source": [
    "loj_model.predict_proba(X)[0:10][:,0:2] #probabilities \n",
    "#0.50'lık threshold değerine göre karar vermiştir.\n",
    "#0.index'te ilk 10 satırda 0.50'den büyük değerler good=0 olarak bulunmuştur"
   ]
  },
  {
   "cell_type": "code",
   "execution_count": 28,
   "metadata": {},
   "outputs": [],
   "source": [
    "y_probs= loj_model.predict_proba(X)\n",
    "y_probs=y_probs[:,1] #index 1'in olasılık değerleri"
   ]
  },
  {
   "cell_type": "code",
   "execution_count": 29,
   "metadata": {},
   "outputs": [
    {
     "data": {
      "text/plain": [
       "array([0.07667113, 0.18484793, 0.02688516, 0.15862485, 0.19429697,\n",
       "       0.01504955, 0.15334028, 0.04391006, 0.2213056 , 0.0413433 ])"
      ]
     },
     "execution_count": 29,
     "metadata": {},
     "output_type": "execute_result"
    }
   ],
   "source": [
    "y_probs[0:10]"
   ]
  },
  {
   "cell_type": "code",
   "execution_count": 30,
   "metadata": {},
   "outputs": [],
   "source": [
    "y_pred= [1 if i> 0.5 else 0 for i in y_probs] #index 1'i dikkate alarak."
   ]
  },
  {
   "cell_type": "code",
   "execution_count": 31,
   "metadata": {},
   "outputs": [
    {
     "data": {
      "text/plain": [
       "[0, 0, 0, 0, 0, 0, 0, 0, 0, 0]"
      ]
     },
     "execution_count": 31,
     "metadata": {},
     "output_type": "execute_result"
    }
   ],
   "source": [
    "y_pred[0:10]"
   ]
  },
  {
   "cell_type": "code",
   "execution_count": 32,
   "metadata": {},
   "outputs": [
    {
     "data": {
      "text/plain": [
       "array([[1700,  140],\n",
       "       [ 137,   41]], dtype=int64)"
      ]
     },
     "execution_count": 32,
     "metadata": {},
     "output_type": "execute_result"
    }
   ],
   "source": [
    "y_pred2=[1 if i> 0.2 else 0 for i in y_probs]\n",
    "confusion_matrix(y,y_pred2)\n",
    "#threshold değerini 0.2'ye düşürdük daha yüksek bir şekilde 1'leri tahmin etti fakat 0'ları yakalama oranı düştü.\n"
   ]
  },
  {
   "cell_type": "code",
   "execution_count": 33,
   "metadata": {},
   "outputs": [
    {
     "data": {
      "text/plain": [
       "0.8627353815659068"
      ]
     },
     "execution_count": 33,
     "metadata": {},
     "output_type": "execute_result"
    }
   ],
   "source": [
    "accuracy_score(y,y_pred2)"
   ]
  },
  {
   "cell_type": "code",
   "execution_count": 34,
   "metadata": {},
   "outputs": [
    {
     "name": "stdout",
     "output_type": "stream",
     "text": [
      "              precision    recall  f1-score   support\n",
      "\n",
      "           0       0.93      0.92      0.92      1840\n",
      "           1       0.23      0.23      0.23       178\n",
      "\n",
      "    accuracy                           0.86      2018\n",
      "   macro avg       0.58      0.58      0.58      2018\n",
      "weighted avg       0.86      0.86      0.86      2018\n",
      "\n"
     ]
    }
   ],
   "source": [
    "print(classification_report(y,y_pred2))# 1'in recall ve f1-score değerleri yükseldi"
   ]
  },
  {
   "cell_type": "markdown",
   "metadata": {},
   "source": [
    "*Roc Grafiği*"
   ]
  },
  {
   "cell_type": "code",
   "execution_count": 35,
   "metadata": {},
   "outputs": [
    {
     "data": {
      "image/png": "[encoded data removed]",
      "text/plain": [
       "<Figure size 432x288 with 1 Axes>"
      ]
     },
     "metadata": {
      "needs_background": "light"
     },
     "output_type": "display_data"
    }
   ],
   "source": [
    "logit_roc_auc= roc_auc_score(y,loj_model.predict(X))\n",
    "fpr, tpr, thresholds= roc_curve(y, loj_model.predict_proba(X)[:,1]) #verideki y=1 olan gözlemlerin % kaçına ulaştığımızı göstermektedir.\n",
    "plt.figure()\n",
    "plt.plot(fpr, tpr, label= 'AUC (area = %0.2f)' % logit_roc_auc)\n",
    "plt.plot([0, 1], [0,1], 'r--')\n",
    "plt.xlim([0.0,1.0])\n",
    "plt.ylim([0.0,1.05])\n",
    "plt.xlabel('False Positive Oranı')\n",
    "plt.ylabel('True Positive Oranı')\n",
    "plt.show()"
   ]
  },
  {
   "cell_type": "markdown",
   "metadata": {},
   "source": [
    "Verinin ilk %20'sini alırsak, kötü müşterilerin %60'na ulaşılırız."
   ]
  },
  {
   "cell_type": "markdown",
   "metadata": {},
   "source": [
    "**Veri setini train-test olarak ayıralım.**"
   ]
  },
  {
   "cell_type": "code",
   "execution_count": 36,
   "metadata": {},
   "outputs": [],
   "source": [
    "X_train, X_test, y_train, y_test=train_test_split(X,y,test_size=0.25, random_state=42)"
   ]
  },
  {
   "cell_type": "code",
   "execution_count": 37,
   "metadata": {},
   "outputs": [
    {
     "name": "stdout",
     "output_type": "stream",
     "text": [
      "Train seti Accuracy Score: 0.9081295439524124\n"
     ]
    }
   ],
   "source": [
    "print(\"Train seti Accuracy Score:\" , accuracy_score(y_train,loj_model.predict(X_train)))"
   ]
  },
  {
   "cell_type": "code",
   "execution_count": 39,
   "metadata": {},
   "outputs": [
    {
     "name": "stdout",
     "output_type": "stream",
     "text": [
      "              precision    recall  f1-score   support\n",
      "\n",
      "           0       0.91      1.00      0.95      1374\n",
      "           1       0.00      0.00      0.00       139\n",
      "\n",
      "    accuracy                           0.91      1513\n",
      "   macro avg       0.45      0.50      0.48      1513\n",
      "weighted avg       0.82      0.91      0.86      1513\n",
      "\n"
     ]
    }
   ],
   "source": [
    "print(classification_report(y_train,loj_model.predict(X_train)))"
   ]
  },
  {
   "cell_type": "code",
   "execution_count": 38,
   "metadata": {},
   "outputs": [
    {
     "name": "stdout",
     "output_type": "stream",
     "text": [
      "Test seti Accuracy Score: 0.9227722772277228\n"
     ]
    }
   ],
   "source": [
    "print(\"Test seti Accuracy Score:\", accuracy_score(y_test,loj_model.predict(X_test)))"
   ]
  },
  {
   "cell_type": "code",
   "execution_count": 40,
   "metadata": {},
   "outputs": [],
   "source": [
    "y_pred=loj_model.predict(X_test)#test setindeki X'lerden y'leri tahmin ediyorum."
   ]
  },
  {
   "cell_type": "code",
   "execution_count": 41,
   "metadata": {},
   "outputs": [
    {
     "name": "stdout",
     "output_type": "stream",
     "text": [
      "              precision    recall  f1-score   support\n",
      "\n",
      "           0       0.92      1.00      0.96       466\n",
      "           1       0.00      0.00      0.00        39\n",
      "\n",
      "    accuracy                           0.92       505\n",
      "   macro avg       0.46      0.50      0.48       505\n",
      "weighted avg       0.85      0.92      0.89       505\n",
      "\n"
     ]
    }
   ],
   "source": [
    "print(classification_report(y_test,y_pred))"
   ]
  },
  {
   "cell_type": "code",
   "execution_count": 42,
   "metadata": {},
   "outputs": [
    {
     "data": {
      "text/plain": [
       "0.922781112444978"
      ]
     },
     "execution_count": 42,
     "metadata": {},
     "output_type": "execute_result"
    }
   ],
   "source": [
    "cross_val_score(loj_model,X_test,y_test, cv=10).mean() "
   ]
  },
  {
   "cell_type": "markdown",
   "metadata": {},
   "source": [
    "_cross validation score değer ortalamaları accuracy'ye çok yakın demek ki;\n",
    "sadece iyi sample'ler şansa denk gelmemiş iyi bir model kurulmuş._"
   ]
  },
  {
   "cell_type": "markdown",
   "metadata": {},
   "source": [
    "**Train Seti için Roc Grafiği**"
   ]
  },
  {
   "cell_type": "code",
   "execution_count": 44,
   "metadata": {},
   "outputs": [
    {
     "data": {
      "image/png": "[encoded data removed]",
      "text/plain": [
       "<Figure size 432x288 with 1 Axes>"
      ]
     },
     "metadata": {
      "needs_background": "light"
     },
     "output_type": "display_data"
    }
   ],
   "source": [
    "logit_roc_auc= roc_auc_score(y_train,loj_model.predict(X_train))\n",
    "fpr, tpr, thresholds= roc_curve(y_train, loj_model.predict_proba(X_train)[:,1]) #verideki y=1 olan gözlemlerin % kaçına ulaştığımızı göstermektedir.\n",
    "plt.figure()\n",
    "plt.plot(fpr, tpr, label= 'AUC (area = %0.2f)' % logit_roc_auc)\n",
    "plt.plot([0, 1], [0,1], 'r--')\n",
    "plt.xlim([0.0,1.0])\n",
    "plt.ylim([0.0,1.05])\n",
    "plt.xlabel('False Positive Oranı')\n",
    "plt.ylabel('True Positive Oranı')\n",
    "plt.show()"
   ]
  },
  {
   "cell_type": "markdown",
   "metadata": {},
   "source": [
    "**Test Seti için Roc Grafiği**"
   ]
  },
  {
   "cell_type": "code",
   "execution_count": 45,
   "metadata": {},
   "outputs": [
    {
     "data": {
      "image/png": "[encoded data removed]",
      "text/plain": [
       "<Figure size 432x288 with 1 Axes>"
      ]
     },
     "metadata": {
      "needs_background": "light"
     },
     "output_type": "display_data"
    }
   ],
   "source": [
    "logit_roc_auc= roc_auc_score(y_test,loj_model.predict(X_test))\n",
    "fpr, tpr, thresholds= roc_curve(y_test, loj_model.predict_proba(X_test)[:,1]) #verideki y=1 olan gözlemlerin % kaçına ulaştığımızı göstermektedir.\n",
    "plt.figure()\n",
    "plt.plot(fpr, tpr, label= 'AUC (area = %0.2f)' % logit_roc_auc)\n",
    "plt.plot([0, 1], [0,1], 'r--')\n",
    "plt.xlim([0.0,1.0])\n",
    "plt.ylim([0.0,1.05])\n",
    "plt.xlabel('False Positive Oranı')\n",
    "plt.ylabel('True Positive Oranı')\n",
    "plt.show()"
   ]
  },
  {
   "cell_type": "code",
   "execution_count": null,
   "metadata": {},
   "outputs": [],
   "source": []
  }
 ],
 "metadata": {
  "kernelspec": {
   "display_name": "Python 3",
   "language": "python",
   "name": "python3"
  },
  "language_info": {
   "codemirror_mode": {
    "name": "ipython",
    "version": 3
   },
   "file_extension": ".py",
   "mimetype": "text/x-python",
   "name": "python",
   "nbconvert_exporter": "python",
   "pygments_lexer": "ipython3",
   "version": "3.7.3"
  }
 },
 "nbformat": 4,
 "nbformat_minor": 2
}
